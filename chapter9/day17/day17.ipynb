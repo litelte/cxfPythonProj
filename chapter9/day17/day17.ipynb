{
 "cells": [
  {
   "cell_type": "code",
   "execution_count": 3,
   "metadata": {},
   "outputs": [
    {
     "name": "stdout",
     "output_type": "stream",
     "text": [
      "欢迎光临，这里是心动西安\n",
      "我们店的特点是陕菜\n",
      "我们菜馆历史悠久，历史就餐人数达0人！\n",
      "我们菜馆历史悠久，历史就餐人数达23500人！\n"
     ]
    }
   ],
   "source": [
    "# 练习9-4 就餐人数\n",
    "class Restaurant:\n",
    "    def __init__(self, restaurant_name, cuisine_type,number_served=0) -> None:\n",
    "        self.restaurant_name = restaurant_name\n",
    "        self.cuisine_type = cuisine_type\n",
    "        self.number_served = number_served\n",
    "\n",
    "    def describe_restaurant(self):\n",
    "        print(f\"欢迎光临，这里是{self.restaurant_name}\")\n",
    "        print(f\"我们店的特点是{self.cuisine_type}\")\n",
    "\n",
    "    def open_restaurant(self):\n",
    "        print(f\"我宣布，这里是{self.restaurant_name}广场，大家尽管消费！野性消费！\")\n",
    "    \n",
    "first_Res = Restaurant('心动西安','陕菜')\n",
    "first_Res.describe_restaurant()\n",
    "print(f\"我们菜馆历史悠久，历史就餐人数达{first_Res.number_served}人！\")\n",
    "first_Res.number_served = 23_500\n",
    "print(f\"我们菜馆历史悠久，历史就餐人数达{first_Res.number_served}人！\")"
   ]
  },
  {
   "cell_type": "code",
   "execution_count": 16,
   "metadata": {},
   "outputs": [
    {
     "name": "stdout",
     "output_type": "stream",
     "text": [
      "欢迎光临，这里是印象陕西\n",
      "我们店的特点是特色西北菜\n",
      "我宣布，这里是印象陕西广场，大家尽管消费！野性消费！\n",
      "本店历史就餐人数为90\n",
      "本店历史就餐人数为100\n",
      "本店历史就餐人数为200\n"
     ]
    }
   ],
   "source": [
    "class Restaurant:\n",
    "    def __init__(self, restaurant_name, cuisine_type, number_served=0) -> None:\n",
    "        self.restaurant_name = restaurant_name\n",
    "        self.cuisine_type = cuisine_type\n",
    "        self.number_served = number_served\n",
    "\n",
    "    def describe_restaurant(self):\n",
    "        print(f\"欢迎光临，这里是{self.restaurant_name}\")\n",
    "        print(f\"我们店的特点是{self.cuisine_type}\")\n",
    "        if self.number_served:\n",
    "            print(f\"本店历史就餐人数为{self.number_served}\")\n",
    "\n",
    "    def open_restaurant(self):\n",
    "        print(f\"我宣布，这里是{self.restaurant_name}广场，大家尽管消费！野性消费！\")\n",
    "\n",
    "    def set_number_served(self, number_served=None):\n",
    "        if number_served:\n",
    "            self.number_served = number_served\n",
    "        print(f\"本店历史就餐人数为{self.number_served}\")\n",
    "\n",
    "    def increment_number_served(self, number_increment):\n",
    "        self.number_served += number_increment\n",
    "\n",
    "\n",
    "# 实例化一个父类\n",
    "secnd_Res = Restaurant('印象陕西', '特色西北菜')\n",
    "secnd_Res.describe_restaurant()\n",
    "secnd_Res.open_restaurant()\n",
    "secnd_Res.set_number_served(90)\n",
    "secnd_Res.increment_number_served(10)\n",
    "secnd_Res.set_number_served()\n",
    "secnd_Res.increment_number_served(100)\n",
    "secnd_Res.set_number_served()"
   ]
  },
  {
   "cell_type": "code",
   "execution_count": 24,
   "metadata": {},
   "outputs": [
    {
     "name": "stdout",
     "output_type": "stream",
     "text": [
      "姓：li，名：xiao ming\n",
      "中式叫法：li xiao ming\n",
      "你好Li Xiao Ming，很高兴见到你！\n",
      "10\n",
      "0\n"
     ]
    }
   ],
   "source": [
    "# 练习9-5 尝试登录次数\n",
    "class User:\n",
    "    def __init__(self, first_name, last_name,login_attempts = 0) -> None:\n",
    "        self.first = first_name\n",
    "        self.last = last_name\n",
    "        self.login_attempts = login_attempts\n",
    "\n",
    "    def describe_user(self):\n",
    "        print(f\"姓：{self.last}，名：{self.first}\")\n",
    "        print(f\"中式叫法：{self.last+' '}{self.first}\")\n",
    "\n",
    "    def greet_user(self):\n",
    "        fullName = self.last + ' ' + self.first\n",
    "        print(f\"你好{fullName.title()}，很高兴见到你！\")\n",
    "\n",
    "    def increment_login_attempts(self):\n",
    "            self.login_attempts += 1\n",
    "\n",
    "    def reset_login_attempts(self):\n",
    "        self.login_attempts = 0\n",
    "\n",
    "# 创建实例\n",
    "xiaoming = User('xiao ming','li')\n",
    "xiaoming.describe_user()\n",
    "xiaoming.greet_user()\n",
    "for i in range(1,11):\n",
    "    xiaoming.increment_login_attempts()\n",
    "print(xiaoming.login_attempts)\n",
    "xiaoming.reset_login_attempts()\n",
    "print(xiaoming.login_attempts)\n",
    "\n"
   ]
  }
 ],
 "metadata": {
  "interpreter": {
   "hash": "2a1c5134f09a4e3c2c7847f64b09d100d113420894679a48e1947bfe27b2d3de"
  },
  "kernelspec": {
   "display_name": "Python 3.8.13 ('devenv')",
   "language": "python",
   "name": "python3"
  },
  "language_info": {
   "codemirror_mode": {
    "name": "ipython",
    "version": 3
   },
   "file_extension": ".py",
   "mimetype": "text/x-python",
   "name": "python",
   "nbconvert_exporter": "python",
   "pygments_lexer": "ipython3",
   "version": "3.8.13"
  },
  "orig_nbformat": 4
 },
 "nbformat": 4,
 "nbformat_minor": 2
}
