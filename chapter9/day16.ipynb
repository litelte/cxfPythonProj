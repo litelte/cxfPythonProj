{
 "cells": [
  {
   "cell_type": "code",
   "execution_count": 1,
   "metadata": {},
   "outputs": [],
   "source": [
    "# 计划三天学完面向对象 第16-18天\n",
    "# 2022年5月10日"
   ]
  },
  {
   "cell_type": "code",
   "execution_count": 3,
   "metadata": {},
   "outputs": [
    {
     "name": "stdout",
     "output_type": "stream",
     "text": [
      "My dog's name is Willie\n",
      "My dog is 6 years old.\n"
     ]
    }
   ],
   "source": [
    "class Dog:\n",
    "    \"\"\" 模拟小狗的简单尝试 \"\"\"\n",
    "    def __init__(self,name,age):\n",
    "        \"\"\" 初始化属性name和age \"\"\"\n",
    "        self.name = name\n",
    "        self.age = age\n",
    "\n",
    "    def sit(self):\n",
    "        \"\"\" 模拟小狗收到命令时蹲下 \"\"\"\n",
    "        print(f\"{self.name} is now sitting.\")\n",
    "    \n",
    "    def roll_over(self):\n",
    "        \"\"\" 模拟小狗收到命令时打滚 \"\"\"\n",
    "        print(f\"{self.name} rolled over!\")\n",
    "my_dog = Dog('Willie',6)\n",
    "\n",
    "print(f\"My dog's name is {my_dog.name}\")\n",
    "print(f\"My dog is {my_dog.age} years old.\")"
   ]
  }
 ],
 "metadata": {
  "interpreter": {
   "hash": "0a4596f6bf28f3bb4c51dd7abc582ccab9b24330e8a9dc4f63857311f67e8492"
  },
  "kernelspec": {
   "display_name": "Python 3.8.13 ('ubuntu2204VMenv')",
   "language": "python",
   "name": "python3"
  },
  "language_info": {
   "codemirror_mode": {
    "name": "ipython",
    "version": 3
   },
   "file_extension": ".py",
   "mimetype": "text/x-python",
   "name": "python",
   "nbconvert_exporter": "python",
   "pygments_lexer": "ipython3",
   "version": "3.8.13"
  },
  "orig_nbformat": 4
 },
 "nbformat": 4,
 "nbformat_minor": 2
}
