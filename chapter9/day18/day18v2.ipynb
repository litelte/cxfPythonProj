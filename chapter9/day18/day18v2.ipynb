{
 "cells": [
  {
   "cell_type": "code",
   "execution_count": 3,
   "metadata": {
    "pycharm": {
     "name": "#%%\n"
    }
   },
   "outputs": [
    {
     "name": "stdout",
     "output_type": "stream",
     "text": [
      "6\n",
      "1\n",
      "4\n",
      "1\n",
      "1\n",
      "4\n",
      "3\n",
      "5\n",
      "4\n"
     ]
    }
   ],
   "source": [
    "from random import randint\n",
    "\n",
    "for i in range(1,10):\n",
    "    print(randint(1, 6))"
   ]
  },
  {
   "cell_type": "code",
   "execution_count": 2,
   "metadata": {
    "pycharm": {
     "name": "#%%\n"
    }
   },
   "outputs": [
    {
     "data": {
      "text/plain": [
       "'michael'"
      ]
     },
     "execution_count": 2,
     "metadata": {},
     "output_type": "execute_result"
    }
   ],
   "source": [
    "from random import choice\n",
    "\n",
    "players = [\"charles\", \"martina\", \"michael\", \"florence\", \"eli\"]\n",
    "first_up = choice(players)\n",
    "first_up"
   ]
  },
  {
   "cell_type": "code",
   "execution_count": 19,
   "metadata": {
    "pycharm": {
     "name": "#%%\n"
    }
   },
   "outputs": [
    {
     "name": "stdout",
     "output_type": "stream",
     "text": [
      "6面的骰子\n",
      "1\t2\t1\t3\t5\t6\t5\t3\t5\t5\t\n",
      "10面的骰子\n",
      "1\t8\t3\t5\t5\t10\t2\t2\t5\t2\t\n",
      "20面的骰子\n",
      "19\t13\t9\t9\t18\t8\t13\t7\t1\t1\t"
     ]
    }
   ],
   "source": [
    "# 练习9-13\n",
    "from random import randint\n",
    "\n",
    "\n",
    "class Die:\n",
    "    def __init__(self, sides=6):\n",
    "        self.sides = sides\n",
    "\n",
    "    def roll_die(self):\n",
    "        print(randint(1, self.sides), end=\"\\t\")\n",
    "\n",
    "\n",
    "# 实例化类\n",
    "atest = Die()\n",
    "print(\"6面的骰子\")\n",
    "for i in range(1, 11):\n",
    "    atest.roll_die()\n",
    "    # 注意，randint()和range()括号里填的数是不一样的\n",
    "# 创建一个10面的骰子，和20面的投资，分别掷10次\n",
    "print(\"\\n10面的骰子\")\n",
    "btest = Die(sides=10)\n",
    "for i in range(1, 11):\n",
    "    btest.roll_die()\n",
    "\n",
    "print(\"\\n20面的骰子\")\n",
    "ctest = Die(sides=20)\n",
    "for i in range(1,11):\n",
    "    ctest.roll_die()"
   ]
  },
  {
   "cell_type": "code",
   "execution_count": 39,
   "metadata": {
    "pycharm": {
     "name": "#%%\n"
    }
   },
   "outputs": [
    {
     "name": "stdout",
     "output_type": "stream",
     "text": [
      "选择数字的位数为：4次,字母的位数为：0\n",
      "我的选择是：3\t4\t4\t10\t"
     ]
    }
   ],
   "source": [
    "# 彩票\n",
    "from random import choice, randint\n",
    "\n",
    "numbers = list(range(1, 11))\n",
    "alphabet = (\"a\", \"b\", \"c\", \"d\", \"e\")\n",
    "# for number in numbers:\n",
    "#     print(number)\n",
    "chooseNumber = randint(1, 4)\n",
    "choosealph = 4 - chooseNumber\n",
    "print(f\"选择数字的位数为：{chooseNumber}次,字母的位数为：{choosealph}\")\n",
    "# 开始选数字\n",
    "mychoice = []\n",
    "while chooseNumber:\n",
    "    mychoice.append(choice(numbers))\n",
    "    chooseNumber -= 1\n",
    "while choosealph:\n",
    "    mychoice.append(choice(alphabet))\n",
    "    choosealph -= 1\n",
    "# 遍历随机选择的四个号码：\n",
    "print(\"我的选择是：\", end=\"\")\n",
    "for value in mychoice:\n",
    "    print(value, end=\"\\t\")"
   ]
  }
 ],
 "metadata": {
  "interpreter": {
   "hash": "0a4596f6bf28f3bb4c51dd7abc582ccab9b24330e8a9dc4f63857311f67e8492"
  },
  "kernelspec": {
   "display_name": "Python 3.8.13 ('ubuntu2204VMenv')",
   "language": "python",
   "name": "python3"
  },
  "language_info": {
   "codemirror_mode": {
    "name": "ipython",
    "version": 3
   },
   "file_extension": ".py",
   "mimetype": "text/x-python",
   "name": "python",
   "nbconvert_exporter": "python",
   "pygments_lexer": "ipython3",
   "version": "3.8.13"
  },
  "orig_nbformat": 4
 },
 "nbformat": 4,
 "nbformat_minor": 2
}