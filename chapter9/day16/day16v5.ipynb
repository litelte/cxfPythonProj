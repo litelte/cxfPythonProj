{
 "cells": [
  {
   "cell_type": "code",
   "execution_count": 4,
   "metadata": {},
   "outputs": [
    {
     "name": "stdout",
     "output_type": "stream",
     "text": [
      "2019 audi a4\n",
      "This car has 23 miles on it.\n"
     ]
    }
   ],
   "source": [
    "# 通过方法修改属性的值\n",
    "class Car:\n",
    "    \"\"\" 模拟汽车的简单尝试 \"\"\"\n",
    "\n",
    "    def __init__(self, make, model, year):\n",
    "        \"\"\" 初始化描述汽车的属性 \"\"\"\n",
    "        self.make = make\n",
    "        self.model = model\n",
    "        self.year = year\n",
    "\n",
    "    def get_descriptive_name(self):\n",
    "        \"\"\" 返回整洁的描述信息 \"\"\"\n",
    "        long_name = f\"{self.year} {self.make} {self.model}\"\n",
    "        return long_name\n",
    "    \n",
    "    def updae_odometer(self,mileage):\n",
    "        \"\"\" 将里程表读数设置为指定的值 \"\"\"\n",
    "        self.odometer_reading = mileage\n",
    "\n",
    "    def read_odometer(self):\n",
    "        \"\"\" 打印一条指出汽车历里程的消息。 \"\"\"\n",
    "        print(f\"This car has {self.odometer_reading} miles on it.\")\n",
    "\n",
    "my_new_car = Car('audi','a4',2019)\n",
    "print(my_new_car.get_descriptive_name())\n",
    "\n",
    "my_new_car.updae_odometer(23)\n",
    "my_new_car.read_odometer()"
   ]
  },
  {
   "cell_type": "code",
   "execution_count": 10,
   "metadata": {},
   "outputs": [
    {
     "name": "stdout",
     "output_type": "stream",
     "text": [
      "2022 audi a6 15\n",
      "This car has 23 miles on it.\n",
      "You can't roll back an odometer!\n",
      "This car has 23 miles on it.\n"
     ]
    }
   ],
   "source": [
    "# 加入判断条件\n",
    "class Car:\n",
    "    \"\"\" 模拟汽车的简单尝试 \"\"\"\n",
    "\n",
    "    def __init__(self, make, model, year, mileage):\n",
    "        \"\"\" 初始化描述汽车的属性 \"\"\"\n",
    "        self.make = make\n",
    "        self.model = model\n",
    "        self.year = year\n",
    "        self.odometer_reading = mileage\n",
    "\n",
    "    def get_descriptive_name(self):\n",
    "        \"\"\" 返回整洁的描述信息 \"\"\"\n",
    "        long_name = f\"{self.year} {self.make} {self.model} {self.odometer_reading}\"\n",
    "        return long_name\n",
    "\n",
    "    def updae_odometer(self, mileage):\n",
    "        \"\"\" 将里程表读数设置为指定的值，禁止将里程表读数往回调 \"\"\"\n",
    "        if mileage >= self.odometer_reading:\n",
    "            self.odometer_reading = mileage\n",
    "        else:\n",
    "            print(\"You can't roll back an odometer!\")\n",
    "\n",
    "    def read_odometer(self):\n",
    "        \"\"\" 打印一条指出汽车历里程的消息。 \"\"\"\n",
    "        print(f\"This car has {self.odometer_reading} miles on it.\")\n",
    "\n",
    "\n",
    "# 创建实例对象\n",
    "my_new_car = Car('audi', 'a6', 2022, 15)\n",
    "print(my_new_car.get_descriptive_name())\n",
    "\n",
    "my_new_car.updae_odometer(23)\n",
    "\n",
    "my_new_car.read_odometer()\n",
    "my_new_car.updae_odometer(13)\n",
    "my_new_car.read_odometer()\n"
   ]
  },
  {
   "cell_type": "code",
   "execution_count": 16,
   "metadata": {},
   "outputs": [
    {
     "name": "stdout",
     "output_type": "stream",
     "text": [
      "2019 subaru outback\n",
      "This car has 23500 miles on it.\n",
      "This car has 23600 miles on it.\n",
      "You can't roll back an odometer!\n",
      "This car has 23600 miles on it.\n"
     ]
    }
   ],
   "source": [
    "# 通过方法对属性的值进行递增\n",
    "\"\"\" \n",
    "有时候需要将属性值递增特定的量，而不是将其设置为全新的 值。假设我们购买了一辆二手车，且从购买到登记期间增加了 100英里的里程。\n",
    " \"\"\"\n",
    "\n",
    "\n",
    "class Car:\n",
    "    \"\"\"模拟汽车的简单尝试\"\"\"\n",
    "\n",
    "    def __init__(self, make, model, year, mileage=0):\n",
    "        \"\"\"初始化描述汽车的属性\"\"\"\n",
    "        self.make = make\n",
    "        self.model = model\n",
    "        self.year = year\n",
    "        self.odometer_reading = mileage\n",
    "\n",
    "    def get_descriptive_name(self):\n",
    "        \"\"\"返回整洁的描述信息\"\"\"\n",
    "        long_name = f\"{self.year} {self.make} {self.model}\"\n",
    "        return long_name\n",
    "\n",
    "    def updae_odometer(self, mileage):\n",
    "        \"\"\"将里程表读数设置为指定的值，禁止将里程表读数往回调\"\"\"\n",
    "        if mileage >= self.odometer_reading:\n",
    "            self.odometer_reading = mileage\n",
    "        else:\n",
    "            print(\"You can't roll back an odometer!\")\n",
    "\n",
    "    def read_odometer(self):\n",
    "        \"\"\"打印一条指出汽车历里程的消息。\"\"\"\n",
    "        print(f\"This car has {self.odometer_reading} miles on it.\")\n",
    "\n",
    "    def increment_odometer(self, miles):\n",
    "        \"\"\"将里程表读数增加指定的量\"\"\"\n",
    "        self.odometer_reading += miles\n",
    "\n",
    "\n",
    "my_used_car = Car(\"subaru\", \"outback\", 2019)\n",
    "print(my_used_car.get_descriptive_name())\n",
    "\n",
    "my_used_car.updae_odometer(23_500)\n",
    "my_used_car.read_odometer()\n",
    "\n",
    "my_used_car.increment_odometer(100)\n",
    "my_used_car.read_odometer()\n",
    "\n",
    "# 增加负值试一试\n",
    "my_used_car.updae_odometer(-100)\n",
    "my_used_car.read_odometer()"
   ]
  }
 ],
 "metadata": {
  "interpreter": {
   "hash": "0a4596f6bf28f3bb4c51dd7abc582ccab9b24330e8a9dc4f63857311f67e8492"
  },
  "kernelspec": {
   "display_name": "Python 3.8.13 ('ubuntu2204VMenv')",
   "language": "python",
   "name": "python3"
  },
  "language_info": {
   "codemirror_mode": {
    "name": "ipython",
    "version": 3
   },
   "file_extension": ".py",
   "mimetype": "text/x-python",
   "name": "python",
   "nbconvert_exporter": "python",
   "pygments_lexer": "ipython3",
   "version": "3.8.13"
  },
  "orig_nbformat": 4
 },
 "nbformat": 4,
 "nbformat_minor": 2
}
