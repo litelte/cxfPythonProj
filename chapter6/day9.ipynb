{
 "cells": [
  {
   "cell_type": "code",
   "execution_count": 2,
   "metadata": {},
   "outputs": [
    {
     "name": "stdout",
     "output_type": "stream",
     "text": [
      "{'color': 'green', 'points': 5}\n",
      "{'color': 'yellow', 'points': 10}\n",
      "{'color': 'red', 'points': 15}\n"
     ]
    }
   ],
   "source": [
    "# 字典的嵌套\n",
    "alien_0 = {'color': 'green', 'points': 5}\n",
    "alien_1 = {'color': 'yellow', 'points': 10}\n",
    "alien_2 = {'color': 'red', 'points': 15}\n",
    "aliens = [alien_0, alien_1, alien_2]\n",
    "for alien in aliens:\n",
    "    print(alien)\n",
    "# 遍历字典就是这样，不指定键和值，就是会遍历出字典的每一个元素\n"
   ]
  },
  {
   "cell_type": "code",
   "execution_count": 4,
   "metadata": {},
   "outputs": [
    {
     "name": "stdout",
     "output_type": "stream",
     "text": [
      "{'color': 'green', 'points': 5, 'speed': 'slow'}\n",
      "{'color': 'green', 'points': 5, 'speed': 'slow'}\n",
      "{'color': 'green', 'points': 5, 'speed': 'slow'}\n",
      "{'color': 'green', 'points': 5, 'speed': 'slow'}\n",
      "{'color': 'green', 'points': 5, 'speed': 'slow'}\n",
      "...\n",
      "Total number of aliens: 30\n"
     ]
    }
   ],
   "source": [
    "# 创建一个用于存储外星人的列表\n",
    "aliens = []\n",
    "# 创建30个绿色外星人\n",
    "for alien_number in range(30):\n",
    "    new_alien = {'color': 'green', 'points': 5, 'speed': 'slow'}\n",
    "    # 字典中添加键值对也可以使用append()这个方法\n",
    "    aliens.append(new_alien)\n",
    "# 显示前5个外星人\n",
    "for alien in aliens[:5]:\n",
    "    print(alien)\n",
    "print(\"...\")\n",
    "# 显示创建了多少个外星人\n",
    "print(f\"Total number of aliens: {len(aliens)}\")\n"
   ]
  },
  {
   "cell_type": "code",
   "execution_count": 6,
   "metadata": {},
   "outputs": [
    {
     "name": "stdout",
     "output_type": "stream",
     "text": [
      "{'color': 'yellow', 'points': 10, 'speed': 'medium'}\n",
      "{'color': 'yellow', 'points': 10, 'speed': 'medium'}\n",
      "{'color': 'yellow', 'points': 10, 'speed': 'medium'}\n",
      "{'color': 'green', 'points': 5, 'speed': 'slow'}\n",
      "{'color': 'green', 'points': 5, 'speed': 'slow'}\n",
      "...\n"
     ]
    }
   ],
   "source": [
    "# 将前三个外星人修改为黄色、速度为中等且值为10分\n",
    "# 创建一个用于存储外星人的空列表\n",
    "aliens = []\n",
    "\n",
    "# 创建30个绿色的外星人\n",
    "for alien_number in range(30):\n",
    "    new_alien = {'color': 'green', 'points': 5, 'speed': 'slow'}\n",
    "    aliens.append(new_alien)\n",
    "\n",
    "for alien in aliens[:3]:\n",
    "    if alien['color'] == 'green':\n",
    "        alien['color'] = 'yellow'\n",
    "        alien['speed'] = 'medium'\n",
    "        alien['points'] = 10\n",
    "\n",
    "# 显示前5个外星人\n",
    "for alien in aliens[:5]:\n",
    "    print(alien)\n",
    "print(\"...\")\n"
   ]
  },
  {
   "cell_type": "code",
   "execution_count": 12,
   "metadata": {},
   "outputs": [
    {
     "name": "stdout",
     "output_type": "stream",
     "text": [
      "{'color': 'yellow', 'points': 10, 'speed': 'medium'}\n",
      "{'color': 'yellow', 'points': 10, 'speed': 'medium'}\n",
      "{'color': 'yellow', 'points': 10, 'speed': 'medium'}\n",
      "{'color': 'green', 'points': 5, 'speed': 'slow'}\n",
      "{'color': 'green', 'points': 5, 'speed': 'slow'}\n",
      "...\n"
     ]
    }
   ],
   "source": [
    "# 创建30个外星人，将前三个外星人修改为黄色、速度为中等、值为10分\n",
    "# 将黄色改为移动速度快，且值为15分的红色外星人\n",
    "# 创建空字典\n",
    "# 注意，[]为列表的符号，{}为字典的符号\n",
    "# 但是列表可以变成元素\n",
    "aliens = []\n",
    "# 给字典中添加30个绿色外星人\n",
    "for alien_number in range(30):\n",
    "    new_alien = {'color': 'green', 'points': 5, 'speed': 'slow'}\n",
    "    aliens.append(new_alien)\n",
    "\n",
    "for alien in aliens[:3]:\n",
    "    if alien['color'] == 'green':\n",
    "        alien['color'] = 'yellow'\n",
    "        alien['points'] = 10\n",
    "        alien['speed'] = 'medium'\n",
    "    elif alien['color'] == 'yellow':\n",
    "        alien['color'] = 'red'\n",
    "        alien['points'] = 15\n",
    "        alien['speed'] = 'fast'\n",
    "\n",
    "# 显示前5个外星人\n",
    "for alien in aliens[:5]:\n",
    "    print(alien)\n",
    "print(\"...\")\n"
   ]
  },
  {
   "cell_type": "code",
   "execution_count": 29,
   "metadata": {},
   "outputs": [
    {
     "name": "stdout",
     "output_type": "stream",
     "text": [
      "[]\n",
      "单个输出的效果\n",
      "[{'name': 'xiao ming', 'age': 12}, {'name': 'xiao lan', 'age': 11}]\n",
      "逐各输出的效果：\n",
      "{'name': 'xiao ming', 'age': 12}\n",
      "{'name': 'xiao lan', 'age': 11}\n",
      "下来试试直接创建一个完整的字典，然后再输出，是什么结果：\n",
      "{'name': 'zhong nan shan', 'age': 42}\n",
      "再给字典添加第二个键值对：\n",
      "输出一遍：\n",
      "{'name': 'zhang wen hong', 'age': 32}\n",
      "此时发现，再次输入同一键和值的属性名时，对应的值已经被覆盖掉\n",
      "那么我们直接创建一个多键值对的字典试一试可不可以直接创建：\n",
      "[{'name': 'xiao hong', 'age': 12}, {'name': 'xiao lan', 'age': 14}]\n",
      "{'name': 'xiao hong', 'age': 12}\n",
      "{'name': 'xiao lan', 'age': 14}\n",
      "所以我们最后可以确定，字典其实就是把列表中的单个元素，由原来的值，变成键值对的一种数据类型\n"
     ]
    }
   ],
   "source": [
    "# 看看列表是怎么变成字典的\n",
    "test_list = []\n",
    "print(test_list)\n",
    "a_dic = {'name': 'xiao ming', 'age': 12}\n",
    "b_dic = {'name': 'xiao lan', 'age': 11}\n",
    "test_list.append(a_dic)\n",
    "test_list.append(b_dic)\n",
    "print(\"单个输出的效果\")\n",
    "print(test_list)\n",
    "print(\"逐各输出的效果：\")\n",
    "for singlelist in test_list:\n",
    "    print(singlelist)\n",
    "print(\"下来试试直接创建一个完整的字典，然后再输出，是什么结果：\")\n",
    "test_dic = {'name': 'zhong nan shan', 'age': 42}\n",
    "print(test_dic)\n",
    "print(\"再给字典添加第二个键值对：\")\n",
    "test_dic['name'] = 'zhang wen hong'\n",
    "test_dic['age'] = 32\n",
    "print(\"输出一遍：\")\n",
    "print(test_dic)\n",
    "print(\"此时发现，再次输入同一键和值的属性名时，对应的值已经被覆盖掉\")\n",
    "print(\"那么我们直接创建一个多键值对的字典试一试可不可以直接创建：\")\n",
    "test_dic2 = [{'name': 'xiao hong', 'age': 12}, {'name': 'xiao lan', 'age': 14}]\n",
    "print(test_dic2)\n",
    "for singlelist in test_dic2:\n",
    "    print(singlelist)\n",
    "print(\"所以我们最后可以确定，字典其实就是把列表中的单个元素，由原来的值，变成键值对的一种数据类型\")"
   ]
  },
  {
   "cell_type": "code",
   "execution_count": 6,
   "metadata": {},
   "outputs": [
    {
     "name": "stdout",
     "output_type": "stream",
     "text": [
      "You ordered a thick-crust pizza with the following toppings:\n",
      "\fmushrooms\n",
      "\fextra cheese\n"
     ]
    }
   ],
   "source": [
    "# 在字典中存储列表\n",
    "# 存储所点披萨的信息\n",
    "pizza = {\n",
    "    'crust':'thick',\n",
    "    'toppings':['mushrooms','extra cheese'],\n",
    "}\n",
    "# 概述所点的披萨\n",
    "print(f\"You ordered a {pizza['crust']}-crust pizza \" \"with the following toppings:\")\n",
    "for topping in pizza['toppings']:\n",
    "    print(\"\\f\"+topping)"
   ]
  },
  {
   "cell_type": "code",
   "execution_count": 9,
   "metadata": {},
   "outputs": [
    {
     "name": "stdout",
     "output_type": "stream",
     "text": [
      "\n",
      "Jen's favorite languages are:\n",
      "\tPython\n",
      "\tRuby\n",
      "\n",
      "Sarah's favorite languages are:\n",
      "\tC\n",
      "\n",
      "Edward's favorite languages are:\n",
      "\tRuby\n",
      "\tGo\n",
      "\n",
      "Phil's favorite languages are:\n",
      "\tPython\n",
      "\tHaskell\n"
     ]
    }
   ],
   "source": [
    "# 需要在字典中将一个键关联到多个值时，都可以在字典中嵌套 一个列表。\n",
    "# 当然读取字典中被嵌套的值时，也可以再使用循环遍历值，从而读取被嵌套的多个值\n",
    "favorite_languages = {\n",
    "    'jen':['python','ruby'],\n",
    "    'sarah':['c'],\n",
    "    'edward':['ruby','go'],\n",
    "    'phil':['python','haskell'],\n",
    "}\n",
    "for name,languages in favorite_languages.items():\n",
    "    print(f\"\\n{name.title()}'s favorite languages are:\")\n",
    "    for language in languages:\n",
    "        print(f\"\\t{language.title()}\")\n",
    "# 列表和字典的嵌套层级不应太多。如果嵌套层级比前 面的示例多得多，很可能有更简单的解决方案。"
   ]
  },
  {
   "cell_type": "code",
   "execution_count": 3,
   "metadata": {},
   "outputs": [
    {
     "name": "stdout",
     "output_type": "stream",
     "text": [
      "\n",
      "Username: aeinstein\n",
      "\tFull name: Albert Einstein\n",
      "\tLocation: Princeton\n",
      "\n",
      "Username: mcurie\n",
      "\tFull name: Marie Curie\n",
      "\tLocation: Paris\n"
     ]
    }
   ],
   "source": [
    "# 字典中存储字典\n",
    "users = {\n",
    "    'aeinstein': {'first': 'albert', 'last': 'einstein', 'location': 'princeton',},\n",
    "    'mcurie': {'first': 'marie', 'last': 'curie', 'location': 'paris',},\n",
    "}\n",
    "for username,user_info in users.items():\n",
    "    print(f\"\\nUsername: {username}\")\n",
    "    full_name = f\"{user_info['first']} {user_info['last']}\"\n",
    "    location = user_info['location']\n",
    "\n",
    "    print(f\"\\tFull name: {full_name.title()}\")\n",
    "    print(f\"\\tLocation: {location.title()}\")\n",
    "# 其实本质上来说，字典的值就是一个嵌套，那输出的时候，当然也可以一层一层解开来"
   ]
  },
  {
   "cell_type": "code",
   "execution_count": 16,
   "metadata": {},
   "outputs": [
    {
     "name": "stdout",
     "output_type": "stream",
     "text": [
      "普通遍历：\n",
      "{'first': 'zhang', 'last': 'san', 'age': 18, 'city': \"xi'an\"}\n",
      "{'first': 'li', 'last': 'si', 'age': 19, 'city': 'zheng zhou'}\n",
      "{'first': 'wang', 'last': 'ma zi', 'age': 20, 'city': 'cheng du'}\n",
      "详细遍历：\n",
      "ZhangSan，今年18岁，来自Xi'An.\n",
      "LiSi，今年19岁，来自Zheng Zhou.\n",
      "WangMa Zi，今年20岁，来自Cheng Du.\n"
     ]
    }
   ],
   "source": [
    "# 练习6-7\n",
    "people = []\n",
    "zhsan = {'first': 'zhang', 'last': 'san', 'age': 18, 'city': \"xi'an\"}\n",
    "lsi = {'first': 'li', 'last': 'si', 'age': 19, 'city': 'zheng zhou'}\n",
    "wmazi = {'first': 'wang', 'last': 'ma zi', 'age': 20, 'city': 'cheng du'}\n",
    "people.append(zhsan)\n",
    "people.append(lsi)\n",
    "people.append(wmazi)\n",
    "# print(people)\n",
    "print('普通遍历：')\n",
    "# 普通遍历\n",
    "for peopleInfo in people:\n",
    "    print(peopleInfo)\n",
    "# 详细遍历\n",
    "print('详细遍历：')\n",
    "for peopleInfo in people:\n",
    "    print(\n",
    "        f\"{peopleInfo['first'].title()}{peopleInfo['last'].title()}，今年{peopleInfo['age']}岁，来自{peopleInfo['city'].title()}.\"\n",
    "    )\n",
    "\n"
   ]
  },
  {
   "cell_type": "code",
   "execution_count": 5,
   "metadata": {},
   "outputs": [
    {
     "name": "stdout",
     "output_type": "stream",
     "text": [
      "[{'type': 'siamese cat', 'breeder': 'zhang san'}, {'type': 'collie', 'breeder': 'li si'}, {'type': 'parrot', 'breeder': 'wang ma zi'}, {'type': 'cole duck', 'breeder': 'xiao ming'}]\n",
      "使用循环遍历输出：\n",
      "宠物类型：Siamese Cat,它的主人是：Zhang San\n",
      "宠物类型：Collie,它的主人是：Li Si\n",
      "宠物类型：Parrot,它的主人是：Wang Ma Zi\n",
      "宠物类型：Cole Duck,它的主人是：Xiao Ming\n"
     ]
    }
   ],
   "source": [
    "# 练习6-8\n",
    "pets = []\n",
    "firstPet = {'type': 'siamese cat', 'breeder': 'zhang san'}\n",
    "secondPet = {'type': 'collie', 'breeder': 'li si'}\n",
    "thirdPet = {'type': 'parrot', 'breeder': 'wang ma zi'}\n",
    "fourthPet = {'type': 'cole duck', 'breeder': 'xiao ming'}\n",
    "petSequence = ['firstPet', 'secondPet', 'thirdPet', 'fourthPet']\n",
    "# 传统的方法：\n",
    "# pets.append(firstPet)\n",
    "# pets.append(secondPet)\n",
    "# pets.append(thirdPet)\n",
    "# pets.append(fourthPet)\n",
    "# 还可以使用字典列表\n",
    "pets = [firstPet,secondPet,thirdPet,fourthPet]\n",
    "print(pets)\n",
    "print('使用循环遍历输出：')\n",
    "for pet in pets:\n",
    "    print(f\"宠物类型：{pet['type'].title()},它的主人是：{pet['breeder'].title()}\")"
   ]
  },
  {
   "cell_type": "code",
   "execution_count": 19,
   "metadata": {},
   "outputs": [
    {
     "name": "stdout",
     "output_type": "stream",
     "text": [
      "第1个人是我们的Zhang San，Zhang San最喜欢的地方是：\n",
      "The Great Well\n",
      "Terracotta Warriors\n",
      "Tiananmen Square\n",
      "第2个人是我们的Li Si，Li Si最喜欢的地方是：\n",
      "Summer Palace\n",
      "Mountain Hua\n",
      "Daming Palace\n",
      "第3个人是我们的Wang Ma Zi，Wang Ma Zi最喜欢的地方是：\n",
      "Huaqing Pool\n"
     ]
    }
   ],
   "source": [
    "# 首先用字典列表的形式\n",
    "# 可以是先创建一个列表，然后往列表中填充字典\n",
    "# 最喜欢的地方\n",
    "favorite_places = [\n",
    "    {\n",
    "        'name': 'zhang san',\n",
    "        'favorite_place': ['the great well', 'terracotta warriors', 'tiananmen square'],\n",
    "    },\n",
    "    {\n",
    "        'name': 'li si',\n",
    "        'favorite_place': ['summer palace', 'mountain hua', 'daming palace'],\n",
    "    },\n",
    "    # 这样子保存的话，无论列表中有几个元素，都要加方括号\n",
    "    # 如果在有一个元素的情况下，不加列表，下面的for循环输出的就是一个单词拼写\n",
    "    {'name': 'wang ma zi', 'favorite_place': ['huaqing pool']},\n",
    "]\n",
    "# 遍历字典列表\n",
    "index = 1\n",
    "for favorite_place in favorite_places:\n",
    "    print(\n",
    "        f\"第{index}个人是我们的{favorite_place['name'].title()}，{favorite_place['name'].title()}最喜欢的地方是：\"\n",
    "    )\n",
    "    for place in favorite_place['favorite_place']:\n",
    "        print(f\"{place.title()}\")\n",
    "    index += 1"
   ]
  },
  {
   "cell_type": "code",
   "execution_count": 25,
   "metadata": {},
   "outputs": [
    {
     "name": "stdout",
     "output_type": "stream",
     "text": [
      "第1个观众是Xiao Ming,Xiao Ming最喜欢的地方是：\n",
      "The Great Well\n",
      "Terracotta Warriors\n",
      "Tiananmen Square\n",
      "第2个观众是Xiao Hong,Xiao Hong最喜欢的地方是：\n",
      "Summer Palace\n",
      "Mountain Hua\n",
      "Daming Palace\n",
      "第3个观众是Xiao Lan,Xiao Lan最喜欢的地方是：\n",
      "Huaqing Pool\n"
     ]
    }
   ],
   "source": [
    "# 也可以是直接创建字典，字典里面嵌套列表\n",
    "favorite_places = {\n",
    "    'xiao ming':['the great well', 'terracotta warriors', 'tiananmen square'],\n",
    "    'xiao hong':['summer palace', 'mountain hua', 'daming palace'],\n",
    "    'xiao lan':['huaqing pool']\n",
    "}\n",
    "# 这样的话遍历，就和字典的遍历一样了\n",
    "index = 1\n",
    "for name,places in favorite_places.items():\n",
    "    print(f\"第{index}个观众是{name.title()},{name.title()}最喜欢的地方是：\")\n",
    "    for place in places:\n",
    "        print(place.title())\n",
    "    index += 1"
   ]
  },
  {
   "cell_type": "code",
   "execution_count": 27,
   "metadata": {},
   "outputs": [
    {
     "data": {
      "text/plain": [
       "'\\n关于使用字典列表，还是字典嵌套字典，还是要分情况的\\n只需要有两个数据相对应的时候，用字典嵌套字典是最方便的\\n而多个数据（大于两个）需要对应时，用字典列表时最合适的\\n'"
      ]
     },
     "execution_count": 27,
     "metadata": {},
     "output_type": "execute_result"
    }
   ],
   "source": [
    "\"\"\"\n",
    "关于使用字典列表，还是字典嵌套字典，还是要分情况的\n",
    "只需要有两个数据相对应的时候，用字典嵌套列表是最方便的\n",
    "而多个数据（大于两个）需要对应时，用字典列表时最合适的\n",
    "\"\"\""
   ]
  },
  {
   "cell_type": "code",
   "execution_count": 59,
   "metadata": {},
   "outputs": [
    {
     "name": "stdout",
     "output_type": "stream",
     "text": [
      "第1个人是Zhang San,Zhang San喜欢的数是：5 6 7 \n",
      "第2个人是Li Si,Li Si喜欢的数是：4 5 1 \n",
      "第3个人是Wang Ma Zi,Wang Ma Zi喜欢的数是：1 3 5 \n",
      "第4个人是Zhong Nan Shan,Zhong Nan Shan喜欢的数是：2 9 \n",
      "第5个人是Zhang Wen Hong,Zhang Wen Hong喜欢的数是：1 \n"
     ]
    }
   ],
   "source": [
    "# 练习6-10 最喜欢的数\n",
    "\"\"\"\n",
    "favorite_Numbers = {\n",
    "    'zhang san': 5,\n",
    "    'li si': 6,\n",
    "    'wang ma zi': 3,\n",
    "    'zhong nan shan': 9,\n",
    "    'zhang wen hong': 5,\n",
    "}\n",
    "\"\"\"\n",
    "# 两元数据，所以可以在字典里嵌套列表\n",
    "favorite_Numbers = {\n",
    "    'zhang san': [5, 6, 7],\n",
    "    'li si': [4, 5, 1],\n",
    "    'wang ma zi': [1, 3, 5],\n",
    "    'zhong nan shan': [2,9],\n",
    "    'zhang wen hong': [1],\n",
    "}\n",
    "# 打印每个人及其喜欢的数\n",
    "index = 1\n",
    "for name,numbers in favorite_Numbers.items():\n",
    "    print(f\"第{index}个人是{name.title()},{name.title()}喜欢的数是：\",end='')\n",
    "    for number in numbers:\n",
    "        print(number,end=' ')\n",
    "    print('')\n",
    "    index +=1\n"
   ]
  },
  {
   "cell_type": "code",
   "execution_count": 92,
   "metadata": {},
   "outputs": [
    {
     "name": "stdout",
     "output_type": "stream",
     "text": [
      "第1个要介绍的是Zhang San，Zhang San最喜欢的数字是： 5 6 7 \n",
      "第2个要介绍的是Li Si，Li Si最喜欢的数字是： 4 5 1 \n",
      "第3个要介绍的是Wang Ma Zi，Wang Ma Zi最喜欢的数字是： 1 3 4 \n",
      "第4个要介绍的是Zhong Nan Shan，Zhong Nan Shan最喜欢的数字是： 2 9 \n",
      "第5个要介绍的是Zhang Wen Hong，Zhang Wen Hong最喜欢的数字是： 1 \n"
     ]
    }
   ],
   "source": [
    "# 上面的练习也可以是字典列表\n",
    "# 创建一个含有字典的列表\n",
    "favorite_Numbers = [\n",
    "    {'name': 'zhang san', 'favorite_numbers': [5, 6, 7],},\n",
    "    {'name': 'li si', 'favorite_numbers': [4, 5, 1],},\n",
    "    {'name': 'wang ma zi', 'favorite_numbers': [1, 3, 4],},\n",
    "    {'name': 'zhong nan shan', 'favorite_numbers': [2, 9],},\n",
    "    {'name': 'zhang wen hong', 'favorite_numbers': [1]},\n",
    "]\n",
    "index = 1\n",
    "for selected_Person in favorite_Numbers:\n",
    "    print(f\"第{index}个要介绍的是{selected_Person['name'].title()}，{selected_Person['name'].title()}最喜欢的数字是：\",end=' ')\n",
    "    for number in selected_Person['favorite_numbers']:\n",
    "        print(number,end=' ')\n",
    "    index += 1\n",
    "    print('')"
   ]
  },
  {
   "cell_type": "code",
   "execution_count": 1,
   "metadata": {},
   "outputs": [
    {
     "name": "stdout",
     "output_type": "stream",
     "text": [
      "对于第1个城市Xi'An,它位于China境内，人口约为12.9529 Million,is called ancient civilization.\n",
      "对于第2个城市New York,它位于America境内，人口约为8.51 Million,is called gotham city.\n",
      "对于第3个城市Paris,它位于France境内，人口约为2.24 Million,is called art capital.\n"
     ]
    }
   ],
   "source": [
    "# 练习6-11\n",
    "# 字典中嵌套字典\n",
    "cities = {\n",
    "    \"xi'an\": {\n",
    "        'country': 'china',\n",
    "        'population': '12.9529 million',\n",
    "        'fact': 'ancient civilization',\n",
    "    },\n",
    "    'new york': {\n",
    "        'country': 'america',\n",
    "        'population': '8.51 million',\n",
    "        'fact': 'gotham city',\n",
    "    },\n",
    "    'paris': {\n",
    "        'country': 'france',\n",
    "        'population': '2.24 million',\n",
    "        'fact': 'art capital',\n",
    "    },\n",
    "}\n",
    "# 打印城市\n",
    "index = 1\n",
    "for city, city_info in cities.items():\n",
    "    print(f\"对于第{index}个城市{city.title()},\", end='')\n",
    "    print(\n",
    "        f\"它位于{city_info['country'].title()}境内，人口约为{city_info['population'].title()},is called {city_info['fact']}.\"\n",
    "    )\n",
    "    index += 1"
   ]
  }
 ],
 "metadata": {
  "interpreter": {
   "hash": "0a4596f6bf28f3bb4c51dd7abc582ccab9b24330e8a9dc4f63857311f67e8492"
  },
  "kernelspec": {
   "display_name": "Python 3.8.13 ('ubuntu2204VMenv')",
   "language": "python",
   "name": "python3"
  },
  "language_info": {
   "codemirror_mode": {
    "name": "ipython",
    "version": 3
   },
   "file_extension": ".py",
   "mimetype": "text/x-python",
   "name": "python",
   "nbconvert_exporter": "python",
   "pygments_lexer": "ipython3",
   "version": "3.8.13"
  },
  "orig_nbformat": 4
 },
 "nbformat": 4,
 "nbformat_minor": 2
}
