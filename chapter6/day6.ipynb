{
 "cells": [
  {
   "cell_type": "code",
   "execution_count": 4,
   "metadata": {},
   "outputs": [
    {
     "name": "stdout",
     "output_type": "stream",
     "text": [
      "green\n",
      "5\n"
     ]
    }
   ],
   "source": [
    "# 简单了解下字典\n",
    "alien_0 = {'color':'green','points':5}\n",
    "print(alien_0['color'])\n",
    "print(alien_0['points'])\n",
    "# 可以这样子简单理解，列表就是只有值\n",
    "# 但是字典就是每个值都有对应项，可以说是 键-值对"
   ]
  },
  {
   "cell_type": "code",
   "execution_count": 7,
   "metadata": {},
   "outputs": [
    {
     "name": "stdout",
     "output_type": "stream",
     "text": [
      "green\n"
     ]
    }
   ],
   "source": [
    "# 最简单的字典\n",
    "alien_0 = {'color':'green'}\n",
    "print(alien_0['color'])\n",
    "# print(alien_0['green'])\n",
    "# 只能通过键来查值，而不能通过值来反查键"
   ]
  },
  {
   "cell_type": "code",
   "execution_count": 10,
   "metadata": {},
   "outputs": [
    {
     "name": "stdout",
     "output_type": "stream",
     "text": [
      "You just earned 5 points!\n",
      "{'color': 'green', 'points': 5, 'x_position': 0, 'y_position': 25}\n"
     ]
    }
   ],
   "source": [
    "# 提取字典中键对应的值\n",
    "alien_0 = {'color': 'green', 'points': 5}\n",
    "new_points = alien_0['points']\n",
    "print(f\"You just earned {new_points} points!\")\n",
    "# 添加键值对\n",
    "alien_0['x_position'] = 0\n",
    "alien_0['y_position'] = 25\n",
    "print(alien_0)\n",
    "# 在Python 3.7中，字典中元素的排列顺序与定义时相 同。如果将字典打印出来或遍历其元素，将发现元素的排列顺 序与添加顺序相同"
   ]
  },
  {
   "cell_type": "code",
   "execution_count": 11,
   "metadata": {},
   "outputs": [
    {
     "name": "stdout",
     "output_type": "stream",
     "text": [
      "{'color': 'green', 'points': 5}\n"
     ]
    }
   ],
   "source": [
    "# 创建一个空字典\n",
    "alien_0 = {}\n",
    "alien_0['color'] = 'green'\n",
    "alien_0['points'] = 5\n",
    "print(alien_0)"
   ]
  },
  {
   "cell_type": "code",
   "execution_count": 13,
   "metadata": {},
   "outputs": [
    {
     "name": "stdout",
     "output_type": "stream",
     "text": [
      "The alien is green.\n",
      "The alien is now yellow.\n"
     ]
    }
   ],
   "source": [
    "# 修改字典中的值\n",
    "alien_0 = {'color':'green'}\n",
    "print(f\"The alien is {alien_0['color']}.\")\n",
    "\n",
    "alien_0['color'] = 'yellow'\n",
    "print(f\"The alien is now {alien_0['color']}.\")"
   ]
  },
  {
   "cell_type": "code",
   "execution_count": 22,
   "metadata": {},
   "outputs": [
    {
     "name": "stdout",
     "output_type": "stream",
     "text": [
      "original position:0\n",
      "New position: 2\n",
      "外星人速度变快了！\n",
      "New position: 5\n"
     ]
    }
   ],
   "source": [
    "# 对一个能够以不同速度移动的外星人进行 位置跟踪。为此，我们将存储该外星人的当前速度，并据此确定该 外星人将向右移动多远：\n",
    "alien_0 = {'x_position':0,'y_position':25,'speed':'medium'}\n",
    "print(f\"original position:{alien_0['x_position']}\")\n",
    "\n",
    "# 向右移动外星人\n",
    "# 根据当前速度确定将外星人向右移动多远\n",
    "if alien_0['speed'] == 'slow':\n",
    "    x_increment = 1\n",
    "elif alien_0['speed'] == 'medium':\n",
    "    x_increment = 2\n",
    "else:\n",
    "    # 这个外星人的移动速度一定很快\n",
    "    x_increment = 3\n",
    "# 新位置为旧位置加上移动距离\n",
    "alien_0['x_position'] = alien_0['x_position']+x_increment\n",
    "print(f\"New position: {alien_0['x_position']}\")\n",
    "print('外星人速度变快了！')\n",
    "alien_0['speed'] = 'fast'\n",
    "if alien_0['speed'] == 'slow':\n",
    "    x_increment = 1\n",
    "elif alien_0['speed'] == 'medium':\n",
    "    x_increment = 2\n",
    "else:\n",
    "    # 这个外星人的移动速度一定很快\n",
    "    x_increment = 3\n",
    "alien_0['x_position'] = alien_0['x_position']+x_increment\n",
    "print(f\"New position: {alien_0['x_position']}\")"
   ]
  },
  {
   "cell_type": "code",
   "execution_count": 25,
   "metadata": {},
   "outputs": [
    {
     "name": "stdout",
     "output_type": "stream",
     "text": [
      "{'color': 'green', 'points': 5}\n",
      "{'color': 'green'}\n"
     ]
    }
   ],
   "source": [
    "# 删除键值对\n",
    "alien_0 = {'color':'green','points':5}\n",
    "print(alien_0)\n",
    "# 开始删除键值对\n",
    "del alien_0['points']\n",
    "print(alien_0)\n",
    "# 需要注意是，删除的键值对会永远消失"
   ]
  },
  {
   "cell_type": "code",
   "execution_count": 27,
   "metadata": {},
   "outputs": [
    {
     "name": "stdout",
     "output_type": "stream",
     "text": [
      "Sarah's favorite language is C\n"
     ]
    }
   ],
   "source": [
    "# 由类似对象组成的字典\n",
    "favorite_languages = {'jen': 'python', 'sarah': 'c', 'edward': 'ruby', 'phil': 'python'}\n",
    "language = favorite_languages['sarah'].title()\n",
    "print(f\"Sarah's favorite language is {language}\")"
   ]
  },
  {
   "cell_type": "code",
   "execution_count": 31,
   "metadata": {},
   "outputs": [],
   "source": [
    "# 使用get()来访问值\n",
    "alien_0 = {'color':'green','speed':'slow'}\n",
    "# print(alien_0['points'])\n",
    "# 无法反向查询，应该使用get()来查询\n",
    "point_value = alien_0.get('point','No point value assigned.')\n",
    "# 方法get() 的第一个参数用于指定键，是必不可少的；第二个参数 为指定的键不存在时要返回的值，是可选的：\n",
    "# 如果字典中有键'points' ，将获得与之相关联的值；如果没有， 将获得指定的默认值。虽然这里没有键'points' ，但将获得一条 清晰的消息，不会引发错误：\n",
    "# 调用get() 时，如果没有指定第二个参数且指定的键 不存在，Python将返回值None 。这个特殊值表示没有相应的 值。None 并非错误，而是一个表示所需值不存在的特殊值，"
   ]
  },
  {
   "cell_type": "code",
   "execution_count": 36,
   "metadata": {},
   "outputs": [
    {
     "name": "stdout",
     "output_type": "stream",
     "text": [
      "{'first_name': 'zhang san', 'last_name': 'nicholas', 'age': '19', 'city': 'shanghai'}\n",
      "规范地打印出来，来个自我介绍：\n",
      "这个人叫NicholasZhang San，他是一个Shanghai人，如今正在抗击疫情，今年已经19岁了，这是他在疫情生活的第三年了，让我们祝他好运！\n"
     ]
    }
   ],
   "source": [
    "# 练习6-1\n",
    "A_Person = {\n",
    "    'first_name': 'zhang san',\n",
    "    'last_name': 'nicholas',\n",
    "    'age': '19',\n",
    "    'city': 'shanghai',\n",
    "}\n",
    "print(A_Person)\n",
    "print(\"规范地打印出来，来个自我介绍：\")\n",
    "print(f\"这个人叫{A_Person['last_name'].title()}{A_Person['first_name'].title()}，他是一个{A_Person['city'].title()}人，如今正在抗击疫情，今年已经{A_Person['age']}岁了，这是他在疫情生活的第三年了，让我们祝他好运！\")"
   ]
  },
  {
   "cell_type": "code",
   "execution_count": 38,
   "metadata": {},
   "outputs": [
    {
     "name": "stdout",
     "output_type": "stream",
     "text": [
      "现在是一个生活小采访：\n",
      "Zhang San喜欢的数字是5,\t\n",
      "Li Si喜欢的数字是6,\t\n",
      "Wang Ma Zi喜欢的数字是3,\t\n",
      "Zhong Nan Shan喜欢的数字是9,\t\n",
      "Zhang Wen Hong喜欢的数字是5\n"
     ]
    }
   ],
   "source": [
    "# 练习6-2\n",
    "favorite_Numbers = {\n",
    "    'zhang san': 5,\n",
    "    'li si': 6,\n",
    "    'wang ma zi': 3,\n",
    "    'zhong nan shan': 9,\n",
    "    'zhang wen hong': 5,\n",
    "}\n",
    "print(\"现在是一个生活小采访：\")\n",
    "print(\n",
    "    f\"Zhang San喜欢的数字是{favorite_Numbers['zhang san']},\\t\\nLi Si喜欢的数字是{favorite_Numbers['li si']},\\t\\nWang Ma Zi喜欢的数字是{favorite_Numbers['wang ma zi']},\\t\\nZhong Nan Shan喜欢的数字是{favorite_Numbers['zhong nan shan']},\\t\\nZhang Wen Hong喜欢的数字是{favorite_Numbers['zhang wen hong']}\"\n",
    ")"
   ]
  },
  {
   "cell_type": "code",
   "execution_count": 40,
   "metadata": {},
   "outputs": [
    {
     "name": "stdout",
     "output_type": "stream",
     "text": [
      "Python的含义是蟒蛇,\t\n",
      "Java的含义是咖啡,\t\n",
      "Ruby的含义是宝石,\t\n",
      "int的含义是整型数字,\t\n",
      "float的含义是浮点型数字\n"
     ]
    }
   ],
   "source": [
    "# 练习6-3\n",
    "program_words = {\n",
    "    'python': '蟒蛇',\n",
    "    'Java': '咖啡',\n",
    "    'Ruby': '宝石',\n",
    "    'int': '整型数字',\n",
    "    'float': '浮点型数字',\n",
    "}\n",
    "print(\n",
    "    f\"Python的含义是{program_words['python']},\\t\\nJava的含义是{program_words['Java']},\\t\\nRuby的含义是{program_words['Ruby']},\\t\\nint的含义是{program_words['int']},\\t\\nfloat的含义是{program_words['float']}\"\n",
    ")"
   ]
  }
 ],
 "metadata": {
  "interpreter": {
   "hash": "2a1c5134f09a4e3c2c7847f64b09d100d113420894679a48e1947bfe27b2d3de"
  },
  "kernelspec": {
   "display_name": "Python 3.8.13 ('devenv')",
   "language": "python",
   "name": "python3"
  },
  "language_info": {
   "codemirror_mode": {
    "name": "ipython",
    "version": 3
   },
   "file_extension": ".py",
   "mimetype": "text/x-python",
   "name": "python",
   "nbconvert_exporter": "python",
   "pygments_lexer": "ipython3",
   "version": "3.8.13"
  },
  "orig_nbformat": 4
 },
 "nbformat": 4,
 "nbformat_minor": 2
}
