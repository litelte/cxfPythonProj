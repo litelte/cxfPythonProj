{
 "cells": [
  {
   "cell_type": "code",
   "execution_count": 2,
   "metadata": {},
   "outputs": [
    {
     "name": "stdout",
     "output_type": "stream",
     "text": [
      "alice\n",
      "david\n",
      "carolina\n"
     ]
    }
   ],
   "source": [
    "# 操作列表\n",
    "# 这一章要对列表有更深入的了解\n",
    "# 遍历列表\n",
    "magicians = ['alice', 'david', 'carolina']\n",
    "for magician in magicians:\n",
    "    print(magician)\n",
    "# 这是我之前没有用过的for循环方式，记住了！！！\n"
   ]
  },
  {
   "cell_type": "code",
   "execution_count": 3,
   "metadata": {},
   "outputs": [],
   "source": [
    "# 深入研究循环\n",
    "# 创建列表时，还是要注意命名方法的，这种命名约定有助于明白for循环的操作\n",
    "# for cat in cats\n",
    "# for dog in dogs\n"
   ]
  },
  {
   "cell_type": "code",
   "execution_count": 9,
   "metadata": {},
   "outputs": [
    {
     "name": "stdout",
     "output_type": "stream",
     "text": [
      "Alice, that was a great trick!\n",
      "David, that was a great trick!\n",
      "Carolina, that was a great trick!\n",
      "---------分割线---------\n",
      "Alice, that was a great trick!\n",
      "I can't wait to see your next trick, Alice\n",
      "David, that was a great trick!\n",
      "I can't wait to see your next trick, David\n",
      "Carolina, that was a great trick!\n",
      "I can't wait to see your next trick, Carolina\n",
      "Thank you,everyone. That was a great magic show!\n"
     ]
    }
   ],
   "source": [
    "# 在for循环中执行更多操作\n",
    "magicians = ['alice', 'david', 'carolina']\n",
    "for magician in magicians:\n",
    "    print(f\"{magician.title()}, that was a great trick!\")\n",
    "\n",
    "print(\"---------分割线---------\")\n",
    "# 又一次打印，添加点话\n",
    "for magician in magicians:\n",
    "    print(f\"{magician.title()}, that was a great trick!\")\n",
    "    print(f\"I can't wait to see your next trick, {magician.title()}\")\n",
    "# for循环结束，不缩进进行下一段代码的输出\n",
    "print('Thank you,everyone. That was a great magic show!')\n"
   ]
  },
  {
   "cell_type": "code",
   "execution_count": 10,
   "metadata": {},
   "outputs": [],
   "source": [
    "# for循环的缩进问题还是挺需要注意的\n",
    "# 或者说，整个python都需要注意缩进的问题，缩进不好，就是另外一种运行结果\n"
   ]
  },
  {
   "cell_type": "code",
   "execution_count": 15,
   "metadata": {},
   "outputs": [
    {
     "name": "stdout",
     "output_type": "stream",
     "text": [
      "A Buou would make a great pet.\n",
      "A Daju would make a great pet.\n",
      "A Sanhua would make a great pet.\n",
      "Any of these animals would make a great pet!\n"
     ]
    }
   ],
   "source": [
    "# 练习4-2\n",
    "cats = ['buou', 'daju', 'sanhua']\n",
    "for cat in cats:\n",
    "    print(f\"A {cat.title()} would make a great pet.\")\n",
    "print(\"Any of these animals would make a great pet!\")\n"
   ]
  },
  {
   "cell_type": "code",
   "execution_count": 19,
   "metadata": {},
   "outputs": [
    {
     "name": "stdout",
     "output_type": "stream",
     "text": [
      "1\n",
      "2\n",
      "3\n",
      "4\n"
     ]
    }
   ],
   "source": [
    "# 创建数值列表\n",
    "# 我懂了，区别于字符串列表，数值列表又有另外的表现方式\n",
    "# 使用函数range()\n",
    "for value in range(1, 5):\n",
    "    print(value)\n",
    "# 运行的结果是1-4，并没有5，也就是说，到5就停了\n",
    "# 可以这么说，range()从第一个数开始，到第二个数停下\n"
   ]
  },
  {
   "cell_type": "code",
   "execution_count": 26,
   "metadata": {},
   "outputs": [
    {
     "name": "stdout",
     "output_type": "stream",
     "text": [
      "[1, 2, 3, 4, 5]\n",
      "[2, 4, 6, 8, 10]\n",
      "[1, 4, 9, 16, 25, 36, 49, 64, 81, 100]\n",
      "[1, 4, 9, 16, 25, 36, 49, 64, 81, 100]\n"
     ]
    }
   ],
   "source": [
    "# 使用range()创建数字列表\n",
    "numbers = list(range(1, 6))\n",
    "print(numbers)\n",
    "# 使用range()，还可以指定步长\n",
    "even_number = list(range(2, 11, 2))\n",
    "print(even_number)\n",
    "# 使用range()创建一个列表，其中包含前10个整数的平方\n",
    "square_numbers = []\n",
    "for value in range(1, 11):\n",
    "    square_number = value**2\n",
    "    square_numbers.append(square_number)\n",
    "print(square_numbers)\n",
    "# 优化代码，不用临时变量\n",
    "squares = []\n",
    "for value in range(1, 11):\n",
    "    squares.append(value**2)\n",
    "print(squares)\n",
    "# 对于代码的优化来说：\n",
    "# 你首先应该考虑的是，编写清晰易懂且能完成 所需功能的代码，等到审核代码时，再考虑采用更高效的方法。"
   ]
  },
  {
   "cell_type": "code",
   "execution_count": 34,
   "metadata": {},
   "outputs": [
    {
     "name": "stdout",
     "output_type": "stream",
     "text": [
      "[0, 1, 2, 3, 4, 5, 6, 7, 8, 9]\n",
      "0\n",
      "9\n",
      "45\n"
     ]
    }
   ],
   "source": [
    "# 对数字列表执行简单的统计计算\n",
    "digits = list(range(0,10))\n",
    "print(digits)\n",
    "print(min(digits))\n",
    "print(max(digits))\n",
    "print(sum(digits))"
   ]
  },
  {
   "cell_type": "code",
   "execution_count": 36,
   "metadata": {},
   "outputs": [
    {
     "name": "stdout",
     "output_type": "stream",
     "text": [
      "[1, 4, 9, 16, 25, 36, 49, 64, 81, 100]\n"
     ]
    }
   ],
   "source": [
    "# 列表解析\n",
    "# 前面计算平方数的代码做一个整理，就变成下面的代码了\n",
    "squares = [value **2 for value in range(1,11)]\n",
    "print(squares)\n",
    "# 要使用这种语法，首先指定一个描述性的列表名，如squares 。然 后，指定一个左方括号，并定义一个表达式，用于生成要存储到列 表中的值。在这个示例中，表达式为value**2 ，它计算平方值。 接下来，编写一个for 循环，用于给表达式ᨀ 供值，再加上右方括 号。在这个示例中，for 循环为for value in range(1,11) ， 它将值1～10ᨀ 供给表达式value**2 。请注意，这里的for 语句末 尾没有冒号。"
   ]
  },
  {
   "cell_type": "code",
   "execution_count": 69,
   "metadata": {},
   "outputs": [
    {
     "data": {
      "text/plain": [
       "[1, 2, 3, 4, 5, 6, 7, 8, 9, 10, 11, 12, 13, 14, 15, 16, 17, 18, 19, 20]"
      ]
     },
     "execution_count": 69,
     "metadata": {},
     "output_type": "execute_result"
    }
   ],
   "source": [
    "# 练习4-3\n",
    "# 方法一：for循环+range法\n",
    "numbers = []\n",
    "for value in range(1,21):\n",
    "    numbers.append(value)\n",
    "numbers"
   ]
  },
  {
   "cell_type": "code",
   "execution_count": 60,
   "metadata": {},
   "outputs": [
    {
     "data": {
      "text/plain": [
       "[1, 2, 3, 4, 5, 6, 7, 8, 9, 10, 11, 12, 13, 14, 15, 16, 17, 18, 19, 20]"
      ]
     },
     "execution_count": 60,
     "metadata": {},
     "output_type": "execute_result"
    }
   ],
   "source": [
    "# 方法二：列表解析法\n",
    "numbers_v1 = [value for value in range(1,21)]\n",
    "numbers_v1"
   ]
  },
  {
   "cell_type": "code",
   "execution_count": 63,
   "metadata": {},
   "outputs": [
    {
     "data": {
      "text/plain": [
       "[1, 2, 3, 4, 5, 6, 7, 8, 9, 10, 11, 12, 13, 14, 15, 16, 17, 18, 19, 20]"
      ]
     },
     "execution_count": 63,
     "metadata": {},
     "output_type": "execute_result"
    }
   ],
   "source": [
    "# 方法三：range()创建法\n",
    "numbers_v2 = list(range(1,21))\n",
    "numbers_v2"
   ]
  },
  {
   "cell_type": "code",
   "execution_count": 89,
   "metadata": {},
   "outputs": [
    {
     "name": "stdout",
     "output_type": "stream",
     "text": [
      "最小值为0\n",
      "最大值为1\n",
      "500000500000\n"
     ]
    }
   ],
   "source": [
    "# 练习4-5\n",
    "# 创建列表\n",
    "oneMillion = list(range(1,1000001))\n",
    "# print(min(oneMillion))\n",
    "if(min(oneMillion)==1):\n",
    "    print('最小值为0')\n",
    "if(max(oneMillion)==1000000):\n",
    "    print('最大值为1')\n",
    "print(sum(oneMillion))\n"
   ]
  },
  {
   "cell_type": "code",
   "execution_count": 95,
   "metadata": {},
   "outputs": [
    {
     "name": "stdout",
     "output_type": "stream",
     "text": [
      "1\n",
      "3\n",
      "5\n",
      "7\n",
      "9\n",
      "11\n",
      "13\n",
      "15\n",
      "17\n",
      "19\n"
     ]
    }
   ],
   "source": [
    "# 练习4-6\n",
    "odd_numbers = list(range(1,21,2))\n",
    "odd_numbers\n",
    "for odd in odd_numbers:\n",
    "    print(odd)"
   ]
  },
  {
   "cell_type": "code",
   "execution_count": 99,
   "metadata": {},
   "outputs": [
    {
     "name": "stdout",
     "output_type": "stream",
     "text": [
      "3\n",
      "6\n",
      "9\n",
      "12\n",
      "15\n",
      "18\n",
      "21\n",
      "24\n",
      "27\n",
      "30\n"
     ]
    }
   ],
   "source": [
    "# 练习4-7\n",
    "three_multiples = list(range(3,31,3))\n",
    "three_multiples\n",
    "for three_multiple in three_multiples:\n",
    "    print(three_multiple)"
   ]
  },
  {
   "cell_type": "code",
   "execution_count": 108,
   "metadata": {},
   "outputs": [
    {
     "name": "stdout",
     "output_type": "stream",
     "text": [
      "1\n",
      "8\n",
      "27\n",
      "64\n",
      "125\n",
      "216\n",
      "343\n",
      "512\n",
      "729\n",
      "1000\n"
     ]
    }
   ],
   "source": [
    "# 练习4-8\n",
    "# 使用range()创建列表\n",
    "cubeds = []\n",
    "for value in range(1,11):\n",
    "    cubed = value **3\n",
    "    cubeds.append(cubed)\n",
    "for cubed in cubeds:\n",
    "    print(cubed)"
   ]
  },
  {
   "cell_type": "code",
   "execution_count": 109,
   "metadata": {},
   "outputs": [
    {
     "name": "stdout",
     "output_type": "stream",
     "text": [
      "[1, 8, 27, 64, 125, 216, 343, 512, 729, 1000]\n",
      "1\n",
      "8\n",
      "27\n",
      "64\n",
      "125\n",
      "216\n",
      "343\n",
      "512\n",
      "729\n",
      "1000\n"
     ]
    }
   ],
   "source": [
    "# 练习4-9\n",
    "# 这种叫列表解析\n",
    "cubeds = [value **3 for value in range(1,11)]\n",
    "print(cubeds)\n",
    "for cubed in cubeds:\n",
    "    print(cubed)"
   ]
  },
  {
   "cell_type": "code",
   "execution_count": 115,
   "metadata": {},
   "outputs": [
    {
     "name": "stdout",
     "output_type": "stream",
     "text": [
      "['charles', 'martina', 'michael']\n",
      "['martina', 'michael', 'florence']\n",
      "['charles', 'martina', 'michael', 'florence']\n",
      "['michael', 'florence', 'eli']\n",
      "['michael', 'florence', 'eli']\n"
     ]
    }
   ],
   "source": [
    "# 使用列表的一部分\n",
    "# 切片\n",
    "players = ['charles','martina','michael','florence','eli']\n",
    "print(players[0:3])\n",
    "# 打印第2号到四号\n",
    "print(players[1:4])\n",
    "# 如果没有指定起始索引，Python从列表头开始提取\n",
    "print(players[:4])\n",
    "# 没有指定终止索引，Python从列表尾结束\n",
    "print(players[2:])\n",
    "# -1为列表最后一个元素，这个一直通用\n",
    "print(players[-3:])"
   ]
  },
  {
   "cell_type": "code",
   "execution_count": 117,
   "metadata": {},
   "outputs": [
    {
     "name": "stdout",
     "output_type": "stream",
     "text": [
      "Here are the first three players on my team:\n",
      "Charles\n",
      "Martina\n",
      "Michael\n"
     ]
    }
   ],
   "source": [
    "#遍历切片\n",
    "players = ['charles','martina','michael','florence','eli']\n",
    "print(\"Here are the first three players on my team:\")\n",
    "for player in players[:3]:\n",
    "    print(player.title())"
   ]
  },
  {
   "cell_type": "code",
   "execution_count": 120,
   "metadata": {},
   "outputs": [
    {
     "name": "stdout",
     "output_type": "stream",
     "text": [
      "My favorite foods are:\n",
      "['pizza', 'falafel', 'carrot cake']\n",
      "\n",
      "My friend's favorite foods are:\n",
      "['pizza', 'falafel', 'carrot cake']\n"
     ]
    }
   ],
   "source": [
    "# 复制列表,用[:]\n",
    "my_foods = ['pizza','falafel','carrot cake']\n",
    "friend_foods = my_foods[:]\n",
    "print(\"My favorite foods are:\")\n",
    "print(my_foods)\n",
    "\n",
    "print(\"\\nMy friend's favorite foods are:\")\n",
    "print(friend_foods)"
   ]
  },
  {
   "cell_type": "code",
   "execution_count": 123,
   "metadata": {},
   "outputs": [
    {
     "name": "stdout",
     "output_type": "stream",
     "text": [
      "My favorite foods are:\n",
      "['pizza', 'falafel', 'carrot cake', 'cannoli']\n",
      "\n",
      "My friend's favorite foods are:\n",
      "['pizza', 'falafel', 'carrot cake', 'ice cream']\n"
     ]
    }
   ],
   "source": [
    "# 给其中一个列表添加一个元素\n",
    "my_foods = ['pizza','falafel','carrot cake']\n",
    "friend_foods = my_foods[:]\n",
    "my_foods.append('cannoli')\n",
    "friend_foods.append('ice cream')\n",
    "print('My favorite foods are:')\n",
    "print(my_foods)\n",
    "\n",
    "print(\"\\nMy friend's favorite foods are:\")\n",
    "print(friend_foods)\n"
   ]
  },
  {
   "cell_type": "code",
   "execution_count": 3,
   "metadata": {},
   "outputs": [
    {
     "name": "stdout",
     "output_type": "stream",
     "text": [
      "My favorite foods are:\n",
      "['pizza', 'falafel', 'carrot cake', 'cannoli', 'ice cream']\n",
      "\n",
      "My friend's favorite foods are:\n",
      "['pizza', 'falafel', 'carrot cake', 'cannoli', 'ice cream']\n"
     ]
    }
   ],
   "source": [
    "# 不使用切片的话，就无法得到两个列表\n",
    "my_foods = ['pizza','falafel','carrot cake']\n",
    "# 这样行不通\n",
    "friend_foods = my_foods\n",
    "my_foods.append('cannoli')\n",
    "friend_foods.append('ice cream')\n",
    "print('My favorite foods are:')\n",
    "print(my_foods)\n",
    "print(\"\\nMy friend's favorite foods are:\")\n",
    "print(friend_foods)\n",
    "# 这样的话，my_foods列表里的内容和friends_foods列表中的内容一样\n",
    "# 就没法得到两个列表了"
   ]
  },
  {
   "cell_type": "code",
   "execution_count": 8,
   "metadata": {},
   "outputs": [
    {
     "name": "stdout",
     "output_type": "stream",
     "text": [
      "My favorite pizzas are:\n",
      "Peigen\n",
      "Mangguo\n",
      "Zhishi\n",
      "\n",
      "My friend's favorite pizzas are:\n",
      "Peigen\n",
      "Mangguo\n",
      "Zhishi\n",
      "My favorite pizzas are:\n",
      "Peigen\n",
      "Mangguo\n",
      "Zhishi\n",
      "Yerong\n",
      "\n",
      "My friend's favorite pizzas are:\n",
      "Peigen\n",
      "Mangguo\n",
      "Zhishi\n",
      "Nailao\n"
     ]
    }
   ],
   "source": [
    "# 练习4-10\n",
    "my_pizzas = ['peigen','mangguo','zhishi']\n",
    "friend_pizzas = my_pizzas[:]\n",
    "print('My favorite pizzas are:')\n",
    "for my_pizza in my_pizzas:\n",
    "    print(my_pizza.title())\n",
    "print(\"\\nMy friend's favorite pizzas are:\")\n",
    "for friend_pizza in friend_pizzas:\n",
    "    print(friend_pizza.title())\n",
    "\n",
    "# 原来的pizza中添加一个\n",
    "my_pizzas.append('yerong')\n",
    "friend_pizzas.append('nailao')\n",
    "print('My favorite pizzas are:')\n",
    "for my_pizza in my_pizzas:\n",
    "    print(my_pizza.title())\n",
    "print(\"\\nMy friend's favorite pizzas are:\")\n",
    "for friend_pizza in friend_pizzas:\n",
    "    print(friend_pizza.title())"
   ]
  },
  {
   "cell_type": "code",
   "execution_count": 11,
   "metadata": {},
   "outputs": [
    {
     "name": "stdout",
     "output_type": "stream",
     "text": [
      "200\n",
      "50\n"
     ]
    }
   ],
   "source": [
    "# 元组\n",
    "# 元组看起来很像列表，但使用圆括号而非中括号来标识。定义元组 后，就可使用索引来访问其元素，就像访问列表元素一样。\n",
    "# Python将不能修改的值称为不可变的 ，而不可变的列 表被称为元组 。\n",
    "'''\n",
    "1.那么区分元组和列表的第一个因素就是：\n",
    "列表是可变的，元组是不可变的\n",
    "2.列表用的是方括号[]，元组用的是圆括号()\n",
    "'''\n",
    "# 定义元组\n",
    "dimensions = (200,50)\n",
    "print(dimensions[0])\n",
    "print(dimensions[1])\n",
    "# 打印各个元素用的语法还是一样的\n"
   ]
  },
  {
   "cell_type": "code",
   "execution_count": 13,
   "metadata": {},
   "outputs": [
    {
     "data": {
      "text/plain": [
       "\"\\n会报错：\\nTypeError: 'tuple' object does not support item assignment\\n也就是说不能给元组的元素赋值\\n\""
      ]
     },
     "execution_count": 13,
     "metadata": {},
     "output_type": "execute_result"
    }
   ],
   "source": [
    "# 尝试修改元组dimensions的一个元素，发现无法修改\n",
    "dimensions = (200,50)\n",
    "# dimensions[0] = 250\n",
    "'''\n",
    "会报错：\n",
    "TypeError: 'tuple' object does not support item assignment\n",
    "也就是说不能给元组的元素赋值\n",
    "'''"
   ]
  },
  {
   "cell_type": "code",
   "execution_count": 15,
   "metadata": {},
   "outputs": [],
   "source": [
    "# 还有需要注意的是，即便元组中只有一个元素，也要加上逗号，\n",
    "my_t = (3,)"
   ]
  },
  {
   "cell_type": "code",
   "execution_count": 23,
   "metadata": {},
   "outputs": [
    {
     "name": "stdout",
     "output_type": "stream",
     "text": [
      "200\n",
      "50\n"
     ]
    }
   ],
   "source": [
    "# 遍历元组中的所有值\n",
    "# 使用for循环遍历\n",
    "dimensions = (200,50)\n",
    "for dimension in dimensions:\n",
    "    print(dimension)"
   ]
  },
  {
   "cell_type": "code",
   "execution_count": 20,
   "metadata": {},
   "outputs": [
    {
     "name": "stdout",
     "output_type": "stream",
     "text": [
      "Original dimensions:\n",
      "200\n",
      "50\n",
      "\n",
      "Modified dimensions:\n",
      "400\n",
      "100\n"
     ]
    }
   ],
   "source": [
    "# 虽然不能给元组的元素赋值，但是可以元组这个变量重新赋值\n",
    "dimensions = (200,50)\n",
    "print('Original dimensions:')\n",
    "for dimension in dimensions:\n",
    "    print(dimension)\n",
    "\n",
    "dimensions = (400,100)\n",
    "print('\\nModified dimensions:')\n",
    "for dimension in dimensions:\n",
    "    print(dimension)"
   ]
  }
 ],
 "metadata": {
  "interpreter": {
   "hash": "2a1c5134f09a4e3c2c7847f64b09d100d113420894679a48e1947bfe27b2d3de"
  },
  "kernelspec": {
   "display_name": "Python 3.8.13 ('devenv')",
   "language": "python",
   "name": "python3"
  },
  "language_info": {
   "codemirror_mode": {
    "name": "ipython",
    "version": 3
   },
   "file_extension": ".py",
   "mimetype": "text/x-python",
   "name": "python",
   "nbconvert_exporter": "python",
   "pygments_lexer": "ipython3",
   "version": "3.8.13"
  },
  "orig_nbformat": 4
 },
 "nbformat": 4,
 "nbformat_minor": 2
}
