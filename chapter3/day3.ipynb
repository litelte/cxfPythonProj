{
 "cells": [
  {
   "cell_type": "code",
   "execution_count": 5,
   "metadata": {},
   "outputs": [
    {
     "name": "stdout",
     "output_type": "stream",
     "text": [
      "['audi', 'bmw', 'subaru', 'toyota']\n",
      "['toyota', 'subaru', 'bmw', 'audi']\n"
     ]
    }
   ],
   "source": [
    "# 开始学习组织列表\n",
    "# 使用sort()方法对列表进行永久排序\n",
    "cars = ['bmw','audi','toyota','subaru']\n",
    "cars.sort()\n",
    "print(cars)\n",
    "# 使用sort()排序完就没法恢复到以前的样子了，就是按照字母顺序进行排序的\n",
    "# 当然还是可以按照字母顺序相反的顺序排列列表元素\n",
    "cars.sort(reverse=True)\n",
    "print(cars)\n",
    "# 同样，对列表元素排列顺序相反的方向的修改也是永久的"
   ]
  },
  {
   "cell_type": "code",
   "execution_count": 11,
   "metadata": {},
   "outputs": [
    {
     "name": "stdout",
     "output_type": "stream",
     "text": [
      "Here is the original list:\n",
      "['bmw', 'audi', 'toyota', 'subaru']\n",
      "\n",
      "Here is the sorted list:\n",
      "['audi', 'bmw', 'subaru', 'toyota']\n",
      "\n",
      "Here is the original list again:\n",
      "['bmw', 'audi', 'toyota', 'subaru']\n",
      "临行地按照相反顺序排列：\n",
      "['toyota', 'subaru', 'bmw', 'audi']\n"
     ]
    }
   ],
   "source": [
    "# 使用sorted()对列表临时排序\n",
    "cars = ['bmw','audi','toyota','subaru']\n",
    "print(\"Here is the original list:\")\n",
    "print(cars)\n",
    "print(\"\\nHere is the sorted list:\")\n",
    "print(sorted(cars))\n",
    "print(\"\\nHere is the original list again:\")\n",
    "print(cars)\n",
    "# 如果要使用相反的排列顺序，依然可以用属性reverse = True\n",
    "print(\"临行地按照相反顺序排列：\")\n",
    "print(sorted(cars,reverse=True))"
   ]
  },
  {
   "cell_type": "code",
   "execution_count": 15,
   "metadata": {},
   "outputs": [
    {
     "name": "stdout",
     "output_type": "stream",
     "text": [
      "['bmw', 'audi', 'toyota', 'subaru']\n",
      "['subaru', 'toyota', 'audi', 'bmw']\n"
     ]
    }
   ],
   "source": [
    "# 倒着打印列表\n",
    "cars = ['bmw','audi','toyota','subaru']\n",
    "print(cars)\n",
    "cars.reverse()\n",
    "print(cars)\n",
    "# 这个倒序打印也是永久性的"
   ]
  },
  {
   "cell_type": "code",
   "execution_count": 18,
   "metadata": {},
   "outputs": [
    {
     "data": {
      "text/plain": [
       "4"
      ]
     },
     "execution_count": 18,
     "metadata": {},
     "output_type": "execute_result"
    }
   ],
   "source": [
    "# 确定列表的长度\n",
    "cars = ['bmw','audi','toyota','subaru']\n",
    "len(cars)"
   ]
  },
  {
   "cell_type": "code",
   "execution_count": 34,
   "metadata": {},
   "outputs": [
    {
     "name": "stdout",
     "output_type": "stream",
     "text": [
      "['the great well', 'huashan', 'songshan', 'taishan', 'disneyland']\n",
      "['disneyland', 'huashan', 'songshan', 'taishan', 'the great well']\n",
      "['the great well', 'huashan', 'songshan', 'taishan', 'disneyland']\n",
      "['the great well', 'taishan', 'songshan', 'huashan', 'disneyland']\n",
      "['the great well', 'huashan', 'songshan', 'taishan', 'disneyland']\n",
      "['disneyland', 'taishan', 'songshan', 'huashan', 'the great well']\n",
      "['the great well', 'huashan', 'songshan', 'taishan', 'disneyland']\n",
      "['disneyland', 'huashan', 'songshan', 'taishan', 'the great well']\n",
      "['the great well', 'taishan', 'songshan', 'huashan', 'disneyland']\n"
     ]
    }
   ],
   "source": [
    "# 练习3-8\n",
    "dreamSpace = ['the great well','huashan','songshan','taishan','disneyland']\n",
    "print(dreamSpace)\n",
    "print(sorted(dreamSpace))\n",
    "print(dreamSpace)\n",
    "print(sorted(dreamSpace,reverse=True))\n",
    "print(dreamSpace)\n",
    "dreamSpace.reverse()\n",
    "print(dreamSpace)\n",
    "dreamSpace.reverse()\n",
    "print(dreamSpace)\n",
    "dreamSpace.sort()\n",
    "print(dreamSpace)\n",
    "dreamSpace.sort(reverse=True)\n",
    "print(dreamSpace)"
   ]
  },
  {
   "cell_type": "code",
   "execution_count": 37,
   "metadata": {},
   "outputs": [
    {
     "data": {
      "text/plain": [
       "3"
      ]
     },
     "execution_count": 37,
     "metadata": {},
     "output_type": "execute_result"
    }
   ],
   "source": [
    "# 练习3-9\n",
    "invited_Person = ['zhong nan shan','zhang wen hong','elon mask']\n",
    "invited_Person\n",
    "len(invited_Person)"
   ]
  },
  {
   "cell_type": "code",
   "execution_count": 15,
   "metadata": {},
   "outputs": [
    {
     "name": "stdout",
     "output_type": "stream",
     "text": [
      "['China', 'India', 'Indonesia', 'Thailand', 'Vietnam', 'Singapore']\n",
      "['China', 'India', 'Indonesia', 'Thailand', 'Vietnam', 'Singapore', 'Japan']\n",
      "CHINA\n",
      "china\n",
      "INDIA\n",
      "india\n",
      "INDONESIA\n",
      "indonesia\n",
      "THAILAND\n",
      "thailand\n",
      "VIETNAM\n",
      "vietnam\n",
      "SINGAPORE\n",
      "singapore\n",
      "JAPAN\n",
      "japan\n",
      "['China', 'South Korea', 'India', 'Indonesia', 'Thailand', 'Vietnam', 'Singapore', 'Japan']\n",
      "['China', 'India', 'Indonesia', 'Thailand', 'Vietnam', 'Singapore', 'Japan']\n",
      "Japan\n",
      "Singapore\n",
      "Vietnam\n",
      "Thailand\n",
      "Indonesia\n",
      "\n",
      "列表中剩下的国家：\n",
      "['China', 'India']\n",
      "再弹出一个元素\n",
      "India\n",
      "['China']\n",
      "最后剩下的元素\n",
      "[]\n",
      "没有元素了\n"
     ]
    }
   ],
   "source": [
    "# 使用本章的所有函数\n",
    "nation = ['China','India', 'Indonesia', 'Thailand', 'Vietnam', 'Singapore']\n",
    "print(nation)\n",
    "# 添加元素\n",
    "nation.append('Japan')\n",
    "print(nation)\n",
    "# 将列表中的所有元素逐个地大写输出\n",
    "for i in range(0,len(nation)):\n",
    "    print(nation[i].upper())\n",
    "    print(nation[i].lower())\n",
    "# 插入元素\n",
    "nation.insert(1,'South Korea')\n",
    "print(nation)\n",
    "# 使用删除\n",
    "del nation[1]\n",
    "print(nation)\n",
    "# 使用pop弹出要删除的国家，并将弹出的结果输出\n",
    "for i in range(0,len(nation)-2):\n",
    "    # pop()的正确用法\n",
    "    poped_nation = nation.pop()\n",
    "    print(poped_nation)\n",
    "\n",
    "print(\"\\n列表中剩下的国家：\")\n",
    "print(nation)\n",
    "# 指定弹出某个元素\n",
    "plan_poped = nation.pop(1)\n",
    "print('再弹出一个元素')\n",
    "print(plan_poped)\n",
    "# 现在剩下的元素\n",
    "print(nation)\n",
    "# 使用remove()移除最后一个元素,remove是根据值来删除元素\n",
    "nation.remove('China')\n",
    "# 最后剩下的元素\n",
    "print('最后剩下的元素')\n",
    "print(nation)\n",
    "if(len(nation)):\n",
    "    print(f'最后还剩下了{len(nation)}个元素！')\n",
    "print(\"没有元素了\")"
   ]
  },
  {
   "cell_type": "code",
   "execution_count": 37,
   "metadata": {},
   "outputs": [
    {
     "name": "stdout",
     "output_type": "stream",
     "text": [
      "['China', 'India', 'Indonesia', 'Singapore', 'Thailand', 'Vietnam']\n",
      "['Vietnam', 'Thailand', 'Singapore', 'Indonesia', 'India', 'China']\n",
      "['China', 'India', 'Indonesia', 'Singapore', 'Thailand', 'Vietnam']\n"
     ]
    },
    {
     "data": {
      "text/plain": [
       "6"
      ]
     },
     "execution_count": 37,
     "metadata": {},
     "output_type": "execute_result"
    }
   ],
   "source": [
    "# 练习组织列表，简简单单创建一个列表\n",
    "nations = ['China','India', 'Indonesia', 'Thailand', 'Vietnam', 'Singapore']\n",
    "# 使用sort对列表进行排序\n",
    "nations.sort()\n",
    "print(nations)\n",
    "# 倒序输出\n",
    "nations.sort(reverse=True)\n",
    "print(nations)\n",
    "# 临时排序\n",
    "print(sorted(nations))\n",
    "# 临时倒序输出\n",
    "sorted(nations,reverse=True)\n",
    "# 需要记住的是，sort()和sorted()的用法是不一样的\n",
    "# 确定列表的长度\n",
    "len(nations)"
   ]
  }
 ],
 "metadata": {
  "interpreter": {
   "hash": "2a1c5134f09a4e3c2c7847f64b09d100d113420894679a48e1947bfe27b2d3de"
  },
  "kernelspec": {
   "display_name": "Python 3.8.13 ('devenv')",
   "language": "python",
   "name": "python3"
  },
  "language_info": {
   "codemirror_mode": {
    "name": "ipython",
    "version": 3
   },
   "file_extension": ".py",
   "mimetype": "text/x-python",
   "name": "python",
   "nbconvert_exporter": "python",
   "pygments_lexer": "ipython3",
   "version": "3.8.13"
  },
  "orig_nbformat": 4
 },
 "nbformat": 4,
 "nbformat_minor": 2
}
