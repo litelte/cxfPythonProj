{
 "cells": [
  {
   "cell_type": "code",
   "execution_count": 1,
   "metadata": {},
   "outputs": [
    {
     "name": "stdout",
     "output_type": "stream",
     "text": [
      "\n",
      "Key: username\n",
      "Value: efermi\n",
      "\n",
      "Key: first\n",
      "Value: enrico\n",
      "\n",
      "Key: last\n",
      "Value: fermi\n"
     ]
    }
   ],
   "source": [
    "# 遍历字典\n",
    "# 遍历的是，所有的键值对，也可仅遍历键或者值\n",
    "user_0 = {'username': 'efermi', 'first': 'enrico', 'last': 'fermi'}\n",
    "for key, value in user_0.items():\n",
    "    print(f\"\\nKey: {key}\")\n",
    "    print(f\"Value: {value}\")"
   ]
  },
  {
   "cell_type": "code",
   "execution_count": 6,
   "metadata": {},
   "outputs": [
    {
     "name": "stdout",
     "output_type": "stream",
     "text": [
      "Jen's favorite language is Python\n",
      "Sarah's favorite language is C\n",
      "Edward's favorite language is Ruby\n",
      "Phil's favorite language is Python\n"
     ]
    }
   ],
   "source": [
    "# 不同的字典，会有不同的键值对，所以命名会有些不一样的\n",
    "favorite_languages = {'jen': 'python', 'sarah': 'c', 'edward': 'ruby', 'phil': 'python'}\n",
    "for name,language in favorite_languages.items():\n",
    "    print(f\"{name.title()}'s favorite language is {language.title()}\")\n",
    "# 唯一不变的就是title()"
   ]
  },
  {
   "cell_type": "code",
   "execution_count": 7,
   "metadata": {},
   "outputs": [
    {
     "name": "stdout",
     "output_type": "stream",
     "text": [
      "Jen\n",
      "Sarah\n",
      "Edward\n",
      "Phil\n"
     ]
    }
   ],
   "source": [
    "# 遍历字典中的所有键\n",
    "favorite_languages = {'jen': 'python', 'sarah': 'c', 'edward': 'ruby', 'phil': 'python'}\n",
    "for name in favorite_languages.keys():\n",
    "    print(name.title())"
   ]
  },
  {
   "cell_type": "code",
   "execution_count": 8,
   "metadata": {},
   "outputs": [],
   "source": [
    "# 将favorite_languages.key()更换为favorite_languages输出也是不会变化的\n",
    "# 不过显式地使用方法keys()可以让代码更好理解，怎么显示，看自己的选择了"
   ]
  },
  {
   "cell_type": "code",
   "execution_count": 13,
   "metadata": {},
   "outputs": [
    {
     "name": "stdout",
     "output_type": "stream",
     "text": [
      "Hi Jen.\n",
      "Hi Sarah.\n",
      "\tSarah,I see you love C!\n",
      "Hi Edward.\n",
      "Hi Phil.\n",
      "\tPhil,I see you love Python!\n"
     ]
    }
   ],
   "source": [
    "# favorite_languages = {\n",
    "#     --snip--\n",
    "# }\n",
    "favorite_languages = {'jen':'python','sarah':'c','edward':'ruby','phil':'python'}\n",
    "friends = {'phil', 'sarah'}\n",
    "# 先逐个打印喜欢的语言中的键，也就是人名：\n",
    "for name in favorite_languages.keys():\n",
    "    print(f\"Hi {name.title()}.\")\n",
    "    if name in friends:\n",
    "        language = favorite_languages[name].title()\n",
    "        # 然后根据条件打印相应的语言\n",
    "        print(f\"\\t{name.title()},I see you love {language}!\")"
   ]
  },
  {
   "cell_type": "code",
   "execution_count": 15,
   "metadata": {},
   "outputs": [
    {
     "name": "stdout",
     "output_type": "stream",
     "text": [
      "Erin,please take our poll!\n"
     ]
    }
   ],
   "source": [
    "# 还可使用方法keys()确定某个人是否接受了调查\n",
    "favorite_languages = {\n",
    "    'jen':'python',\n",
    "    'sarah':'c',\n",
    "    'edward':'rubt',\n",
    "    'phil':'python'\n",
    "}\n",
    "if 'erin' not in favorite_languages.keys():\n",
    "    print(\"Erin,please take our poll!\")\n",
    "# 方法key()并非只能用于遍历，它还返回一个列表，其中包含字典中的所有键"
   ]
  },
  {
   "cell_type": "code",
   "execution_count": 18,
   "metadata": {},
   "outputs": [
    {
     "name": "stdout",
     "output_type": "stream",
     "text": [
      "Edward,thank you for taking the poll.\n",
      "Jen,thank you for taking the poll.\n",
      "Phil,thank you for taking the poll.\n",
      "Sarah,thank you for taking the poll.\n"
     ]
    },
    {
     "data": {
      "text/plain": [
       "'\\n这条for 语句类似于其他for 语句，不同之处是对方法 dictionary.keys() 的结果调用了函数sorted() 。这让Python列 出字典中的所有键，并在遍历前对这个列表进行排序。输出表明， 按顺序显示了所有被调查者的名字：\\n'"
      ]
     },
     "execution_count": 18,
     "metadata": {},
     "output_type": "execute_result"
    }
   ],
   "source": [
    "# 按特定顺序遍历字典中的所有键\n",
    "# 从Python 3.7起，遍历字典时将按插入的顺序返回其中的元素。不 过在有些情况下，你可能要按与此不同的顺序遍历字典。\n",
    "favorite_languages = {\n",
    "    'jen':'python',\n",
    "    'sarah':'c',\n",
    "    'edward':'ruby',\n",
    "    'phil':'python'\n",
    "}\n",
    "for name in sorted(favorite_languages.keys()):\n",
    "    print(f\"{name.title()},thank you for taking the poll.\")\n",
    "'''\n",
    "这条for 语句类似于其他for 语句，不同之处是对方法 dictionary.keys() 的结果调用了函数sorted() 。这让Python列 出字典中的所有键，并在遍历前对这个列表进行排序。输出表明， 按顺序显示了所有被调查者的名字：\n",
    "'''"
   ]
  },
  {
   "cell_type": "code",
   "execution_count": 19,
   "metadata": {},
   "outputs": [
    {
     "name": "stdout",
     "output_type": "stream",
     "text": [
      "The following language have been mentioned:\n",
      "Python\n",
      "C\n",
      "Ruby\n",
      "Python\n"
     ]
    }
   ],
   "source": [
    "# 遍历字典中的所有值\n",
    "favorite_languages = {\n",
    "    'jen': 'python',\n",
    "    'sarah':'c',\n",
    "    'edward':'ruby',\n",
    "    'phil':'python'\n",
    "}\n",
    "print(\"The following language have been mentioned:\")\n",
    "for language in favorite_languages.values():\n",
    "    print(language.title())"
   ]
  }
 ],
 "metadata": {
  "interpreter": {
   "hash": "2a1c5134f09a4e3c2c7847f64b09d100d113420894679a48e1947bfe27b2d3de"
  },
  "kernelspec": {
   "display_name": "Python 3.8.13 ('devenv')",
   "language": "python",
   "name": "python3"
  },
  "language_info": {
   "codemirror_mode": {
    "name": "ipython",
    "version": 3
   },
   "file_extension": ".py",
   "mimetype": "text/x-python",
   "name": "python",
   "nbconvert_exporter": "python",
   "pygments_lexer": "ipython3",
   "version": "3.8.13"
  },
  "orig_nbformat": 4
 },
 "nbformat": 4,
 "nbformat_minor": 2
}
