{
 "cells": [
  {
   "cell_type": "code",
   "execution_count": 2,
   "metadata": {},
   "outputs": [
    {
     "name": "stdout",
     "output_type": "stream",
     "text": [
      "I love you\n"
     ]
    }
   ],
   "source": [
    "# 计划三天学完while和input部分\n",
    "message = input('Tell me somethings,and I will repeat it back to you:')\n",
    "print(message)\n"
   ]
  },
  {
   "cell_type": "code",
   "execution_count": 4,
   "metadata": {},
   "outputs": [
    {
     "name": "stdout",
     "output_type": "stream",
     "text": [
      "\n",
      "Hello,曹现房!\n"
     ]
    }
   ],
   "source": [
    "# input()这个方法，比C语言中的scanf更直接，直接就是一个print+scanf\n",
    "# 很直接，我很喜欢\n",
    "name = input(\"Please enter your name:\")\n",
    "print(f\"\\nHello,{name}!\")\n"
   ]
  },
  {
   "cell_type": "code",
   "execution_count": 7,
   "metadata": {},
   "outputs": [
    {
     "name": "stdout",
     "output_type": "stream",
     "text": [
      "\n",
      "Hello,曹现房!\n"
     ]
    }
   ],
   "source": [
    "# 有时候，提示可能超过一行\n",
    "prompt = \"If you tell us who you are, we can personalize the messages\"\n",
    "prompt += \"\\nWhat is you first name?\"\n",
    "name = input(prompt)\n",
    "print(f\"\\nHello,{name}!\")\n"
   ]
  },
  {
   "cell_type": "code",
   "execution_count": 15,
   "metadata": {},
   "outputs": [
    {
     "data": {
      "text/plain": [
       "\"\\nTypeError: '>=' not supported between instances of 'str' and 'int'\\n\""
      ]
     },
     "execution_count": 15,
     "metadata": {},
     "output_type": "execute_result"
    }
   ],
   "source": [
    "# 使用int()\n",
    "age = input(\"How old are you?\")\n",
    "age\n",
    "# age由原来的数字类型变成了字符串\n",
    "# 而字符串类型无法直接和数字比较\n",
    "# age >= 18\n",
    "\"\"\"\n",
    "TypeError: '>=' not supported between instances of 'str' and 'int'\n",
    "\"\"\"\n"
   ]
  },
  {
   "cell_type": "code",
   "execution_count": 17,
   "metadata": {},
   "outputs": [
    {
     "data": {
      "text/plain": [
       "True"
      ]
     },
     "execution_count": 17,
     "metadata": {},
     "output_type": "execute_result"
    }
   ],
   "source": [
    "# 所以需要将字符串类型的数字转换成数字类型\n",
    "age = input(\"你多大了？\")\n",
    "age = int(age)\n",
    "age >= 18\n"
   ]
  },
  {
   "cell_type": "code",
   "execution_count": 19,
   "metadata": {},
   "outputs": [
    {
     "name": "stdout",
     "output_type": "stream",
     "text": [
      "\n",
      "等你再大一点再来坐吧！\n"
     ]
    }
   ],
   "source": [
    "# 判断一个人是否满足坐过山车的身高要求\n",
    "height = input(\"你多高，按英寸来算：\")\n",
    "height = int(height)\n",
    "\n",
    "if height >= 48:\n",
    "    print(\"\\n你的身高够坐过山车了！\")\n",
    "else:\n",
    "    print(\"\\n等你再大一点再来坐吧！\")\n"
   ]
  },
  {
   "cell_type": "code",
   "execution_count": 23,
   "metadata": {},
   "outputs": [
    {
     "data": {
      "text/plain": [
       "0"
      ]
     },
     "execution_count": 23,
     "metadata": {},
     "output_type": "execute_result"
    }
   ],
   "source": [
    "# 求模运算符\n",
    "4 % 3\n",
    "5 % 3\n",
    "6 % 3"
   ]
  },
  {
   "cell_type": "code",
   "execution_count": 24,
   "metadata": {},
   "outputs": [],
   "source": [
    "# 通过求模运算符来判断一个数为奇书或者偶数\n",
    "# 当然复杂一点的，也可有求质数因数"
   ]
  },
  {
   "cell_type": "code",
   "execution_count": 27,
   "metadata": {},
   "outputs": [
    {
     "name": "stdout",
     "output_type": "stream",
     "text": [
      "Let me if I can find you a Subaru.\n"
     ]
    }
   ],
   "source": [
    "# 练习7-1\n",
    "transportation = input(\"你要买个什么车？\")\n",
    "print(f\"Let me if I can find you a {transportation.title()}.\")"
   ]
  },
  {
   "cell_type": "code",
   "execution_count": 28,
   "metadata": {},
   "outputs": [
    {
     "name": "stdout",
     "output_type": "stream",
     "text": [
      "没空桌子了，你们要么拆人，要么去其他店吧！\n"
     ]
    }
   ],
   "source": [
    "# 练习7-2\n",
    "numbers = input(\"请问有多少人来吃饭？\")\n",
    "numbers = int(numbers)\n",
    "if numbers > 8:\n",
    "    print(\"没空桌子了，你们要么拆人，要么去其他店吧！\")\n",
    "else:\n",
    "    print(\"家人们，有空桌子呢！\")"
   ]
  },
  {
   "cell_type": "code",
   "execution_count": 34,
   "metadata": {},
   "outputs": [
    {
     "name": "stdout",
     "output_type": "stream",
     "text": [
      "这个数是10的整数倍！\n"
     ]
    }
   ],
   "source": [
    "# 练习7-3\n",
    "number = input(\"你尽管输一个数，我一秒猜出它是不是10的整数倍！！\")\n",
    "number = int(number)\n",
    "isIntegerMultiple = number % 10\n",
    "if isIntegerMultiple:\n",
    "    print(\"这个数不是10的整数倍！\")\n",
    "else:\n",
    "    print(\"这个数是10的整数倍！\")\n"
   ]
  },
  {
   "cell_type": "code",
   "execution_count": 36,
   "metadata": {},
   "outputs": [
    {
     "name": "stdout",
     "output_type": "stream",
     "text": [
      "1\n",
      "2\n",
      "3\n",
      "4\n",
      "5\n"
     ]
    }
   ],
   "source": [
    "# 使用while循环\n",
    "current_number =1\n",
    "# while后面填的是，循环终止的条件\n",
    "while current_number <= 5:\n",
    "    print(current_number)\n",
    "    current_number += 1"
   ]
  },
  {
   "cell_type": "code",
   "execution_count": 38,
   "metadata": {},
   "outputs": [
    {
     "name": "stdout",
     "output_type": "stream",
     "text": [
      "哈哈哈哈哈啊哈\n",
      "一二三四五\n",
      "叽咕叽咕叽咕\n",
      "嘻嘻嘻嘻嘻\n",
      "quit\n"
     ]
    }
   ],
   "source": [
    "# 用户选择何时退出\n",
    "prompt = \"\\nTell me something, and I will repeat it back to you:\"\n",
    "prompt += \"\\nEnter 'quit' to end the program.\"\n",
    "message = \"\"\n",
    "# while后跟的是循环终止的条件\n",
    "while message != 'quit':\n",
    "    message = input(prompt)\n",
    "    print(message)"
   ]
  },
  {
   "cell_type": "code",
   "execution_count": 39,
   "metadata": {},
   "outputs": [
    {
     "name": "stdout",
     "output_type": "stream",
     "text": [
      "你好呀\n",
      "啊喽哈\n",
      "嘿嘿\n",
      "欢迎来到西安\n",
      "真的好累\n"
     ]
    }
   ],
   "source": [
    "# 把打印的quit去掉\n",
    "prompt = \"\\nTell me something, and I will repeat it back to you:\"\n",
    "prompt = \"\\nEnter 'quit' to end the program.\"\n",
    "message = \"\"\n",
    "while message != 'quit':\n",
    "    message = input(prompt)\n",
    "\n",
    "    if message != 'quit':\n",
    "        print(message)"
   ]
  },
  {
   "cell_type": "code",
   "execution_count": 40,
   "metadata": {},
   "outputs": [
    {
     "name": "stdout",
     "output_type": "stream",
     "text": [
      "你好啊\n",
      "这次是全新的代码吗\n",
      "但是功能都是一样的吧\n",
      "好呢\n",
      "那就这样喽\n"
     ]
    }
   ],
   "source": [
    "# 使用标志\n",
    "# 使用标志的意思就是，while后面加的不是条件，而是一个标志位，用这个标志位代替那个条件\n",
    "prompt = \"\\nTell me something, and I will repeat it back to you:\"\n",
    "prompt += \"\\nEnter 'quit' to end the program.\"\n",
    "active = True\n",
    "while active:\n",
    "    message = input(prompt)\n",
    "\n",
    "    if message == 'quit':\n",
    "        active = False\n",
    "    else:\n",
    "        print(message)"
   ]
  },
  {
   "cell_type": "code",
   "execution_count": 41,
   "metadata": {},
   "outputs": [
    {
     "name": "stdout",
     "output_type": "stream",
     "text": [
      "I'd love to go to Xi'An!\n",
      "I'd love to go to Zheng Zhou!\n",
      "I'd love to go to Chengdu !\n",
      "I'd love to go to Qing Dao!\n"
     ]
    }
   ],
   "source": [
    "# 使用break退出循环\n",
    "prompt = \"\\nPlease enter the name of a city you have visited:\"\n",
    "prompt += \"\\n(Enter 'quit' when you are finished.)\"\n",
    "\n",
    "while True:\n",
    "    city = input(prompt)\n",
    "    if city == 'quit':\n",
    "        break\n",
    "    else:\n",
    "        print(f\"I'd love to go to {city.title()}!\")"
   ]
  },
  {
   "cell_type": "code",
   "execution_count": 43,
   "metadata": {},
   "outputs": [
    {
     "name": "stdout",
     "output_type": "stream",
     "text": [
      "1\n",
      "3\n",
      "5\n",
      "7\n",
      "9\n"
     ]
    }
   ],
   "source": [
    "# 在循环中使用continue\n",
    "# 打印10以内的奇数\n",
    "current_number = 0\n",
    "while current_number < 10:\n",
    "    current_number += 1\n",
    "    if current_number %2 == 0:\n",
    "        continue\n",
    "    print(current_number)"
   ]
  },
  {
   "cell_type": "code",
   "execution_count": 45,
   "metadata": {},
   "outputs": [
    {
     "name": "stdout",
     "output_type": "stream",
     "text": [
      "1\n",
      "2\n",
      "3\n",
      "4\n",
      "5\n"
     ]
    }
   ],
   "source": [
    "# 避免无限循环\n",
    "x = 1\n",
    "# 所以这里有限定条件，5以内的数\n",
    "while x <= 5:\n",
    "    print(x)\n",
    "    x += 1"
   ]
  },
  {
   "cell_type": "code",
   "execution_count": 2,
   "metadata": {},
   "outputs": [
    {
     "data": {
      "text/plain": [
       "'\\nx = 1\\nwhile x<=5:\\n    print(x)\\n\\n'"
      ]
     },
     "execution_count": 2,
     "metadata": {},
     "output_type": "execute_result"
    }
   ],
   "source": [
    "# 没完没了地运行\n",
    "\"\"\"\n",
    "x = 1\n",
    "while x<=5:\n",
    "    print(x)\n",
    "\n",
    "\"\"\""
   ]
  },
  {
   "cell_type": "code",
   "execution_count": 1,
   "metadata": {},
   "outputs": [],
   "source": [
    "# 上面的确实不适合，运行都没法通过"
   ]
  },
  {
   "cell_type": "code",
   "execution_count": 5,
   "metadata": {},
   "outputs": [
    {
     "name": "stdout",
     "output_type": "stream",
     "text": [
      "1\n",
      "2\n",
      "3\n",
      "4\n"
     ]
    }
   ],
   "source": [
    "# 练习7-4\n",
    "prompt = \"你要给你的披萨里加啥小料，直接输入就行了，退出的话，输入quit\"\n",
    "isFinish = True\n",
    "while isFinish:\n",
    "    material = input(prompt)\n",
    "    if material.lower() == 'quit':\n",
    "        isFinish = False\n",
    "    else:\n",
    "        print(material)\n"
   ]
  },
  {
   "cell_type": "code",
   "execution_count": 6,
   "metadata": {},
   "outputs": [
    {
     "data": {
      "text/plain": [
       "'\\n其实看一下，就稍微能懂一点了\\n1.首先的问题是，外面可以有输入，但是循环里也必须要有。所以就是，外面的输入有没有无所谓，但是循环里的输入必须有！！\\n2.循环的终止条件是，不符合while后面的那个条件，也就是说，那个标志被判定为不符合时，其实就是False，而不是true\\n'"
      ]
     },
     "execution_count": 6,
     "metadata": {},
     "output_type": "execute_result"
    }
   ],
   "source": [
    "# 再来回顾下刚才的写法，看下到底哪出现了问题\n",
    "# 先来了个input，请求输入\n",
    "material = input(\"输入你要加的料，输入quit来退出：\")\n",
    "isFinish = False\n",
    "while isFinish:\n",
    "    if material.lower() == 'quit':\n",
    "        isFinish = True\n",
    "    else:\n",
    "        print(material)\n",
    "\"\"\"\n",
    "其实看一下，就稍微能懂一点了\n",
    "1.首先的问题是，外面可以有输入，但是循环里也必须要有。所以就是，外面的输入有没有无所谓，但是循环里的输入必须有！！\n",
    "2.循环的终止条件是，不符合while后面的那个条件，也就是说，那个标志被判定为不符合时，其实就是False，而不是true\n",
    "\"\"\""
   ]
  },
  {
   "cell_type": "code",
   "execution_count": 8,
   "metadata": {},
   "outputs": [
    {
     "name": "stdout",
     "output_type": "stream",
     "text": [
      "1\n",
      "2\n",
      "3\n",
      "4\n",
      "5\n",
      "6\n",
      "7\n",
      "8\n",
      "9\n",
      "0\n"
     ]
    }
   ],
   "source": [
    "# 重新写\n",
    "prompt = \"输入你想要在披萨中加的小料！\"\n",
    "prompt += \"最后记得输入quit来结束输入哦！祝您用餐愉快🤭\"\n",
    "isFinish = True\n",
    "while isFinish:\n",
    "    material = input(prompt)\n",
    "    if material.lower() == 'quit':\n",
    "        isFinish = False\n",
    "    else:\n",
    "        print(material)"
   ]
  },
  {
   "cell_type": "code",
   "execution_count": 9,
   "metadata": {},
   "outputs": [
    {
     "name": "stdout",
     "output_type": "stream",
     "text": [
      "您好，帮您查询了，根据您输入的年龄，最后您需要支付12$，祝您观影愉快\n",
      "您好，帮您查询了，根据您输入的年龄，最后您需要支付12$，祝您观影愉快\n",
      "您好，帮您查询了，根据您输入的年龄，最后您需要支付12$，祝您观影愉快\n",
      "您好，帮您查询了，根据您输入的年龄，最后您需要支付0$，祝您观影愉快\n",
      "您好，帮您查询了，根据您输入的年龄，最后您需要支付10$，祝您观影愉快\n",
      "您好，帮您查询了，根据您输入的年龄，最后您需要支付10$，祝您观影愉快\n",
      "您好，帮您查询了，根据您输入的年龄，最后您需要支付0$，祝您观影愉快\n",
      "您好，帮您查询了，根据您输入的年龄，最后您需要支付0$，祝您观影愉快\n",
      "欢迎您下次光临！\n"
     ]
    }
   ],
   "source": [
    "# 练习7-5\n",
    "index = 1\n",
    "prompt = f\"欢迎来到电影院，您是第{index}位观众，电影院根据观众的年龄推出了不同价位的票，\"\n",
    "prompt += \"您先说下您的年龄吧，我这里帮您查一下🤭，输入quit就可以退出查询了\"\n",
    "active = True\n",
    "while active:\n",
    "    age = input(prompt)\n",
    "    if age.lower() == 'quit':\n",
    "        print(\"欢迎您下次光临！\")\n",
    "        break;\n",
    "    else:\n",
    "        age = int(age)\n",
    "        if age < 3:\n",
    "            price = 0\n",
    "        elif age <12:\n",
    "            price = 10\n",
    "        else:\n",
    "            price = 12\n",
    "        print(f\"您好，帮您查询了，根据您输入的年龄，最后您需要支付{price}$，祝您观影愉快\")\n",
    "        index += 1\n",
    "        continue"
   ]
  }
 ],
 "metadata": {
  "interpreter": {
   "hash": "2a1c5134f09a4e3c2c7847f64b09d100d113420894679a48e1947bfe27b2d3de"
  },
  "kernelspec": {
   "display_name": "Python 3.8.13 ('devenv')",
   "language": "python",
   "name": "python3"
  },
  "language_info": {
   "codemirror_mode": {
    "name": "ipython",
    "version": 3
   },
   "file_extension": ".py",
   "mimetype": "text/x-python",
   "name": "python",
   "nbconvert_exporter": "python",
   "pygments_lexer": "ipython3",
   "version": "3.8.13"
  },
  "orig_nbformat": 4
 },
 "nbformat": 4,
 "nbformat_minor": 2
}
