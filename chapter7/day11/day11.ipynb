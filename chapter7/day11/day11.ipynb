{
 "cells": [
  {
   "cell_type": "code",
   "execution_count": 2,
   "metadata": {},
   "outputs": [
    {
     "name": "stdout",
     "output_type": "stream",
     "text": [
      "Verifying user: Candace\n",
      "Verifying user: Brian\n",
      "Verifying user: Alice\n",
      "\n",
      "The following users have been confirmed:\n",
      "Candace\n",
      "Brian\n",
      "Alice\n"
     ]
    }
   ],
   "source": [
    "# 在列表之间移动元素\n",
    "# 先创建一个待验证用户列表和一个用于存储已验证用户的空列表\n",
    "unconfirmed_users = ['alice','brian','candace']\n",
    "confirmed_users = []\n",
    "# 验证每个用户，知道没有未验证用户为止\n",
    "# 将每个经过验证的用户都移到已验证用户列表中\n",
    "while unconfirmed_users:\n",
    "    current_user = unconfirmed_users.pop()\n",
    "\n",
    "    print(f\"Verifying user: {current_user.title()}\")\n",
    "    confirmed_users.append(current_user)\n",
    "\n",
    "# 显示所有已验证的用户\n",
    "print(\"\\nThe following users have been confirmed:\")\n",
    "for confirmed_user in confirmed_users:\n",
    "    print(confirmed_user.title())"
   ]
  },
  {
   "cell_type": "code",
   "execution_count": 2,
   "metadata": {},
   "outputs": [
    {
     "name": "stdout",
     "output_type": "stream",
     "text": [
      "['dog', 'goldfish', 'rabbit']\n"
     ]
    }
   ],
   "source": [
    "# 删除为特定值的所有列表元素\n",
    "# 对于列表的遍历，while循环更加方便\n",
    "pets = [\n",
    "    'dog','cat','goldfish','cat','rabbit','cat'\n",
    "]\n",
    "while 'cat' in pets:\n",
    "    pets.remove('cat')\n",
    "print(pets)\n",
    "# 循环遍历pets列表，把里面所有值为cat的元素都删掉"
   ]
  },
  {
   "cell_type": "code",
   "execution_count": 5,
   "metadata": {},
   "outputs": [
    {
     "name": "stdout",
     "output_type": "stream",
     "text": [
      "\n",
      "--- Poll Results ---\n",
      "xf would like to climb huashan.\n",
      "ming would like to climb lishan.\n"
     ]
    }
   ],
   "source": [
    "# 使用用户输入来填充字典\n",
    "responses = {}\n",
    "# 设置一个标志，指出调查是否继续\n",
    "polling_active = True\n",
    "while polling_active:\n",
    "    # 提示输入被调查者的名字和回答\n",
    "    name = input('\\nWhat is your name? ')\n",
    "    response = input(\"Which mountain would you like to climb someday.\")\n",
    "\n",
    "    # 将回答存储在字典中\n",
    "    responses[name] = response\n",
    "\n",
    "    # 看看是否还有人要参与调查\n",
    "    repeat = input(\"Would you like to let another person respond? (Yes or No?\")\n",
    "    if repeat.lower() == 'no':\n",
    "        # while循环结束就得看标志位，让标志位的值为False，即可结束循环\n",
    "        # 或者直接break，也可结束循环\n",
    "        polling_active = False\n",
    "\n",
    "# 调查结束，显示结果\n",
    "print(\"\\n--- Poll Results ---\")\n",
    "for name,response in responses.items():\n",
    "    print(f\"{name} would like to climb {response}.\")"
   ]
  },
  {
   "cell_type": "code",
   "execution_count": 11,
   "metadata": {},
   "outputs": [
    {
     "name": "stdout",
     "output_type": "stream",
     "text": [
      "I made your drumstick sandwich.\n",
      "I made your beef sandwich.\n",
      "I made your cod sandwich.\n"
     ]
    }
   ],
   "source": [
    "# 练习7-8\n",
    "# 这里转移的优先级，是先从列表的末尾开始，然后一路到列表的开头\n",
    "sandwich_orders = ['cod','beef','drumstick']\n",
    "finished_sandwiches = []\n",
    "while sandwich_orders:\n",
    "    # 使用pop()会优先弹出列表末尾的元素\n",
    "    finished_sandwiche = sandwich_orders.pop()\n",
    "    finished_sandwiches.append(finished_sandwiche)\n",
    "\n",
    "for finished_sandwiche in finished_sandwiches:\n",
    "    print(f\"I made your {finished_sandwiche} sandwich.\")"
   ]
  },
  {
   "cell_type": "code",
   "execution_count": 15,
   "metadata": {},
   "outputs": [
    {
     "name": "stdout",
     "output_type": "stream",
     "text": [
      "熟食店的3份五香烟熏牛肉(pastrami)刚刚已经全部卖完了!\n",
      "你再看下，一份都没了！\n",
      "cod\n",
      "beef\n",
      "drumstick\n"
     ]
    }
   ],
   "source": [
    "# 练习7-9\n",
    "finished_sandwiches = ['cod','pastrami','beef','pastrami','drumstick','pastrami']\n",
    "soldlen = 0\n",
    "while 'pastrami' in finished_sandwiches:\n",
    "    finished_sandwiches.remove('pastrami')\n",
    "    soldlen += 1\n",
    "\n",
    "print(f\"熟食店的{soldlen}份五香烟熏牛肉(pastrami)刚刚已经全部卖完了!\")\n",
    "print(\"你再看下，一份都没了！只剩下了：\")\n",
    "for finished_sandwiche in finished_sandwiches:\n",
    "    print(finished_sandwiche)\n",
    "\n"
   ]
  }
 ],
 "metadata": {
  "interpreter": {
   "hash": "0a4596f6bf28f3bb4c51dd7abc582ccab9b24330e8a9dc4f63857311f67e8492"
  },
  "kernelspec": {
   "display_name": "Python 3.8.13 ('ubuntu2204VMenv')",
   "language": "python",
   "name": "python3"
  },
  "language_info": {
   "codemirror_mode": {
    "name": "ipython",
    "version": 3
   },
   "file_extension": ".py",
   "mimetype": "text/x-python",
   "name": "python",
   "nbconvert_exporter": "python",
   "pygments_lexer": "ipython3",
   "version": "3.8.13"
  },
  "orig_nbformat": 4
 },
 "nbformat": 4,
 "nbformat_minor": 2
}
