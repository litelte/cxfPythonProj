{
 "cells": [
  {
   "cell_type": "code",
   "execution_count": null,
   "metadata": {},
   "outputs": [],
   "source": [
    "message = \"Hello Python world!\"\n",
    "print(message)"
   ]
  },
  {
   "cell_type": "code",
   "execution_count": null,
   "metadata": {},
   "outputs": [],
   "source": [
    "message = \"Hello Python world!\"\n",
    "# 输出错误的未命名的变量后，系统会报错\n",
    "# print(mesage)\n",
    "# 更正变量名后，才会正常输出\n",
    "print(message)"
   ]
  },
  {
   "cell_type": "code",
   "execution_count": null,
   "metadata": {},
   "outputs": [],
   "source": [
    "# 将一条消息赋给变量，并将其打印出来。\n",
    "message1 = \"这是第一个消息\"\n",
    "print(message1)"
   ]
  },
  {
   "cell_type": "code",
   "execution_count": null,
   "metadata": {},
   "outputs": [],
   "source": [
    "message1 = \"这是第二条消息，不过赋值给了第一个变量上了\"\n",
    "print(message1)"
   ]
  },
  {
   "cell_type": "code",
   "execution_count": null,
   "metadata": {},
   "outputs": [],
   "source": [
    "# 在Python中，字符串都需要用引号引起来，用单引号或者双引号都可以\n",
    "# 也可以在字符串中包含引号和撇号"
   ]
  },
  {
   "cell_type": "code",
   "execution_count": null,
   "metadata": {},
   "outputs": [],
   "source": [
    "# 使用方法修改字符串的大小写\n",
    "name = \"ada lovelace\"\n",
    "print(name.title())"
   ]
  },
  {
   "cell_type": "code",
   "execution_count": null,
   "metadata": {},
   "outputs": [],
   "source": [
    "# 将字符串改为全部大写或全部小写\n",
    "name = \"Ada Lovelace\"\n",
    "print(name.upper())\n",
    "print(name.lower())"
   ]
  },
  {
   "cell_type": "code",
   "execution_count": null,
   "metadata": {},
   "outputs": [],
   "source": [
    "# 在字符串中使用变量\n",
    "first_name = \"ada\"\n",
    "last_name = \"lovelace\"\n",
    "# f字符串是设置格式的意思，format方法，可以与变量关联的信息来创建完整的消息\n",
    "full_name = f\"{first_name} {last_name}\"\n",
    "print(full_name)"
   ]
  },
  {
   "cell_type": "code",
   "execution_count": 1,
   "metadata": {},
   "outputs": [
    {
     "name": "stdout",
     "output_type": "stream",
     "text": [
      "Hello ada lovelace\n",
      "Hello, Ada Lovelace\n"
     ]
    }
   ],
   "source": [
    "# 使用f字符串来完成打招呼\n",
    "first_name=\"ada\"\n",
    "last_name=\"lovelace\"\n",
    "full_name=f\"{first_name} {last_name}\"\n",
    "words=\"hello\"\n",
    "#\n",
    "titleName = words.title()\n",
    "print(f\"{titleName} {full_name}\")\n",
    "# 还可以把整条消息赋给变量\n",
    "message = f\"Hello, {full_name.title()}\"\n",
    "print(message)"
   ]
  },
  {
   "cell_type": "code",
   "execution_count": 7,
   "metadata": {},
   "outputs": [
    {
     "name": "stdout",
     "output_type": "stream",
     "text": [
      "Python\n",
      "\tPython\n",
      "\n",
      "Python\n"
     ]
    }
   ],
   "source": [
    "# 添加空白\n",
    "# 通常使用制表符或换行符\n",
    "print(\"Python\")\n",
    "# \\t为制表符\n",
    "print(\"\\tPython\")\n",
    "# 换行符是\\n\n",
    "print(\"\\nPython\")"
   ]
  },
  {
   "cell_type": "code",
   "execution_count": 10,
   "metadata": {},
   "outputs": [
    {
     "name": "stdout",
     "output_type": "stream",
     "text": [
      "Language:\n",
      "\tPython\n",
      "\tC\n",
      "\tJavaScript\n",
      "\tJava\n"
     ]
    }
   ],
   "source": [
    "# 还可以在一个字符串中同时包含制表符和换行符\n",
    "print(\"Language:\\n\\tPython\\n\\tC\\n\\tJavaScript\\n\\tJava\")"
   ]
  },
  {
   "cell_type": "code",
   "execution_count": 15,
   "metadata": {},
   "outputs": [
    {
     "data": {
      "text/plain": [
       "'pytho '"
      ]
     },
     "execution_count": 15,
     "metadata": {},
     "output_type": "execute_result"
    }
   ],
   "source": [
    "# 删除空白，使用rstrip()\n",
    "favorite_language = \"pytho \"\n",
    "# 有空格输出\n",
    "favorite_language\n",
    "# 去掉空格输出\n",
    "favorite_language.rstrip()\n",
    "# 又有了空格输出，可以看出，这个去掉只是暂时的\n",
    "favorite_language"
   ]
  },
  {
   "cell_type": "code",
   "execution_count": 16,
   "metadata": {},
   "outputs": [
    {
     "data": {
      "text/plain": [
       "'Python'"
      ]
     },
     "execution_count": 16,
     "metadata": {},
     "output_type": "execute_result"
    }
   ],
   "source": [
    "# 要想永久删除这个空格，必须将操作的结果关联到变量\n",
    "favorite_language = 'Python '\n",
    "favorite_language = favorite_language.rstrip()\n",
    "favorite_language"
   ]
  },
  {
   "cell_type": "code",
   "execution_count": 18,
   "metadata": {},
   "outputs": [
    {
     "data": {
      "text/plain": [
       "'Python'"
      ]
     },
     "execution_count": 18,
     "metadata": {},
     "output_type": "execute_result"
    }
   ],
   "source": [
    "# 上面的示例，是剔除掉字符串右边的空白，如果要提出左边的空白和中间的空白需要用：\n",
    "# lstrip()和strip()\n",
    "favorite_language = '  Python'\n",
    "favorite_language = favorite_language.lstrip()\n",
    "favorite_language"
   ]
  },
  {
   "cell_type": "code",
   "execution_count": 20,
   "metadata": {},
   "outputs": [
    {
     "data": {
      "text/plain": [
       "'Python'"
      ]
     },
     "execution_count": 20,
     "metadata": {},
     "output_type": "execute_result"
    }
   ],
   "source": [
    "# 剔除两边的空白\n",
    "favorite_language = ' Python  '\n",
    "favorite_language = favorite_language.strip()\n",
    "favorite_language"
   ]
  },
  {
   "cell_type": "code",
   "execution_count": 22,
   "metadata": {},
   "outputs": [
    {
     "name": "stdout",
     "output_type": "stream",
     "text": [
      "One of Python's strengths is its diverse community\n"
     ]
    }
   ],
   "source": [
    "# 正确使用单双引号\n",
    "message = \"One of Python's strengths is its diverse community\"\n",
    "print(message)"
   ]
  },
  {
   "cell_type": "code",
   "execution_count": 25,
   "metadata": {},
   "outputs": [
    {
     "ename": "SyntaxError",
     "evalue": "invalid syntax (2962306694.py, line 3)",
     "output_type": "error",
     "traceback": [
      "\u001b[0;36m  Input \u001b[0;32mIn [25]\u001b[0;36m\u001b[0m\n\u001b[0;31m    message = 'One of Python's strengths is its diverse community'\u001b[0m\n\u001b[0m                             ^\u001b[0m\n\u001b[0;31mSyntaxError\u001b[0m\u001b[0;31m:\u001b[0m invalid syntax\n"
     ]
    }
   ],
   "source": [
    "# 上面的例子就是，单引号在两个双引号之间，程序确实能正确理解\n",
    "# 然而，如果使用单引号在两个单引号之间的话，那结果就不太一样了\n",
    "# message = 'One of Python's strengths is its diverse community'\n",
    "# print(message)"
   ]
  },
  {
   "cell_type": "code",
   "execution_count": 29,
   "metadata": {},
   "outputs": [],
   "source": [
    "# 所以，为了避免上面的那种情况，还是最好要区别单双引号"
   ]
  },
  {
   "cell_type": "code",
   "execution_count": 39,
   "metadata": {},
   "outputs": [
    {
     "name": "stdout",
     "output_type": "stream",
     "text": [
      "Hello Eric, would you like to learn some Python today?\n"
     ]
    }
   ],
   "source": [
    "# 练习2-3\n",
    "yourName = 'eric'\n",
    "print(f\"Hello {yourName.title()}, would you like to learn some Python today?\")"
   ]
  },
  {
   "cell_type": "code",
   "execution_count": 40,
   "metadata": {},
   "outputs": [],
   "source": [
    "# 需要注意的是，f这个方法使用时，一定要注意：f后跟双引号\"\",不是变量不用加花括号"
   ]
  },
  {
   "cell_type": "code",
   "execution_count": 47,
   "metadata": {},
   "outputs": [
    {
     "name": "stdout",
     "output_type": "stream",
     "text": [
      "tim cook\n",
      "TIM COOK\n",
      "Tim Cook\n"
     ]
    }
   ],
   "source": [
    "# 练习2-4\n",
    "first_name = \"tim\"\n",
    "last_name = \"cook\"\n",
    "print(f\"{first_name.lower()} {last_name.lower()}\")\n",
    "print(f\"{first_name.upper()} {last_name.upper()}\")\n",
    "print(f\"{first_name.title()} {last_name.title()}\")\n"
   ]
  },
  {
   "cell_type": "code",
   "execution_count": 50,
   "metadata": {},
   "outputs": [
    {
     "name": "stdout",
     "output_type": "stream",
     "text": [
      "Albert Einstein once said, “A person who never made a mistake never tried anything new.”\n"
     ]
    }
   ],
   "source": [
    "# 练习2-5\n",
    "bigWord = 'Albert Einstein once said, “A person who never made a mistake never tried anything new.”'\n",
    "print(bigWord)"
   ]
  },
  {
   "cell_type": "code",
   "execution_count": 52,
   "metadata": {},
   "outputs": [
    {
     "name": "stdout",
     "output_type": "stream",
     "text": [
      "Albert Einstein once said, \"A person who never made a mistake never tried anything new.\"\n"
     ]
    }
   ],
   "source": [
    "# 练习2-6\n",
    "famous_person = \"Albert Einstein\"\n",
    "message = 'A person who never made a mistake never tried anything new.'\n",
    "print(f'{famous_person} once said, \"{message}\"')"
   ]
  },
  {
   "cell_type": "code",
   "execution_count": 90,
   "metadata": {},
   "outputs": [
    {
     "name": "stdout",
     "output_type": "stream",
     "text": [
      "\t\n",
      "AlbertEinstein\t\n",
      "\n"
     ]
    },
    {
     "ename": "AttributeError",
     "evalue": "'NoneType' object has no attribute 'lstrip'",
     "output_type": "error",
     "traceback": [
      "\u001b[0;31m---------------------------------------------------------------------------\u001b[0m",
      "\u001b[0;31mAttributeError\u001b[0m                            Traceback (most recent call last)",
      "\u001b[1;32m/home/ubuntu/Code/cxfPythonProj/day1/第二章.ipynb Cell 24'\u001b[0m in \u001b[0;36m<cell line: 10>\u001b[0;34m()\u001b[0m\n\u001b[1;32m      <a href='vscode-notebook-cell://ssh-remote%2Bubt/home/ubuntu/Code/cxfPythonProj/day1/%E7%AC%AC%E4%BA%8C%E7%AB%A0.ipynb#ch0000025vscode-remote?line=7'>8</a>\u001b[0m famous_person \u001b[39m=\u001b[39m \u001b[39mprint\u001b[39m(\u001b[39m\"\u001b[39m\u001b[39m\\t\u001b[39;00m\u001b[39m\\n\u001b[39;00m\u001b[39m\"\u001b[39m\u001b[39m+\u001b[39mfamous_person\u001b[39m+\u001b[39m\u001b[39m\"\u001b[39m\u001b[39m\\t\u001b[39;00m\u001b[39m\\n\u001b[39;00m\u001b[39m\"\u001b[39m)\n\u001b[1;32m      <a href='vscode-notebook-cell://ssh-remote%2Bubt/home/ubuntu/Code/cxfPythonProj/day1/%E7%AC%AC%E4%BA%8C%E7%AB%A0.ipynb#ch0000025vscode-remote?line=8'>9</a>\u001b[0m \u001b[39m# 使用函数剔除\u001b[39;00m\n\u001b[0;32m---> <a href='vscode-notebook-cell://ssh-remote%2Bubt/home/ubuntu/Code/cxfPythonProj/day1/%E7%AC%AC%E4%BA%8C%E7%AB%A0.ipynb#ch0000025vscode-remote?line=9'>10</a>\u001b[0m famous_person\u001b[39m.\u001b[39;49mlstrip()\n",
      "\u001b[0;31mAttributeError\u001b[0m: 'NoneType' object has no attribute 'lstrip'"
     ]
    }
   ],
   "source": [
    "# 练习2-7\n",
    "famous_person_firstName = \"Albert\"\n",
    "famous_person_lastName = \"Einstein\"\n",
    "# famous_person = f\"{famous_person_firstName}{famous_person_lastName}\"\n",
    "# 创造一个人名\n",
    "# famous_person = print(f\"\\t{famous_person_firstName}{famous_person_lastName}\\n\")\n",
    "famous_person = famous_person_firstName+famous_person_lastName\n",
    "famous_person = print(\"\\t\\n\"+famous_person+\"\\t\\n\")\n",
    "# 使用函数剔除\n",
    "# famous_person.lstrip()\n"
   ]
  }
 ],
 "metadata": {
  "interpreter": {
   "hash": "2a1c5134f09a4e3c2c7847f64b09d100d113420894679a48e1947bfe27b2d3de"
  },
  "kernelspec": {
   "display_name": "Python 3.8.13 ('devenv')",
   "language": "python",
   "name": "python3"
  },
  "language_info": {
   "codemirror_mode": {
    "name": "ipython",
    "version": 3
   },
   "file_extension": ".py",
   "mimetype": "text/x-python",
   "name": "python",
   "nbconvert_exporter": "python",
   "pygments_lexer": "ipython3",
   "version": "3.8.13"
  },
  "orig_nbformat": 4
 },
 "nbformat": 4,
 "nbformat_minor": 2
}
