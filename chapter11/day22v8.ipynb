{
 "cells": [
  {
   "cell_type": "markdown",
   "metadata": {},
   "source": [
    "### 下来就是测试代码的第二部分了，就是测试类"
   ]
  },
  {
   "cell_type": "markdown",
   "metadata": {},
   "source": [
    "Python在unittest.TestCase 类中ᨀ 供了很多断言方法。前面说 过，断言方法检查你认为应该满足的条件是否确实满足。如果该条 件确实满足，你对程序行为的假设就得到了确认，可以确信其中没 有错误。如果你认为应该满足的条件实际上并不满足，Python将引 发异常。"
   ]
  },
  {
   "cell_type": "markdown",
   "metadata": {},
   "source": [
    "unittest模块中的断言方法\n",
    "assertEqual(a, b) 核实a == b \n",
    "assertNotEqual(a, b) 核实a != b \n",
    "assertTrue(x) 核实x 为True \n",
    "assertFalse(x) 核实x 为False \n",
    "assertIn(item , list ) 核实 item 在 list 中\n",
    "assertNotIn(item , list ) 核实 item 不在 list 中"
   ]
  }
 ],
 "metadata": {
  "interpreter": {
   "hash": "0a4596f6bf28f3bb4c51dd7abc582ccab9b24330e8a9dc4f63857311f67e8492"
  },
  "kernelspec": {
   "display_name": "Python 3.8.13 ('ubuntu2204VMenv')",
   "language": "python",
   "name": "python3"
  },
  "language_info": {
   "name": "python",
   "version": "3.8.13"
  },
  "orig_nbformat": 4
 },
 "nbformat": 4,
 "nbformat_minor": 2
}
