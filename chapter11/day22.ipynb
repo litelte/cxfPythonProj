{
 "cells": [
  {
   "cell_type": "code",
   "execution_count": 1,
   "metadata": {},
   "outputs": [
    {
     "data": {
      "text/plain": [
       "' \\n实际上是第20天，赶了两天的进度\\n '"
      ]
     },
     "execution_count": 1,
     "metadata": {},
     "output_type": "execute_result"
    }
   ],
   "source": [
    "# 计划一天完成测试代码，第22天\n",
    "\"\"\" \n",
    "实际上是第20天，赶了两天的进度\n",
    "当前时间为：2022年5月15日01点20分\n",
    " \"\"\"\n",
    "#  首先开始测试函数"
   ]
  },
  {
   "cell_type": "code",
   "execution_count": 1,
   "metadata": {},
   "outputs": [],
   "source": [
    "def get_formatted_name(first,last):\n",
    "    \"\"\" 生成整洁的姓名 \"\"\"\n",
    "    full_name = f\"{first} {last}\"\n",
    "    return full_name.title()\n",
    "# 为了验证，这个函数是像我们期望的那样\n",
    "# 把上面这些代码存到src/中，命名为name_function.py\n",
    "# 下面的代码将调用它"
   ]
  },
  {
   "cell_type": "code",
   "execution_count": 2,
   "metadata": {},
   "outputs": [
    {
     "name": "stdout",
     "output_type": "stream",
     "text": [
      "Enter 'q' at any time to quit.\n",
      "\tNeatly formatted name: Xian Fang Cao.\n",
      "\tNeatly formatted name: Xiao Ming Li.\n",
      "\tNeatly formatted name: Xiao Lan Ma.\n"
     ]
    }
   ],
   "source": [
    "# 引入上级目录中的python文件\n",
    "# import sys\n",
    "# sys.path.append(\"chapter11/src/\")\n",
    "# 导入隔壁文件夹中的包\n",
    "from src import name_function\n",
    "\n",
    "print(\"Enter 'q' at any time to quit.\")\n",
    "while True:\n",
    "    first = input(\"\\nPlease give me a first name: \")\n",
    "    if first == 'q':\n",
    "        break\n",
    "    last = input(\"Please give me a last name: \")\n",
    "    if last == 'q':\n",
    "        break\n",
    "    formatted_name = get_formatted_name(first,last)\n",
    "    print(f\"\\tNeatly formatted name: {formatted_name}.\")"
   ]
  }
 ],
 "metadata": {
  "interpreter": {
   "hash": "0a4596f6bf28f3bb4c51dd7abc582ccab9b24330e8a9dc4f63857311f67e8492"
  },
  "kernelspec": {
   "display_name": "Python 3.8.13 ('ubuntu2204VMenv')",
   "language": "python",
   "name": "python3"
  },
  "language_info": {
   "codemirror_mode": {
    "name": "ipython",
    "version": 3
   },
   "file_extension": ".py",
   "mimetype": "text/x-python",
   "name": "python",
   "nbconvert_exporter": "python",
   "pygments_lexer": "ipython3",
   "version": "3.8.13"
  },
  "orig_nbformat": 4
 },
 "nbformat": 4,
 "nbformat_minor": 2
}
