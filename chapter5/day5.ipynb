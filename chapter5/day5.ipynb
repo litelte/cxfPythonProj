{
 "cells": [
  {
   "cell_type": "code",
   "execution_count": 2,
   "metadata": {},
   "outputs": [
    {
     "name": "stdout",
     "output_type": "stream",
     "text": [
      "Audi\n",
      "BMW\n",
      "Subaru\n",
      "Toyota\n"
     ]
    }
   ],
   "source": [
    "# if应用的一个简单示例\n",
    "cars = ['audi','bmw','subaru','toyota']\n",
    "for car in cars:\n",
    "    if car == 'bmw':\n",
    "        print(car.upper())\n",
    "    else:\n",
    "        print(car.title())\n",
    "# 可以看出来，和其他的If语句比起来，python中的if语句，没有括号，没有花括号\n",
    "# 有的仅仅是一个冒号，还有缩进。当然最重要的关键字if else肯定是有的"
   ]
  },
  {
   "cell_type": "code",
   "execution_count": 4,
   "metadata": {},
   "outputs": [
    {
     "data": {
      "text/plain": [
       "False"
      ]
     },
     "execution_count": 4,
     "metadata": {},
     "output_type": "execute_result"
    }
   ],
   "source": [
    "# 条件测试\n",
    "cars = ['audi','bmw','subaru','toyota']\n",
    "# 给car命名\n",
    "car = 'bmw'\n",
    "# 判断car的值\n",
    "car == 'bmw'"
   ]
  },
  {
   "cell_type": "code",
   "execution_count": 6,
   "metadata": {},
   "outputs": [
    {
     "data": {
      "text/plain": [
       "False"
      ]
     },
     "execution_count": 6,
     "metadata": {},
     "output_type": "execute_result"
    }
   ],
   "source": [
    "car = 'bmw'\n",
    "car == 'audi'"
   ]
  },
  {
   "cell_type": "code",
   "execution_count": 7,
   "metadata": {},
   "outputs": [
    {
     "data": {
      "text/plain": [
       "False"
      ]
     },
     "execution_count": 7,
     "metadata": {},
     "output_type": "execute_result"
    }
   ],
   "source": [
    "# 检查时是否忽略大小写\n",
    "car = 'Audi'\n",
    "car == 'audi'\n",
    "# 由此可以判断，检查时肯定不忽略大小写"
   ]
  },
  {
   "cell_type": "code",
   "execution_count": 10,
   "metadata": {},
   "outputs": [
    {
     "name": "stdout",
     "output_type": "stream",
     "text": [
      "Audi\n"
     ]
    }
   ],
   "source": [
    "# 如果大小写不关键，我们可以先转换，再比较\n",
    "car = 'Audi'\n",
    "car.lower() == 'audi'\n",
    "# low()不会修改最初赋给变量car的值，所有原变量不会受到影响的\n",
    "print(car)\n",
    "# 这样会解决掉很多边界问题的，我预测"
   ]
  },
  {
   "cell_type": "code",
   "execution_count": 1,
   "metadata": {},
   "outputs": [
    {
     "name": "stdout",
     "output_type": "stream",
     "text": [
      "Hold the anchovies!\n"
     ]
    }
   ],
   "source": [
    "# 检查是否不相等\n",
    "requested_topping = 'mushrooms'\n",
    "if requested_topping != 'anchovies':\n",
    "    print(\"Hold the anchovies!\")"
   ]
  },
  {
   "cell_type": "code",
   "execution_count": 2,
   "metadata": {},
   "outputs": [
    {
     "data": {
      "text/plain": [
       "True"
      ]
     },
     "execution_count": 2,
     "metadata": {},
     "output_type": "execute_result"
    }
   ],
   "source": [
    "# 数值比较\n",
    "age = 18\n",
    "age == 18"
   ]
  },
  {
   "cell_type": "code",
   "execution_count": 4,
   "metadata": {},
   "outputs": [
    {
     "name": "stdout",
     "output_type": "stream",
     "text": [
      "That is not the correct answer. Please try again!\n"
     ]
    }
   ],
   "source": [
    "# 使用if比较\n",
    "answer = 17\n",
    "if answer != 42:\n",
    "    print('That is not the correct answer. Please try again!')"
   ]
  },
  {
   "cell_type": "code",
   "execution_count": 9,
   "metadata": {},
   "outputs": [
    {
     "data": {
      "text/plain": [
       "False"
      ]
     },
     "execution_count": 9,
     "metadata": {},
     "output_type": "execute_result"
    }
   ],
   "source": [
    "age = 19\n",
    "age < 21\n",
    "age <= 21\n",
    "age > 21\n",
    "age >= 21"
   ]
  },
  {
   "cell_type": "code",
   "execution_count": 11,
   "metadata": {},
   "outputs": [
    {
     "data": {
      "text/plain": [
       "False"
      ]
     },
     "execution_count": 11,
     "metadata": {},
     "output_type": "execute_result"
    }
   ],
   "source": [
    "# 检查多个条件\n",
    "# 使用and检查多个条件\n",
    "age_0 = 22\n",
    "age_1 = 18\n",
    "age_0 >=21 and age_1 >=21"
   ]
  },
  {
   "cell_type": "code",
   "execution_count": 13,
   "metadata": {},
   "outputs": [
    {
     "data": {
      "text/plain": [
       "True"
      ]
     },
     "execution_count": 13,
     "metadata": {},
     "output_type": "execute_result"
    }
   ],
   "source": [
    "age_0 = 22\n",
    "age_1 = 22\n",
    "age_0 >=21 and age_1 >= 21"
   ]
  },
  {
   "cell_type": "code",
   "execution_count": 14,
   "metadata": {},
   "outputs": [],
   "source": [
    "# 为了保证可读性，你可以给比较的两边加上括号，但是并非必须这样子做"
   ]
  },
  {
   "cell_type": "code",
   "execution_count": 16,
   "metadata": {},
   "outputs": [
    {
     "data": {
      "text/plain": [
       "True"
      ]
     },
     "execution_count": 16,
     "metadata": {},
     "output_type": "execute_result"
    }
   ],
   "source": [
    "# 使用or检查多个条件\n",
    "age_0 = 22\n",
    "age_1 = 18\n",
    "age_0 >=21 or age_1 >= 21"
   ]
  },
  {
   "cell_type": "code",
   "execution_count": 18,
   "metadata": {},
   "outputs": [
    {
     "data": {
      "text/plain": [
       "False"
      ]
     },
     "execution_count": 18,
     "metadata": {},
     "output_type": "execute_result"
    }
   ],
   "source": [
    "age_0 = 18\n",
    "age_1 = 18\n",
    "age_0 >= 21 or age_1 >= 21"
   ]
  },
  {
   "cell_type": "code",
   "execution_count": 21,
   "metadata": {},
   "outputs": [
    {
     "data": {
      "text/plain": [
       "True"
      ]
     },
     "execution_count": 21,
     "metadata": {},
     "output_type": "execute_result"
    }
   ],
   "source": [
    "# 检查特定值是否包含在列表中\n",
    "requested_topping = ['mushrooms','onions','pineapple']\n",
    "'mushrooms' in requested_topping"
   ]
  },
  {
   "cell_type": "code",
   "execution_count": 23,
   "metadata": {},
   "outputs": [
    {
     "name": "stdout",
     "output_type": "stream",
     "text": [
      "Marie, you can post a response if you wish.\n"
     ]
    }
   ],
   "source": [
    "# 检查特定值是否不包含在列表中\n",
    "banned_users = ['andrew','carolina','david']\n",
    "user = 'marie'\n",
    "if user not in banned_users:\n",
    "    print(f\"{user.title()}, you can post a response if you wish.\")"
   ]
  },
  {
   "cell_type": "code",
   "execution_count": 24,
   "metadata": {},
   "outputs": [],
   "source": [
    "# 布尔表达式\n",
    "game_active = True\n",
    "can_edit = False"
   ]
  },
  {
   "cell_type": "code",
   "execution_count": 34,
   "metadata": {},
   "outputs": [
    {
     "name": "stdout",
     "output_type": "stream",
     "text": [
      "False\n",
      "True\n",
      "abcd\n",
      "ac in strlist!\n",
      "True\n"
     ]
    }
   ],
   "source": [
    "# 练习5-2\n",
    "str_1 = 'abc'\n",
    "str_2 = 'abcd'\n",
    "print(str_1 == str_2)\n",
    "print(str_1 != str_2)\n",
    "str_3 = 'ABCD'\n",
    "print(str_3.lower())\n",
    "# 第一种检测是否在包中的方法，用if语句\n",
    "strlist = ['abc','ac','abcd','ad']\n",
    "if 'ac' in strlist:\n",
    "    print('ac in strlist!')\n",
    "else:\n",
    "    print('ac not in strlist!')\n",
    "\n",
    "# 第二种直接上\n",
    "result = 'ac' in strlist\n",
    "print(result)"
   ]
  },
  {
   "cell_type": "code",
   "execution_count": 35,
   "metadata": {},
   "outputs": [
    {
     "name": "stdout",
     "output_type": "stream",
     "text": [
      "Sorry, you are too young to vote.\n",
      "Please register to vote as soon as you turn 18!\n"
     ]
    }
   ],
   "source": [
    "# if-else\n",
    "age = 17\n",
    "if age >= 18:\n",
    "    print('You are old enough to vote!')\n",
    "    print('Have you registered to vote yet!')\n",
    "else:\n",
    "    print('Sorry, you are too young to vote.')\n",
    "    print('Please register to vote as soon as you turn 18!')"
   ]
  },
  {
   "cell_type": "code",
   "execution_count": 37,
   "metadata": {},
   "outputs": [
    {
     "name": "stdout",
     "output_type": "stream",
     "text": [
      "Your admission cost is $25\n"
     ]
    }
   ],
   "source": [
    "# if-elif-else结构\n",
    "age = 12\n",
    "if age <4:\n",
    "    print('Your admission cost is $0')\n",
    "elif age <18:\n",
    "    print('Your admission cost is $25')\n",
    "else:\n",
    "    print('Your admission cost is $40.')"
   ]
  },
  {
   "cell_type": "code",
   "execution_count": 39,
   "metadata": {},
   "outputs": [
    {
     "name": "stdout",
     "output_type": "stream",
     "text": [
      "Your admission cost is $25.\n"
     ]
    }
   ],
   "source": [
    "# 还可以让代码更简洁\n",
    "age = 12\n",
    "if age < 4:\n",
    "    price = 0\n",
    "elif age < 18:\n",
    "    price = 25\n",
    "else:\n",
    "    price = 40\n",
    "print(f\"Your admission cost is ${price}.\")"
   ]
  },
  {
   "cell_type": "code",
   "execution_count": 40,
   "metadata": {},
   "outputs": [],
   "source": [
    "# 除了上面的情况，还可以使用多个elif关键字\n",
    "# 同时，else的代码块也不是必要的，其实可以省略\n",
    "# 通常情况下，使用一条elif语句来处理特定的情形更清晰"
   ]
  },
  {
   "cell_type": "code",
   "execution_count": 41,
   "metadata": {},
   "outputs": [
    {
     "name": "stdout",
     "output_type": "stream",
     "text": [
      "Adding mushrooms.\n",
      "Adding extra cheese.\n",
      "\n",
      "Finished making your pizza!\n"
     ]
    }
   ],
   "source": [
    "# 测试多个情况\n",
    "requested_toppings = ['mushrooms', 'extra cheese']\n",
    "if 'mushrooms' in requested_toppings: \n",
    "    print(\"Adding mushrooms.\")\n",
    "if 'pepperoni' in requested_toppings: \n",
    "    print(\"Adding pepperoni.\")\n",
    "if 'extra cheese' in requested_toppings:\n",
    "    print(\"Adding extra cheese.\")\n",
    "print(\"\\nFinished making your pizza!\")"
   ]
  },
  {
   "cell_type": "code",
   "execution_count": 44,
   "metadata": {},
   "outputs": [
    {
     "name": "stdout",
     "output_type": "stream",
     "text": [
      "您得了5分！\n"
     ]
    }
   ],
   "source": [
    "# 练习5-3\n",
    "alien_color = 'green'\n",
    "if(alien_color == 'green'):\n",
    "    print('您得了5分！')\n",
    "alien_color = 'red'\n",
    "if(alien_color == 'green'):\n",
    "    print('您得了5分')"
   ]
  },
  {
   "cell_type": "code",
   "execution_count": 45,
   "metadata": {},
   "outputs": [
    {
     "name": "stdout",
     "output_type": "stream",
     "text": [
      "您射杀了该外星人，得5分！\n"
     ]
    }
   ],
   "source": [
    "# 练习5-4\n",
    "alien_color = 'green'\n",
    "if alien_color == 'green':\n",
    "    print('您射杀了该外星人，得5分！')\n",
    "else:\n",
    "    print('您得了10分')"
   ]
  },
  {
   "cell_type": "code",
   "execution_count": 47,
   "metadata": {},
   "outputs": [
    {
     "name": "stdout",
     "output_type": "stream",
     "text": [
      "您得了5分！\n"
     ]
    }
   ],
   "source": [
    "# 练习if-elif-else\n",
    "alien_color = 'green'\n",
    "if alien_color == 'green':\n",
    "    print('您得了5分！')\n",
    "elif alien_color == 'yellow':\n",
    "    print('您得了10分！')\n",
    "elif alien_color == 'red':\n",
    "    print('您得了15分！')"
   ]
  },
  {
   "cell_type": "code",
   "execution_count": 50,
   "metadata": {},
   "outputs": [
    {
     "name": "stdout",
     "output_type": "stream",
     "text": [
      "您的年龄是21,所以您是成年人\n"
     ]
    }
   ],
   "source": [
    "# 练习if-elif-else结构\n",
    "age = 21\n",
    "if age < 2:\n",
    "    result = '婴儿'\n",
    "elif age < 4:\n",
    "    result = '幼儿'\n",
    "elif age < 13:\n",
    "    result = '儿童'\n",
    "elif age < 20:\n",
    "    result = '青少年'\n",
    "elif age < 65:\n",
    "    result = '成年人'\n",
    "elif age >= 65:\n",
    "    result = '老年人'\n",
    "print(f\"您的年龄是{age},所以您是{result}\")"
   ]
  },
  {
   "cell_type": "code",
   "execution_count": 52,
   "metadata": {},
   "outputs": [
    {
     "name": "stdout",
     "output_type": "stream",
     "text": [
      "You really like bananas!\n",
      "You really like orange!\n",
      "You really like banana!\n"
     ]
    }
   ],
   "source": [
    "# 练习5-7\n",
    "favorite_fruits = ['apple','orange','banana']\n",
    "if 'apple' in favorite_fruits:\n",
    "    print('You really like bananas!')\n",
    "if 'orange' in favorite_fruits:\n",
    "    print('You really like orange!')\n",
    "if 'banana' in favorite_fruits:\n",
    "    print('You really like banana!')"
   ]
  },
  {
   "cell_type": "code",
   "execution_count": 56,
   "metadata": {},
   "outputs": [
    {
     "name": "stdout",
     "output_type": "stream",
     "text": [
      "Adding mushrooms\n",
      "Adding green peppers\n",
      "Adding extra cheese\n",
      "\n",
      "Finished making your pizza!\n"
     ]
    }
   ],
   "source": [
    "# 使用if语句处理列表、\n",
    "requested_toppings = ['mushrooms','green peppers','extra cheese']\n",
    "for requested_topping in requested_toppings:\n",
    "    print(f\"Adding {requested_topping}\")\n",
    "\n",
    "print('\\nFinished making your pizza!')"
   ]
  },
  {
   "cell_type": "code",
   "execution_count": 57,
   "metadata": {},
   "outputs": [
    {
     "name": "stdout",
     "output_type": "stream",
     "text": [
      "Adding mushrooms.\n",
      "Sorry, we are out of green peppers right now.\n",
      "Adding extra cheese.\n",
      "\n",
      "Finished making your pizza!\n"
     ]
    }
   ],
   "source": [
    "# 在for语句中添加if判断条件\n",
    "requested_toppings = ['mushrooms','green peppers','extra cheese']\n",
    "for requested_topping in requested_toppings:\n",
    "    if requested_topping == 'green peppers':\n",
    "        print(\"Sorry, we are out of green peppers right now.\")\n",
    "    else:\n",
    "        print(f\"Adding {requested_topping}.\")\n",
    "print(\"\\nFinished making your pizza!\")"
   ]
  },
  {
   "cell_type": "code",
   "execution_count": 60,
   "metadata": {},
   "outputs": [
    {
     "name": "stdout",
     "output_type": "stream",
     "text": [
      "Are you sure you want a plain pizza?\n"
     ]
    }
   ],
   "source": [
    "requested_toppings = []\n",
    "if requested_toppings:\n",
    "    for requested_topping in requested_toppings:\n",
    "        print(f\"Adding {requested_topping}.\")\n",
    "    print(\"\\nFinished making your pizza!\")\n",
    "else:\n",
    "    print(\"Are you sure you want a plain pizza?\")"
   ]
  },
  {
   "cell_type": "code",
   "execution_count": 68,
   "metadata": {},
   "outputs": [
    {
     "name": "stdout",
     "output_type": "stream",
     "text": [
      "Hello admin,would you like to see a status report?\n",
      "Hello xf,thank you for logging in again.\n",
      "Hello xiao ming,thank you for logging in again.\n",
      "Hello xiao lan,thank you for logging in again.\n",
      "Hello zhang san,thank you for logging in again.\n",
      "We need to find some users!\n"
     ]
    }
   ],
   "source": [
    "# 练习5-8\n",
    "user_lists = ['admin','xf','xiao ming','xiao lan','zhang san']\n",
    "for user_list in user_lists:\n",
    "    if user_list == 'admin':\n",
    "        print(\"Hello admin,would you like to see a status report?\")\n",
    "    else:\n",
    "        print(f\"Hello {user_list},thank you for logging in again.\")\n",
    "if user_lists == []:\n",
    "    print(\"We need to find some users!\")\n",
    "# 删除列表中的元素，再运行一下上面的代码\n",
    "for i in range(0,len(user_lists)):\n",
    "    user_lists.pop()\n",
    "if user_lists == []:\n",
    "    print(\"We need to find some users!\")"
   ]
  },
  {
   "cell_type": "code",
   "execution_count": 18,
   "metadata": {},
   "outputs": [
    {
     "name": "stdout",
     "output_type": "stream",
     "text": [
      "Zhang San这个名字已经被使用了，换个名字吧！\n",
      "Li Si这个名字已经被使用了，换个名字吧！\n",
      "Xiao Hua并没有被使用\n",
      "Zhong Nan Shan并没有被使用\n",
      "Zhang Wen Hong并没有被使用\n"
     ]
    }
   ],
   "source": [
    "# 练习5-10\n",
    "current_users = ['zhang san','li si','wang ma zi','xiao ming','xiao lan']\n",
    "new_users = ['zhang san','li si','xiao hua','zhong nan shan','zhang wen hong']\n",
    "for new_user in new_users:\n",
    "    similarName = False\n",
    "    for current_user in current_users:\n",
    "        if new_user == current_user:\n",
    "            print(f\"{new_user.title()}这个名字已经被使用了，换个名字吧！\")\n",
    "            similarName = True\n",
    "            break;\n",
    "    if similarName == False:\n",
    "        print(f\"{new_user.title()}并没有被使用\")"
   ]
  },
  {
   "cell_type": "code",
   "execution_count": 19,
   "metadata": {},
   "outputs": [
    {
     "name": "stdout",
     "output_type": "stream",
     "text": [
      "Zhang San这个名字已经被使用了，换个名字吧！\n",
      "Zhang San并没有被使用\n",
      "Li Si这个名字已经被使用了，换个名字吧！\n",
      "Zhang San并没有被使用\n",
      "Li Si并没有被使用\n",
      "Xiao Hua并没有被使用\n",
      "Zhong Nan Shan并没有被使用\n",
      "Zhang Wen Hong并没有被使用\n",
      "Zhang San并没有被使用\n",
      "Li Si并没有被使用\n",
      "Xiao Hua并没有被使用\n",
      "Zhong Nan Shan并没有被使用\n",
      "Zhang Wen Hong并没有被使用\n",
      "Zhang San并没有被使用\n",
      "Li Si并没有被使用\n",
      "Xiao Hua并没有被使用\n",
      "Zhong Nan Shan并没有被使用\n",
      "Zhang Wen Hong并没有被使用\n"
     ]
    }
   ],
   "source": [
    "# 错误示范\n",
    "current_users = ['zhang san','li si','wang ma zi','xiao ming','xiao lan']\n",
    "new_users = ['zhang san','li si','xiao hua','zhong nan shan','zhang wen hong']\n",
    "for current_user in current_users:\n",
    "    for new_user in new_users:\n",
    "        if new_user == current_user:\n",
    "            print(f\"{new_user.title()}这个名字已经被使用了，换个名字吧！\")\n",
    "            break;\n",
    "        print(f\"{new_user.title()}并没有被使用\")"
   ]
  },
  {
   "cell_type": "code",
   "execution_count": 26,
   "metadata": {},
   "outputs": [
    {
     "data": {
      "text/plain": [
       "['zhang san',\n",
       " 'li si',\n",
       " 'wang ma zi',\n",
       " 'xiao ming',\n",
       " 'xiao lan',\n",
       " 'xiao hua',\n",
       " 'zhong nan shan',\n",
       " 'zhang wen hong']"
      ]
     },
     "execution_count": 26,
     "metadata": {},
     "output_type": "execute_result"
    }
   ],
   "source": [
    "# 确保比较时不区分大小写\n",
    "current_users = ['Zhang San','Li si','Wang ma zi','xiao ming','xiao lan']\n",
    "new_users = ['zhang san','li si','xiao hua','Zhong Nan Shan','Zhang wen hong']\n",
    "all_users_lower=[]\n",
    "for current_user in current_users:\n",
    "    all_users_lower.append(current_user.lower())\n",
    "# all_users_lower\n",
    "# 下来将new_users中的不重复用户进行添加\n",
    "for new_user in new_users:\n",
    "    similarName = False\n",
    "    for current_user in current_users:\n",
    "        if(new_user.lower() == current_user.lower()):\n",
    "            similarName = True\n",
    "            break\n",
    "    if similarName == False:\n",
    "        all_users_lower.append(new_user.lower())\n",
    "\n",
    "all_users_lower"
   ]
  },
  {
   "cell_type": "code",
   "execution_count": 31,
   "metadata": {},
   "outputs": [
    {
     "name": "stdout",
     "output_type": "stream",
     "text": [
      "1\n",
      "2\n",
      "3\n",
      "4\n",
      "5\n",
      "6\n",
      "7\n",
      "8\n",
      "9\n",
      "1st\n",
      "2nd\n",
      "3rd\n",
      "4th\n",
      "5th\n",
      "6th\n",
      "7th\n",
      "8th\n",
      "9th\n"
     ]
    }
   ],
   "source": [
    "# 练习5-11\n",
    "# 使用列表解析生成数字\n",
    "numbers_list = [value for value in range(1,10)]\n",
    "# 遍历这个列表\n",
    "for number_list in numbers_list:\n",
    "    print(number_list)\n",
    "\n",
    "# 使用if-elif-else结构\n",
    "for number_list in numbers_list:\n",
    "    if number_list == 1:\n",
    "        print(f\"{number_list}st\")\n",
    "    elif number_list == 2:\n",
    "        print(f\"{number_list}nd\")\n",
    "    elif number_list == 3:\n",
    "        print(f\"{number_list}rd\")\n",
    "    else:\n",
    "        print(f\"{number_list}th\")"
   ]
  }
 ],
 "metadata": {
  "interpreter": {
   "hash": "2a1c5134f09a4e3c2c7847f64b09d100d113420894679a48e1947bfe27b2d3de"
  },
  "kernelspec": {
   "display_name": "Python 3.8.13 ('devenv')",
   "language": "python",
   "name": "python3"
  },
  "language_info": {
   "codemirror_mode": {
    "name": "ipython",
    "version": 3
   },
   "file_extension": ".py",
   "mimetype": "text/x-python",
   "name": "python",
   "nbconvert_exporter": "python",
   "pygments_lexer": "ipython3",
   "version": "3.8.13"
  },
  "orig_nbformat": 4
 },
 "nbformat": 4,
 "nbformat_minor": 2
}
