{
 "cells": [
  {
   "cell_type": "code",
   "execution_count": 1,
   "metadata": {},
   "outputs": [],
   "source": [
    "# 计划三天完成文件操作 第19-21天完成\n",
    "# 前面的第十二天被遗漏了，所以总天数减少一天，现在是第19天的计划，实际上是第十八天"
   ]
  },
  {
   "cell_type": "code",
   "execution_count": 4,
   "metadata": {},
   "outputs": [
    {
     "name": "stdout",
     "output_type": "stream",
     "text": [
      "3.1415926535 \n",
      "  8979323846 \n",
      "  2643383279\n",
      "\n"
     ]
    }
   ],
   "source": [
    "# 读取文件\n",
    "def fileRead(location):\n",
    "    with open(location) as file_object:\n",
    "        contents = file_object.read()\n",
    "    return contents\n",
    "print(fileRead('src/pi_digits.txt'))"
   ]
  },
  {
   "cell_type": "code",
   "execution_count": 6,
   "metadata": {},
   "outputs": [
    {
     "name": "stdout",
     "output_type": "stream",
     "text": [
      "3.1415926535 \n",
      "  8979323846 \n",
      "  2643383279\n"
     ]
    }
   ],
   "source": [
    "# 上面的输出有多出来的空行，下面要删除多出来的空行\n",
    "print(fileRead('src/pi_digits.txt').rstrip())"
   ]
  },
  {
   "cell_type": "code",
   "execution_count": 7,
   "metadata": {},
   "outputs": [],
   "source": [
    "# 文件路径如果过于长的话，可以设置一个文件路径的变量，然后再给里面赋值"
   ]
  },
  {
   "cell_type": "code",
   "execution_count": 24,
   "metadata": {},
   "outputs": [
    {
     "name": "stdout",
     "output_type": "stream",
     "text": [
      "3.1415926535 \n",
      "\n",
      "  8979323846 \n",
      "\n",
      "  2643383279\n",
      "\n"
     ]
    }
   ],
   "source": [
    "# 逐行读取\n",
    "def fileReadAsline(filename):\n",
    "    with open(filename) as file_object:\n",
    "        for line in file_object:\n",
    "            print(line)\n",
    "fileReadAsline('src/pi_digits.txt')"
   ]
  },
  {
   "cell_type": "code",
   "execution_count": 11,
   "metadata": {},
   "outputs": [
    {
     "name": "stdout",
     "output_type": "stream",
     "text": [
      "3.1415926535\n",
      "  8979323846\n",
      "  2643383279\n"
     ]
    }
   ],
   "source": [
    "# 每行末尾会出现两个换行符，所以这里使用rstrip()清楚掉空格行\n",
    "def fileReadAsline(filename):\n",
    "    with open(filename) as file_object:\n",
    "        for line in file_object:\n",
    "            print(line.rstrip())\n",
    "fileReadAsline('src/pi_digits.txt')\n",
    "# 现在的输出和文件内容又完全相同了"
   ]
  },
  {
   "cell_type": "code",
   "execution_count": 1,
   "metadata": {},
   "outputs": [],
   "source": [
    "# 那么，可以在保持间隔输出的情况下，还去掉末尾的空行吗，当然是可以的，加一个判断语句即可\n",
    "# TODO:\n",
    "# def fileReadAsline_lastline_noline(filename):\n",
    "#     with open(filename) as file_object:\n",
    "#         for line in file_object:\n",
    "#             if line == file_object[-1]:\n",
    "#                 print(line.rstrip())\n",
    "#             else:\n",
    "#                 print(line)\n",
    "\n",
    "# fileReadAsline_lastline_noline('src/pi_digits.txt')"
   ]
  },
  {
   "cell_type": "code",
   "execution_count": 5,
   "metadata": {},
   "outputs": [
    {
     "name": "stdout",
     "output_type": "stream",
     "text": [
      "3.1415926535  8979323846  2643383279\n",
      "36\n"
     ]
    }
   ],
   "source": [
    "# 使用文件的内容\n",
    "def use_file_Content(filename):\n",
    "    with open(filename) as file_object:\n",
    "        # 注意，是readlines不是readline\n",
    "        lines = file_object.readlines()\n",
    "        return lines\n",
    "pi_string = ''\n",
    "for line in use_file_Content('src/pi_digits.txt'):\n",
    "    pi_string += line.rstrip()\n",
    "\n",
    "print(pi_string)\n",
    "print(len(pi_string))"
   ]
  },
  {
   "cell_type": "code",
   "execution_count": 7,
   "metadata": {},
   "outputs": [
    {
     "name": "stdout",
     "output_type": "stream",
     "text": [
      "3.141592653589793238462643383279\n",
      "32\n"
     ]
    }
   ],
   "source": [
    "# 可以发现，左边还是有空格，可以进一步把左边的空格也去掉了\n",
    "# 先把pi_string初始化一下\n",
    "pi_string = ''\n",
    "lines = use_file_Content(\"src/pi_digits.txt\")\n",
    "for line in lines:\n",
    "    pi_string += line.strip()\n",
    "print(pi_string)\n",
    "print(len(pi_string))"
   ]
  },
  {
   "cell_type": "code",
   "execution_count": 14,
   "metadata": {},
   "outputs": [
    {
     "name": "stdout",
     "output_type": "stream",
     "text": [
      "3.14159265358979323846264338327950288419716939937510...\n",
      "1000002\n"
     ]
    }
   ],
   "source": [
    "# 包含一百万位的大型文件\n",
    "million_lines = use_file_Content('src/pi_million_digits.txt')\n",
    "\n",
    "pi_string = ''\n",
    "for line in million_lines:\n",
    "    pi_string += line.strip()\n",
    "\n",
    "print(f\"{pi_string[:52]}...\")\n",
    "print(len(pi_string))"
   ]
  },
  {
   "cell_type": "code",
   "execution_count": 16,
   "metadata": {},
   "outputs": [
    {
     "name": "stdout",
     "output_type": "stream",
     "text": [
      "你的生日并没有出现在Π的百万位中\n"
     ]
    }
   ],
   "source": [
    "# 圆周率中包含你的生日吗\n",
    "million_lines = use_file_Content('src/pi_million_digits.txt')\n",
    "pi_string = ''\n",
    "\n",
    "for line in lines:\n",
    "    pi_string += line.strip()\n",
    "\n",
    "birthday = input(\"输入你的生日，用mmddyy的形式：\")\n",
    "if birthday in pi_string:\n",
    "    print(\"你的生日出现在Π的百万小数点后\")\n",
    "else:\n",
    "    print(\"你的生日并没有出现在Π的百万位中\")"
   ]
  },
  {
   "cell_type": "code",
   "execution_count": 20,
   "metadata": {},
   "outputs": [
    {
     "name": "stdout",
     "output_type": "stream",
     "text": [
      "读取整个文件\n",
      "In Python you can do everything.\n",
      "In Python you can control file.\n",
      "In Python you can be a cool man.\n",
      "逐行读取文件的内容\n",
      "In Python you can do everything.\n",
      "\n",
      "In Python you can control file.\n",
      "\n",
      "In Python you can be a cool man.\n",
      "使用readlines进行读取，同时去掉每句右边的空格\n",
      "In Python you can do everything.In Python you can control file.In Python you can be a cool man.\n",
      "95\n"
     ]
    }
   ],
   "source": [
    "# 练习10-1\n",
    "# 回顾前面的所有读取文件的形式：\n",
    "# 1.读取整个文件\n",
    "filename = \"src/learning_python.txt\"\n",
    "print(\"读取整个文件\")\n",
    "\n",
    "\n",
    "def file_Content_all(filename):\n",
    "    with open(filename) as file_object:\n",
    "        contents = file_object.read()\n",
    "        return contents\n",
    "\n",
    "\n",
    "print(file_Content_all(filename))\n",
    "\n",
    "# 2.逐行读取文件的内容\n",
    "print(\"逐行读取文件的内容\")\n",
    "\n",
    "\n",
    "def file_Content_line(filename):\n",
    "    with open(filename) as file_object:\n",
    "        for line in file_object:\n",
    "            print(line)\n",
    "\n",
    "\n",
    "file_Content_line(filename)\n",
    "\n",
    "# 3.创建一个包含文件各行内容的列表\n",
    "def file_Content_readlines(filename):\n",
    "    with open(filename) as file_object:\n",
    "        lines = file_object.readlines()\n",
    "        return lines\n",
    "\n",
    "print(\"使用readlines进行读取，同时去掉每句右边的空格\")\n",
    "read_str = \"\"\n",
    "for line in file_Content_readlines(filename):\n",
    "    read_str += line.rstrip()\n",
    "# 合并输出\n",
    "print(read_str)\n",
    "# 统计输出的总字数\n",
    "print(len(read_str))"
   ]
  },
  {
   "cell_type": "code",
   "execution_count": 25,
   "metadata": {},
   "outputs": [
    {
     "name": "stdout",
     "output_type": "stream",
     "text": [
      "In Java you can do everything.In Java you can control file.In Java you can be a cool man.\n",
      "95\n"
     ]
    }
   ],
   "source": [
    "# 练习10-2\n",
    "filename = 'src/learning_python.txt'\n",
    "def replace_file_Content_python(filename):\n",
    "    with open(filename) as file_object:\n",
    "        lines = file_object.readlines()\n",
    "        return lines\n",
    "list_str = ''\n",
    "for line in replace_file_Content_python(filename):\n",
    "    list_str += line.rstrip()\n",
    "print(list_str.replace('Python','Java'))\n",
    "print(len(list_str))\n",
    "\n"
   ]
  }
 ],
 "metadata": {
  "interpreter": {
   "hash": "0a4596f6bf28f3bb4c51dd7abc582ccab9b24330e8a9dc4f63857311f67e8492"
  },
  "kernelspec": {
   "display_name": "Python 3.8.13 ('ubuntu2204VMenv')",
   "language": "python",
   "name": "python3"
  },
  "language_info": {
   "codemirror_mode": {
    "name": "ipython",
    "version": 3
   },
   "file_extension": ".py",
   "mimetype": "text/x-python",
   "name": "python",
   "nbconvert_exporter": "python",
   "pygments_lexer": "ipython3",
   "version": "3.8.13"
  },
  "orig_nbformat": 4
 },
 "nbformat": 4,
 "nbformat_minor": 2
}
