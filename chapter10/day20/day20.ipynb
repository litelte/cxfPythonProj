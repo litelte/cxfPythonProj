{
 "cells": [
  {
   "cell_type": "code",
   "execution_count": 4,
   "metadata": {},
   "outputs": [],
   "source": [
    "# 实际上是第十九天，2022年5月14日\n",
    "# 目标是三天完成，现在第二天已经完成了\n",
    "# 开始学习存储数据\n",
    "# 使用json\n",
    "import json\n",
    "\n",
    "numbers = [2, 3, 5, 7, 11, 13]\n",
    "filename = \"../src/numbers.json\"\n",
    "with open(filename, \"w\") as f:\n",
    "    json.dump(numbers, f)"
   ]
  },
  {
   "cell_type": "code",
   "execution_count": 8,
   "metadata": {},
   "outputs": [
    {
     "name": "stdout",
     "output_type": "stream",
     "text": [
      "[2, 3, 5, 7, 11, 13]\n"
     ]
    }
   ],
   "source": [
    "# 编写程序，使用json.load()将列表读取到内存中\n",
    "import json\n",
    "\n",
    "filename = '../src/numbers.json'\n",
    "with open(filename) as f:\n",
    "    numbers = json.load(f)\n",
    "print(numbers)\n",
    "# 这是一种在程序之间共享数据的简单方式。"
   ]
  },
  {
   "cell_type": "code",
   "execution_count": 11,
   "metadata": {},
   "outputs": [
    {
     "name": "stdout",
     "output_type": "stream",
     "text": [
      "We'll remember you when you come back, xiao huang!\n"
     ]
    }
   ],
   "source": [
    "# 保存和读取用户生成的数据\n",
    "import json\n",
    "\n",
    "username = input(\"What is your name?\")\n",
    "filename = '../src/username.json'\n",
    "with open(filename,'w')as f:\n",
    "    json.dump(username,f)\n",
    "    print(f\"We'll remember you when you come back, {username}!\")\n",
    "# 还是最好不要用中文"
   ]
  },
  {
   "cell_type": "code",
   "execution_count": 13,
   "metadata": {},
   "outputs": [
    {
     "name": "stdout",
     "output_type": "stream",
     "text": [
      "Welcome back, xiao huang!\n"
     ]
    }
   ],
   "source": [
    "# 向已存储了名字的用户发出问候\n",
    "import json\n",
    "\n",
    "filename = '../src/username.json'\n",
    "with open(filename) as f:\n",
    "    username = json.load(f)\n",
    "    print(f\"Welcome back, {username}!\")\n",
    "# dump用来存储，load用来加载或者说是读取"
   ]
  },
  {
   "cell_type": "code",
   "execution_count": 15,
   "metadata": {},
   "outputs": [
    {
     "name": "stdout",
     "output_type": "stream",
     "text": [
      "Welcome back, xiao huang!\n"
     ]
    }
   ],
   "source": [
    "# 使用try except\n",
    "import json\n",
    "\n",
    "\"\"\" \n",
    "如果以前存储了用户名，就加载它\n",
    "否则，提示用户输入用户名并存储它\n",
    " \"\"\"\n",
    "filename = \"../src/username.json\"\n",
    "try:\n",
    "    with open(filename) as f:\n",
    "        username = json.load(f)\n",
    "except FileNotFoundError:\n",
    "    username = input(\"What is your name?\")\n",
    "    with open(filename,'w') as f:\n",
    "        json.dump(username,f)\n",
    "        print(f\"We'll remember you when you come back,{username}!\")\n",
    "else:\n",
    "    print(f\"Welcome back, {username}!\")"
   ]
  },
  {
   "cell_type": "code",
   "execution_count": 17,
   "metadata": {},
   "outputs": [
    {
     "name": "stdout",
     "output_type": "stream",
     "text": [
      "Welcome back, xiao huang!\n"
     ]
    }
   ],
   "source": [
    "# 重构\n",
    "\"\"\" \n",
    "代码能够正确地运行，但通过将其划分 为一系列完成具体工作的函数，还可以改进。这样的过程称为重构 。重构让代码更清晰、更易于理解、更容易扩展\n",
    "要重构remember_me.py，可将其大部分逻辑放到一个或多个函数 中。remember_me.py的重点是问候用户，因此将其所有代码都放到 一个名为greet_user() 的函数中：\n",
    " \"\"\"\n",
    "import json\n",
    "\n",
    "\n",
    "def greet_user():\n",
    "    \"\"\" 问候用户，并指出其名字 \"\"\"\n",
    "    filename = '../src/username.json'\n",
    "    try:\n",
    "        with open(filename) as f:\n",
    "            username = json.load(f)\n",
    "    except FileNotFoundError:\n",
    "        username = input('What is your name?')\n",
    "        with open(filename,'w') as f:\n",
    "            json.dump(username,f)\n",
    "            print(f\"We'll remember you when you come back, {username}!\")\n",
    "    else:\n",
    "        print(f\"Welcome back, {username}!\")\n",
    "\n",
    "greet_user()\n",
    "# 上面的是原函数，下来要对原函数进行重构，拆分重新写"
   ]
  },
  {
   "cell_type": "code",
   "execution_count": 22,
   "metadata": {},
   "outputs": [
    {
     "name": "stdout",
     "output_type": "stream",
     "text": [
      "Welcome back, xian fang!\n"
     ]
    }
   ],
   "source": [
    "import json\n",
    "\n",
    "filename = '../src/username.json'\n",
    "def get_stored_username():\n",
    "    \"\"\" 如果存储了用户名，就获取它 \"\"\"\n",
    "    try:\n",
    "        with open(filename) as f:\n",
    "            username = json.load(f)\n",
    "    except FileNotFoundError:\n",
    "        # 报错后，回复一个空值\n",
    "        return None\n",
    "    else:\n",
    "        return username\n",
    "\n",
    "def greet_user():\n",
    "    \"\"\" 问候用户，并指出其名字。 \"\"\"\n",
    "    username = get_stored_username()\n",
    "    # 判断username是否为空值\n",
    "    if username:\n",
    "        print(f\"Welcome back, {username}!\")\n",
    "        # 如果为空值的话，就得重新输入\n",
    "    else:\n",
    "        username = input(\"What is your name? \")\n",
    "        with open(filename,'w') as f:\n",
    "            # json.dump()函数的结构是，输入的内容，输入的文件\n",
    "            json.dump(username,f)\n",
    "            print(f\"We'll remember you when you come back,{username}!\")\n",
    "\n",
    "greet_user()"
   ]
  },
  {
   "cell_type": "code",
   "execution_count": 24,
   "metadata": {},
   "outputs": [
    {
     "name": "stdout",
     "output_type": "stream",
     "text": [
      "Welcome back, xian fang!\n"
     ]
    }
   ],
   "source": [
    "# 再次重构\n",
    "import json\n",
    "\n",
    "filename = '../src/username.json'\n",
    "def get_stored_username():\n",
    "    \"\"\" 如果存储了用户名，就获取它 \"\"\"\n",
    "    try:\n",
    "        with open(filename) as f:\n",
    "            username = json.load(f)\n",
    "    except FileNotFoundError:\n",
    "        return None\n",
    "    else:\n",
    "        return username\n",
    "\n",
    "def get_new_username():\n",
    "    \"\"\" 提示用户输入用户名 \"\"\"\n",
    "    username = input(\"What is your name?\")\n",
    "    with open(filename,'w') as f:\n",
    "        json.dump(username,f)\n",
    "    return username\n",
    "\n",
    "def greet_user():\n",
    "    \"\"\" 问候用户，并指出其名字 \"\"\"\n",
    "    username = get_stored_username()\n",
    "    if username:\n",
    "        print(f\"Welcome back, {username}!\")\n",
    "    else:\n",
    "        username = get_new_username()\n",
    "        print(f\"We'll remember you when you come back, {username}!\")\n",
    "\n",
    "greet_user()"
   ]
  },
  {
   "cell_type": "code",
   "execution_count": 27,
   "metadata": {},
   "outputs": [
    {
     "name": "stdout",
     "output_type": "stream",
     "text": [
      "我知道了，你最喜欢的数字是6\n"
     ]
    }
   ],
   "source": [
    "# 练习10-11\n",
    "import json\n",
    "\n",
    "filename = '../src/favor_number.json'\n",
    "try:\n",
    "    with open(filename) as f:\n",
    "        favorNumber = json.load(f)\n",
    "except FileNotFoundError:\n",
    "    with open(filename,'w') as f:\n",
    "        favorNumber = input(\"输入你最喜欢的数字：\")\n",
    "        f.write(favorNumber)\n",
    "else:\n",
    "    with open(filename) as f:\n",
    "        print(f\"我知道了，你最喜欢的数字是{favorNumber}\")"
   ]
  },
  {
   "cell_type": "code",
   "execution_count": 57,
   "metadata": {},
   "outputs": [
    {
     "name": "stdout",
     "output_type": "stream",
     "text": [
      "我知道了，你最喜欢的数字是999\n"
     ]
    }
   ],
   "source": [
    "# 练习10-12\n",
    "# 上面的写法不对，应该是用json的写入方式，下面我来重新写入\n",
    "import json\n",
    "\n",
    "filename = \"../src/favor_number.json\"\n",
    "try:\n",
    "    with open(filename) as f:\n",
    "        favorNumber = json.load(f)\n",
    "except FileNotFoundError:\n",
    "    # 没有发现文件，那就创建文件，不过这里需要注意的是，创建json文件要用json文件的创建方式\n",
    "    with open(filename,'w') as f:\n",
    "        favorNumber = input(\"输入你最喜欢的数字：\")\n",
    "        # json文件的创建方式\n",
    "        json.dump(int(favorNumber), f)\n",
    "# TODO:还有一种情况，就是json文件的内容没有了，那该如何操作呢？\n",
    "else:\n",
    "    # 已经发现文件，读取文件的内容\n",
    "    print(f\"我知道了，你最喜欢的数字是{favorNumber}\")"
   ]
  },
  {
   "cell_type": "code",
   "execution_count": 60,
   "metadata": {},
   "outputs": [
    {
     "name": "stdout",
     "output_type": "stream",
     "text": [
      "正在为您注册，请稍等...\n",
      "已注册完成，您目前为：登录状态！\n"
     ]
    }
   ],
   "source": [
    "import json\n",
    "\n",
    "filename = \"../src/usrname.json\"\n",
    "\n",
    "\n",
    "# 第一个函数，在json文件中创建新的用户，默认是输入的用户不在该文件中\n",
    "def createNewUsrName():\n",
    "    with open(filename, \"w\") as f:\n",
    "        current_usr = input(\"请输入您的姓名：\")\n",
    "        print(\"正在为您注册，请稍等...\")\n",
    "        json.dump(current_usr, f)\n",
    "        print(\"已注册完成，您目前为：登录状态！\")\n",
    "\n",
    "\n",
    "# 第二个函数，打印这个当前系统的用户，默认是该用户名已经在这个文件中\n",
    "def already_exists_usr():\n",
    "    with open(filename) as f:\n",
    "        current_usr = json.load(f)\n",
    "        return current_usr\n",
    "\n",
    "\n",
    "def greetUsr():\n",
    "    try:\n",
    "        with open(filename) as f:\n",
    "            json.load(f)\n",
    "    except FileNotFoundError:\n",
    "        createNewUsrName()\n",
    "    else:\n",
    "        stored_value = already_exists_usr()\n",
    "        ans = input(f\"您是{stored_value}用户吗？（输入y或者n）\")\n",
    "        if ans.lower() == \"y\":\n",
    "            print(f\"{stored_value}，欢迎您的再次登录！\")\n",
    "        else:\n",
    "            createNewUsrName()\n",
    "\n",
    "\n",
    "greetUsr()"
   ]
  }
 ],
 "metadata": {
  "interpreter": {
   "hash": "0a4596f6bf28f3bb4c51dd7abc582ccab9b24330e8a9dc4f63857311f67e8492"
  },
  "kernelspec": {
   "display_name": "Python 3.8.13 ('ubuntu2204VMenv')",
   "language": "python",
   "name": "python3"
  },
  "language_info": {
   "codemirror_mode": {
    "name": "ipython",
    "version": 3
   },
   "file_extension": ".py",
   "mimetype": "text/x-python",
   "name": "python",
   "nbconvert_exporter": "python",
   "pygments_lexer": "ipython3",
   "version": "3.8.13"
  },
  "orig_nbformat": 4
 },
 "nbformat": 4,
 "nbformat_minor": 2
}
