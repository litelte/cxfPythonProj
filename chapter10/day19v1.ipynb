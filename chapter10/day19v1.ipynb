{
 "cells": [
  {
   "cell_type": "code",
   "execution_count": 3,
   "metadata": {},
   "outputs": [
    {
     "data": {
      "text/plain": [
       "' \\nPython只能将字符串写入文本文件。要将数值数据存储 到文本文件中，必须先使用函数str() 将其转换为字符串格 式。\\n '"
      ]
     },
     "execution_count": 3,
     "metadata": {},
     "output_type": "execute_result"
    }
   ],
   "source": [
    "# 写入文件\n",
    "filename = 'src/my_programming.txt'\n",
    "with open(filename,'w') as file_object:\n",
    "    file_object.write(\"I love programming.\")\n",
    "\"\"\" \n",
    "Python只能将字符串写入文本文件。要将数值数据存储 到文本文件中，必须先使用函数str() 将其转换为字符串格 式。\n",
    " \"\"\""
   ]
  },
  {
   "cell_type": "code",
   "execution_count": 7,
   "metadata": {},
   "outputs": [],
   "source": [
    "# 写入多行\n",
    "filename = 'src/my_programming.txt'\n",
    "\n",
    "with open(filename,'w') as file_object:\n",
    "    file_object.write(\"I love programming.\")\n",
    "    file_object.write(\"I love creating new games.\")\n",
    "# 这样打印出来的内容就是，所有内容都挤在一行里"
   ]
  },
  {
   "cell_type": "code",
   "execution_count": 14,
   "metadata": {},
   "outputs": [],
   "source": [
    "# 要让每个字符都单独占一行，需要在方法调用write()中包含换行符\n",
    "filename = 'src/my_programming.txt'\n",
    "\n",
    "with open(filename,'w') as file_object:\n",
    "    file_object.write(\"I love programming.\\n\")\n",
    "    file_object.write(\"I love creating new games.\\n\")\n",
    "    \"\"\" \n",
    "    像显示到终端的输出一样，还可以使用空格、制表符和空行来设置 这些输出的格式。\n",
    "     \"\"\""
   ]
  },
  {
   "cell_type": "code",
   "execution_count": 16,
   "metadata": {},
   "outputs": [],
   "source": [
    "# 附加到文件\n",
    "filename = 'src/my_programming.txt'\n",
    "\n",
    "with open(filename,'a') as file_object:\n",
    "    file_object.write(\"I also love finding meaning in large datasets.\\n\")\n",
    "    file_object.write(\"I love creating apps that can run in a browser.\\n\")"
   ]
  },
  {
   "cell_type": "code",
   "execution_count": 18,
   "metadata": {},
   "outputs": [],
   "source": [
    "# 练习10-3 访客\n",
    "input_name = input(\"请输入您的姓名：\")\n",
    "filename = 'src/yourname.txt'\n",
    "with open(filename,'w') as file_object:\n",
    "    file_object.write(input_name)"
   ]
  },
  {
   "cell_type": "code",
   "execution_count": 34,
   "metadata": {},
   "outputs": [
    {
     "name": "stdout",
     "output_type": "stream",
     "text": [
      "欢迎你哦，小明\n",
      "欢迎你哦，小兰\n",
      "欢迎你哦，小绿\n",
      "欢迎你哦，小野\n",
      "欢迎你哦，小紫\n",
      "欢迎你哦，小哈\n",
      "欢迎你哦，笑嘻嘻\n",
      "欢迎你哦，小哈哈哈哈\n"
     ]
    }
   ],
   "source": [
    "# 练习10-4 访客名单\n",
    "# 导入os包，确定要操作的文件是否存在\n",
    "import os\n",
    "\n",
    "filename = \"src/yourname.txt\"\n",
    "# 为文件写入内容\n",
    "def recordName_write(filename, input_name):\n",
    "    with open(filename, \"w\") as file_object:\n",
    "        file_object.write(input_name)\n",
    "\n",
    "\n",
    "# 为文件附加内容\n",
    "def recordName_additional(filename, input_name):\n",
    "    with open(filename, \"a\") as file_object:\n",
    "        file_object.write(input_name)\n",
    "\n",
    "\n",
    "while True:\n",
    "    input_name = input(\"输入您的姓名，按q退出哦！\\n\")\n",
    "    if input_name.lower() == \"q\":\n",
    "        break\n",
    "    else:\n",
    "        if os.path.exists(filename):\n",
    "            recordName_additional(filename, input_name)\n",
    "        else:\n",
    "            recordName_write(filename, input_name)\n",
    "    print(f\"欢迎你哦，{input_name}\")\n",
    "    recordName_additional(filename,'\\n')"
   ]
  },
  {
   "cell_type": "code",
   "execution_count": 36,
   "metadata": {},
   "outputs": [],
   "source": [
    "# 练习10-5\n",
    "# 这个练习可以说是，同时使用了读取和写入文件\n",
    "# 先整读取部分，逐行读取\n",
    "from os import path\n",
    "filename_usr = 'src/yourname.txt'\n",
    "filename_thelikesReason = 'src/likeProgramReason.txt'\n",
    "# 把文件中的内容存储为列表\n",
    "def read_usr_name(filename):\n",
    "    with open(filename) as file_object:\n",
    "        lines = file_object.readlines()\n",
    "        return lines\n",
    "# 构造俩写入的函数，一个创建并写入，一个追加数据\n",
    "def recordReason_Write(filename,input_Reason):\n",
    "    with open(filename,'w') as file_object:\n",
    "        file_object.write(input_Reason)\n",
    "def recordReason_addition(filename,input_Reason):\n",
    "    with open(filename,'a') as file_object:\n",
    "        file_object.write(input_Reason)\n",
    "# 然后读取列表中的姓名数据，并给他们附上原因\n",
    "for line in read_usr_name(filename_usr):\n",
    "    usr_input_Reason = input(f\"请{line.rstrip()}输入喜欢编程的原因：\")\n",
    "    usr_input_Reason_all = f\"{line.rstrip()}喜欢编程的原因：{usr_input_Reason}\\n\"\n",
    "    if path.exists(filename_thelikesReason):\n",
    "        recordName_additional(filename_thelikesReason,usr_input_Reason_all)\n",
    "    else:\n",
    "        recordName_write(filename_thelikesReason,usr_input_Reason_all)"
   ]
  },
  {
   "cell_type": "code",
   "execution_count": 41,
   "metadata": {},
   "outputs": [
    {
     "name": "stdout",
     "output_type": "stream",
     "text": [
      "小明喜欢编程的原因：开心快乐\n",
      "小绿喜欢编程的原因：有小明助攻\n",
      "小紫喜欢编程的原因：家里有矿，爱学啥学啥\n",
      "小兰喜欢编程的原因：家里有阿里的关系\n",
      "\n",
      "71\n"
     ]
    }
   ],
   "source": [
    "# 整理上面的内容，做成多个函数\n",
    "from os import path\n",
    "filename_usr = 'src/yourname.txt'\n",
    "filename_thelikesReason = 'src/likeProgramReason.txt'\n",
    "# 把文件中的内容存储为列表\n",
    "def read_usr_name(filename):\n",
    "    with open(filename) as file_object:\n",
    "        lines = file_object.readlines()\n",
    "        return lines\n",
    "# 构造俩写入的函数，一个创建并写入，一个追加数据\n",
    "def recordReason_Write(filename,input_Reason):\n",
    "    with open(filename,'w') as file_object:\n",
    "        file_object.write(input_Reason)\n",
    "def recordReason_addition(filename,input_Reason):\n",
    "    with open(filename,'a') as file_object:\n",
    "        file_object.write(input_Reason)\n",
    "\n",
    "# 读取列表中的姓名数据，并给它们附上原因\n",
    "def oneByoneRecordReason():\n",
    "    for line in read_usr_name(filename_usr):\n",
    "        usr_input_Reason = input(f\"请{line.rstrip()}输入喜欢编程的原因：\")\n",
    "        usr_input_Reason_all = f\"{line.rstrip()}喜欢编程的原因：{usr_input_Reason}\\n\"\n",
    "        if path.exists(filename_thelikesReason):\n",
    "            recordName_additional(filename_thelikesReason,usr_input_Reason_all)\n",
    "        else:\n",
    "            recordName_write(filename_thelikesReason,usr_input_Reason_all)\n",
    "\n",
    "# 读取上面写好的文件\n",
    "usr_and_reason = read_usr_name(filename_thelikesReason)\n",
    "reason_str = ''\n",
    "for reason in usr_and_reason:\n",
    "    reason_str += reason\n",
    "# 合并输出\n",
    "print(reason_str)\n",
    "print(len(reason_str))"
   ]
  }
 ],
 "metadata": {
  "interpreter": {
   "hash": "0a4596f6bf28f3bb4c51dd7abc582ccab9b24330e8a9dc4f63857311f67e8492"
  },
  "kernelspec": {
   "display_name": "Python 3.8.13 ('ubuntu2204VMenv')",
   "language": "python",
   "name": "python3"
  },
  "language_info": {
   "codemirror_mode": {
    "name": "ipython",
    "version": 3
   },
   "file_extension": ".py",
   "mimetype": "text/x-python",
   "name": "python",
   "nbconvert_exporter": "python",
   "pygments_lexer": "ipython3",
   "version": "3.8.13"
  },
  "orig_nbformat": 4
 },
 "nbformat": 4,
 "nbformat_minor": 2
}
