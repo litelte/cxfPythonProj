{
 "cells": [
  {
   "cell_type": "code",
   "execution_count": 2,
   "metadata": {},
   "outputs": [
    {
     "name": "stdout",
     "output_type": "stream",
     "text": [
      "Hello\n"
     ]
    }
   ],
   "source": [
    "# 计划三天学完函数：第13-15天的计划\n",
    "# 第十三天：2022年5月7日\n",
    "\n",
    "# 定义函数\n",
    "def greet_user():\n",
    "    \"\"\"显示简单的问候语。\"\"\"\n",
    "    print(\"Hello\")\n",
    "\n",
    "\n",
    "greet_user()"
   ]
  },
  {
   "cell_type": "code",
   "execution_count": 4,
   "metadata": {},
   "outputs": [
    {
     "name": "stdout",
     "output_type": "stream",
     "text": [
      "Hello, Jesse!\n"
     ]
    }
   ],
   "source": [
    "# 向函数传递信息\n",
    "def greet_user(username):\n",
    "    \"\"\"显示简单的问候语\"\"\"\n",
    "    print(f\"Hello, {username.title()}!\")\n",
    "\n",
    "\n",
    "greet_user(\"jesse\")"
   ]
  },
  {
   "cell_type": "code",
   "execution_count": 5,
   "metadata": {},
   "outputs": [
    {
     "data": {
      "text/plain": [
       "\" \\n搞清楚实参和形参的区别\\n上面的例子里，给greet_user()传入的username是一个形参，也就是函数完成工作所需的信息\\n而真正赋的值是'jesse'，这是一个实参\\n在调用函数时，greet_user('jesse')，给实参'jesse'传递给了函数greet_user()，这个值被赋给了形参username\\n \""
      ]
     },
     "execution_count": 5,
     "metadata": {},
     "output_type": "execute_result"
    }
   ],
   "source": [
    "# 实参和形参\n",
    "\"\"\" \n",
    "搞清楚实参和形参的区别\n",
    "上面的例子里，给greet_user()传入的username是一个形参，也就是函数完成工作所需的信息\n",
    "而真正赋的值是'jesse'，这是一个实参\n",
    "在调用函数时，greet_user('jesse')，给实参'jesse'传递给了函数greet_user()，这个值被赋给了形参username\n",
    " \"\"\""
   ]
  },
  {
   "cell_type": "code",
   "execution_count": 8,
   "metadata": {},
   "outputs": [
    {
     "name": "stdout",
     "output_type": "stream",
     "text": [
      "谢谢你，因为有你，温暖了四季！我顺利在2022年5月7日10点04分学习了第八章函数的定义\n"
     ]
    }
   ],
   "source": [
    "# 练习8-1\n",
    "def display_message():\n",
    "    print(\"谢谢你，因为有你，温暖了四季！我顺利在2022年5月7日10点04分学习了第八章函数的定义\")\n",
    "\n",
    "\n",
    "display_message()"
   ]
  },
  {
   "cell_type": "code",
   "execution_count": 10,
   "metadata": {},
   "outputs": [
    {
     "name": "stdout",
     "output_type": "stream",
     "text": [
      "One of my favorite books is Alice in wonderland\n"
     ]
    }
   ],
   "source": [
    "def favorite_book(titele):\n",
    "    print(f\"One of my favorite books is {titele.title()} in wonderland\")\n",
    "\n",
    "\n",
    "favorite_book(\"Alice\")"
   ]
  },
  {
   "cell_type": "code",
   "execution_count": 11,
   "metadata": {},
   "outputs": [
    {
     "data": {
      "text/plain": [
       "' \\n向函数传递实参的方式很多：可使用位置实参 ，这要求实参 的顺序与形参的顺序相同；也可使用关键字实参 ，其中每个实参 都由变量名和值组成；还可使用列表和字典。\\n '"
      ]
     },
     "execution_count": 11,
     "metadata": {},
     "output_type": "execute_result"
    }
   ],
   "source": [
    "# 传递实参\n",
    "# 函数可能包括多个形参，所以函数的调用过程中也可能包含多个实参\n",
    "\"\"\" \n",
    "向函数传递实参的方式很多：可使用位置实参 ，这要求实参 的顺序与形参的顺序相同；也可使用关键字实参 ，其中每个实参 都由变量名和值组成；还可使用列表和字典。\n",
    " \"\"\""
   ]
  },
  {
   "cell_type": "code",
   "execution_count": 14,
   "metadata": {},
   "outputs": [
    {
     "name": "stdout",
     "output_type": "stream",
     "text": [
      "\n",
      "I have a hamster.\n",
      "My hamster's name is Harry.\n"
     ]
    }
   ],
   "source": [
    "# 位置实参\n",
    "def describe_pet(animal_type, pet_name):\n",
    "    \"\"\"显示宠物的信息\"\"\"\n",
    "    print(f\"\\nI have a {animal_type}.\")\n",
    "    print(f\"My {animal_type}'s name is {pet_name.title()}.\")\n",
    "\n",
    "\n",
    "describe_pet(\"hamster\", \"harry\")"
   ]
  },
  {
   "cell_type": "code",
   "execution_count": 16,
   "metadata": {},
   "outputs": [
    {
     "name": "stdout",
     "output_type": "stream",
     "text": [
      "\n",
      "I have a hamster.\n",
      "My hamster's name is Harry.\n",
      "\n",
      "I have a dog.\n",
      "My dog's name is Willit.\n",
      "\n",
      "I have a cat.\n",
      "My cat's name is Jeff.\n"
     ]
    }
   ],
   "source": [
    "# 多次调用函数\n",
    "def describe_pet(animal_type, pet_name):\n",
    "    \"\"\"显示宠物的信息。\"\"\"\n",
    "    print(f\"\\nI have a {animal_type}.\")\n",
    "    print(f\"My {animal_type}'s name is {pet_name.title()}.\")\n",
    "\n",
    "\n",
    "describe_pet(\"hamster\", \"harry\")\n",
    "describe_pet(\"dog\", \"willit\")\n",
    "describe_pet(\"cat\", \"jeff\")"
   ]
  },
  {
   "cell_type": "code",
   "execution_count": 18,
   "metadata": {},
   "outputs": [
    {
     "name": "stdout",
     "output_type": "stream",
     "text": [
      "\n",
      "I have a harry.\n",
      "My harry's name is Hamster.\n"
     ]
    }
   ],
   "source": [
    "# 位置实参的顺序很重要\n",
    "def describe_pet(animal_type, pet_name):\n",
    "    \"\"\"显示宠物的信息\"\"\"\n",
    "    print(f\"\\nI have a {animal_type}.\")\n",
    "    print(f\"My {animal_type}'s name is {pet_name.title()}.\")\n",
    "\n",
    "\n",
    "describe_pet(\"harry\", \"hamster\")\n",
    "# 这样运行的结果刚好相反\n",
    "# 我有一个哈利，哈利的名字是仓鼠，所以一定要注意顺序"
   ]
  },
  {
   "cell_type": "code",
   "execution_count": 22,
   "metadata": {},
   "outputs": [
    {
     "name": "stdout",
     "output_type": "stream",
     "text": [
      "\n",
      "I have a hamster.\n",
      "My hamster's name is Harry.\n",
      "\n",
      "I have a cat.\n",
      "My cat's name is Jeff.\n",
      "\n",
      "I have a dog.\n",
      "My dog's name is John.\n"
     ]
    }
   ],
   "source": [
    "# 关键字实参\n",
    "def describe_pet(animal_type, pet_name):\n",
    "    \"\"\"显示宠物信息\"\"\"\n",
    "    print(f\"\\nI have a {animal_type}.\")\n",
    "    print(f\"My {animal_type}'s name is {pet_name.title()}.\")\n",
    "\n",
    "\n",
    "describe_pet(animal_type=\"hamster\", pet_name=\"harry\")\n",
    "describe_pet(pet_name=\"jeff\", animal_type=\"cat\")\n",
    "describe_pet(\"dog\", \"john\")\n",
    "# 这三个的含义是一样的"
   ]
  },
  {
   "cell_type": "code",
   "execution_count": 25,
   "metadata": {},
   "outputs": [
    {
     "name": "stdout",
     "output_type": "stream",
     "text": [
      "\n",
      "I have a dog.\n",
      "My dog's name is Willie.\n",
      "\n",
      "I have a hamster.\n",
      "My hamster's name is Harry.\n"
     ]
    }
   ],
   "source": [
    "# 默认值，函数形参可以设置一个默认值\n",
    "def describe_pet(pet_name, animal_type=\"dog\"):\n",
    "    \"\"\"显示宠物的信息\"\"\"\n",
    "    print(f\"\\nI have a {animal_type}.\")\n",
    "    print(f\"My {animal_type}'s name is {pet_name.title()}.\")\n",
    "\n",
    "\n",
    "describe_pet(pet_name=\"willie\")\n",
    "# 如果描述的动物不是小狗，可以使用类似下面的函数调用\n",
    "describe_pet(pet_name=\"harry\", animal_type=\"hamster\")\n",
    "# 注意，必须是这样的形式"
   ]
  },
  {
   "cell_type": "code",
   "execution_count": 30,
   "metadata": {},
   "outputs": [
    {
     "name": "stdout",
     "output_type": "stream",
     "text": [
      "\n",
      "I have a dog.\n",
      "My dog's name is Willie.\n",
      "\n",
      "I have a dog.\n",
      "My dog's name is Willie.\n",
      "\n",
      "I have a dog.\n",
      "My dog's name is Willie.\n",
      "\n",
      "I have a dog.\n",
      "My dog's name is Willie.\n",
      "\n",
      "I have a hamster.\n",
      "My hamster's name is Harry.\n",
      "\n",
      "I have a hamster.\n",
      "My hamster's name is Harry.\n",
      "\n",
      "I have a hamster.\n",
      "My hamster's name is Harry.\n"
     ]
    }
   ],
   "source": [
    "# 等效的函数调用\n",
    "def describe_pet(pet_name, animal_type=\"dog\"):\n",
    "    \"\"\"显示宠物的信息\"\"\"\n",
    "    print(f\"\\nI have a {animal_type}.\")\n",
    "    print(f\"My {animal_type}'s name is {pet_name.title()}.\")\n",
    "\n",
    "\n",
    "# 一条名为willie的小狗\n",
    "describe_pet(\"willie\")\n",
    "describe_pet(pet_name=\"willie\")\n",
    "describe_pet(\"willie\", \"dog\")\n",
    "describe_pet(pet_name=\"willie\", animal_type=\"dog\")\n",
    "\n",
    "# 一只名为Harry的仓鼠\n",
    "describe_pet(\"harry\", animal_type=\"hamster\")\n",
    "describe_pet(pet_name=\"harry\", animal_type=\"hamster\")\n",
    "describe_pet(\"harry\", \"hamster\")"
   ]
  },
  {
   "cell_type": "code",
   "execution_count": 32,
   "metadata": {},
   "outputs": [
    {
     "name": "stdout",
     "output_type": "stream",
     "text": [
      "这是你要的有Hello World字样，尺码为Xxxl的短袖！\n",
      "这是你要的有Hello Python字样，尺码为Xxl的短袖！\n"
     ]
    }
   ],
   "source": [
    "# 练习8-3\n",
    "def make_shirt(size, typeface):\n",
    "    print(f\"这是你要的有{typeface.title()}字样，尺码为{size.title()}的短袖！\")\n",
    "\n",
    "\n",
    "# 位置实参\n",
    "make_shirt(\"xxxl\", \"hello world\")\n",
    "# 关键字实参\n",
    "make_shirt(typeface=\"hello python\", size=\"xxl\")"
   ]
  },
  {
   "cell_type": "code",
   "execution_count": 7,
   "metadata": {},
   "outputs": [
    {
     "name": "stdout",
     "output_type": "stream",
     "text": [
      "这是你要的印着I love Python字样，尺码为大号的短袖！\n",
      "这是你要的印着I love Python字样，尺码为中号的短袖！\n",
      "这是你要的印着I love C#字样，尺码为超小号的短袖！\n",
      "这是你要的印着I love Java字样，尺码为超大号的短袖！\n"
     ]
    }
   ],
   "source": [
    "# 练习8-4\n",
    "def make_shirt(size, typeface=\"I love Python\"):\n",
    "    print(f\"这是你要的印着{typeface}字样，尺码为{size}的短袖！\")\n",
    "\n",
    "\n",
    "make_shirt(\"大号\")\n",
    "make_shirt(\"中号\")\n",
    "make_shirt(\"超小号\", \"I love C#\")\n",
    "make_shirt(\"超大号\", typeface=\"I love Java\")"
   ]
  },
  {
   "cell_type": "code",
   "execution_count": 12,
   "metadata": {},
   "outputs": [
    {
     "name": "stdout",
     "output_type": "stream",
     "text": [
      "Xi'An在China.\n",
      "Yan An在China.\n",
      "Bangkok在Thailand.\n",
      "Paris在France.\n"
     ]
    }
   ],
   "source": [
    "# 练习8-5\n",
    "def describe_city(cityName, countryName=\"china\"):\n",
    "    print(f\"{cityName.title()}在{countryName.title()}.\")\n",
    "\n",
    "\n",
    "describe_city(\"xi'an\", \"china\")\n",
    "describe_city(\"yan an\")\n",
    "describe_city(\"bangkok\", \"thailand\")\n",
    "describe_city(\"paris\", countryName=\"france\")"
   ]
  },
  {
   "cell_type": "code",
   "execution_count": 15,
   "metadata": {},
   "outputs": [
    {
     "name": "stdout",
     "output_type": "stream",
     "text": [
      "Jimi Hendrix\n"
     ]
    }
   ],
   "source": [
    "# 8.3返回值\n",
    "# 返回简单值\n",
    "def get_formatted_name(first_name, last_name):\n",
    "    \"\"\"返回整洁的姓名\"\"\"\n",
    "    full_name = f\"{first_name} {last_name}\"\n",
    "    return full_name.title()\n",
    "\n",
    "\n",
    "musician = get_formatted_name(\"jimi\", \"hendrix\")\n",
    "print(musician)"
   ]
  },
  {
   "cell_type": "code",
   "execution_count": 17,
   "metadata": {},
   "outputs": [
    {
     "name": "stdout",
     "output_type": "stream",
     "text": [
      "John Lee Hooker\n"
     ]
    }
   ],
   "source": [
    "# 让实参变成可选的\n",
    "# 上面的那个传参练习中，不传参会让函数报错，程序无法进行\n",
    "def get_formatted_name(first_name, middle_name, last_name):\n",
    "    \"\"\"返回整洁的姓名\"\"\"\n",
    "    full_name = f\"{first_name} {middle_name} {last_name}\"\n",
    "    return full_name.title()\n",
    "\n",
    "\n",
    "musician = get_formatted_name(\"john\", \"lee\", \"hooker\")\n",
    "print(musician)\n",
    "# 并非所有人都有中间名"
   ]
  },
  {
   "cell_type": "code",
   "execution_count": 19,
   "metadata": {},
   "outputs": [
    {
     "name": "stdout",
     "output_type": "stream",
     "text": [
      "Jimi Hendrix\n",
      "John Lee Hooker\n"
     ]
    }
   ],
   "source": [
    "# 所以下来得做一个判断\n",
    "def get_formatted_name(first_name, last_name, middle_name=\"\"):\n",
    "    \"\"\"返回整洁的姓名\"\"\"\n",
    "    if middle_name:\n",
    "        full_name = f\"{first_name} {middle_name} {last_name}\"\n",
    "    else:\n",
    "        full_name = f\"{first_name} {last_name}\"\n",
    "    return full_name.title()\n",
    "\n",
    "\n",
    "musician = get_formatted_name(\"jimi\", \"hendrix\")\n",
    "print(musician)\n",
    "\n",
    "musician = get_formatted_name(\"john\", \"hooker\", \"lee\")\n",
    "print(musician)\n",
    "# 系统不报错，并不是这个特殊机制，而是被填入了默认值"
   ]
  },
  {
   "cell_type": "code",
   "execution_count": 21,
   "metadata": {},
   "outputs": [
    {
     "name": "stdout",
     "output_type": "stream",
     "text": [
      "{'first': 'jimi', 'last': 'hendrix'}\n"
     ]
    }
   ],
   "source": [
    "# 返回字典\n",
    "def build_person(first_name, last_name):\n",
    "    \"\"\"返回一个字典，其中包括有关一个人的信息。\"\"\"\n",
    "    person = {\"first\": first_name, \"last\": last_name}\n",
    "    return person\n",
    "\n",
    "\n",
    "musician = build_person(\"jimi\", \"hendrix\")\n",
    "print(musician)"
   ]
  },
  {
   "cell_type": "code",
   "execution_count": 23,
   "metadata": {},
   "outputs": [
    {
     "name": "stdout",
     "output_type": "stream",
     "text": [
      "{'first': 'jimi', 'last': 'hendrix', 'age': 27}\n"
     ]
    },
    {
     "data": {
      "text/plain": [
       "' \\n新增了一个可选形参age ，并将其默认值设置为特 殊值None （表示变量没有值）。可将None 视为占位值。在条件测 试中，None 相当于False 。如果函数调用中包含形参age 的值， 这个值将被存储到字典中。在任何情况下，这个函数都会\\n '"
      ]
     },
     "execution_count": 23,
     "metadata": {},
     "output_type": "execute_result"
    }
   ],
   "source": [
    "# 字典再多存点东西\n",
    "def build_person(first_name, last_name, age=None):\n",
    "    \"\"\"返回一个字典，其中包含有关一个人的信息。\"\"\"\n",
    "    person = {\n",
    "        \"first\": first_name,\n",
    "        \"last\": last_name,\n",
    "    }\n",
    "    if age:\n",
    "        person[\"age\"] = age\n",
    "    return person\n",
    "\n",
    "\n",
    "musician = build_person(\"jimi\", \"hendrix\", age=27)\n",
    "print(musician)\n",
    "\"\"\" \n",
    "新增了一个可选形参age ，并将其默认值设置为特 殊值None （表示变量没有值）。可将None 视为占位值。在条件测 试中，None 相当于False 。如果函数调用中包含形参age 的值， 这个值将被存储到字典中。在任何情况下，这个函数都会\n",
    " \"\"\""
   ]
  },
  {
   "cell_type": "code",
   "execution_count": 27,
   "metadata": {},
   "outputs": [
    {
     "name": "stdout",
     "output_type": "stream",
     "text": [
      "\n",
      "Please tell me your name: \n",
      "(enter 'q' at any time to quit)\n",
      "\n",
      "Hello, Cao Xian Fang!\n",
      "\n",
      "Please tell me your name: \n",
      "(enter 'q' at any time to quit)\n",
      "\n",
      "Hello, Li Xiao Ming!\n",
      "\n",
      "Please tell me your name: \n",
      "(enter 'q' at any time to quit)\n"
     ]
    }
   ],
   "source": [
    "# 给循环添加退出条件\n",
    "def get_formatted_name(first_name, last_name):\n",
    "    \"\"\"返回整洁的姓名\"\"\"\n",
    "    full_name = f\"{first_name} {last_name}\"\n",
    "    return full_name.title()\n",
    "\n",
    "\n",
    "while True:\n",
    "    print(\"\\nPlease tell me your name: \")\n",
    "    print(\"(enter 'q' at any time to quit)\")\n",
    "\n",
    "    f_name = input(\"First name: \")\n",
    "    if f_name == \"q\":\n",
    "        break\n",
    "\n",
    "    l_name = input(\"Last name: \")\n",
    "    if l_name == \"q\":\n",
    "        break\n",
    "\n",
    "    formatted_name = get_formatted_name(f_name, l_name)\n",
    "    print(f\"\\nHello, {formatted_name}!\")"
   ]
  },
  {
   "cell_type": "code",
   "execution_count": 36,
   "metadata": {},
   "outputs": [
    {
     "name": "stdout",
     "output_type": "stream",
     "text": [
      "{'李健': '凡尔登湖'}\n",
      "{'李荣浩': '李白'}\n",
      "{'李玉刚': '万疆'}\n"
     ]
    }
   ],
   "source": [
    "# 练习8-7\n",
    "def make_album(singer_name, album_name):\n",
    "    music_album = {singer_name: album_name}\n",
    "    return music_album\n",
    "\n",
    "\n",
    "music = make_album(\"李健\", \"凡尔登湖\")\n",
    "print(music)\n",
    "\n",
    "music = make_album(\"李荣浩\", \"李白\")\n",
    "print(music)\n",
    "\n",
    "music = make_album(\"李玉刚\", \"万疆\")\n",
    "print(music)"
   ]
  },
  {
   "cell_type": "code",
   "execution_count": 40,
   "metadata": {},
   "outputs": [
    {
     "name": "stdout",
     "output_type": "stream",
     "text": [
      "{'singerName': '莫文蔚', 'albumName': '阴天', 'songCount': 5}\n",
      "{'singerName': '蔡健雅', 'albumName': '越来越不懂'}\n"
     ]
    }
   ],
   "source": [
    "# 给函数添加一个默认值None的可选形参\n",
    "def make_album(singer_name, album_name, song_count=None):\n",
    "    music_album = {\n",
    "        \"singerName\": singer_name,\n",
    "        \"albumName\": album_name,\n",
    "    }\n",
    "\n",
    "    if song_count:\n",
    "        music_album[\"songCount\"] = song_count\n",
    "    return music_album\n",
    "\n",
    "\n",
    "music = make_album(\"莫文蔚\", \"阴天\", 5)\n",
    "print(music)\n",
    "\n",
    "music = make_album(\"蔡健雅\", \"越来越不懂\")\n",
    "print(music)"
   ]
  }
 ],
 "metadata": {
  "interpreter": {
   "hash": "0a4596f6bf28f3bb4c51dd7abc582ccab9b24330e8a9dc4f63857311f67e8492"
  },
  "kernelspec": {
   "display_name": "Python 3.8.13 ('ubuntu2204VMenv')",
   "language": "python",
   "name": "python3"
  },
  "language_info": {
   "codemirror_mode": {
    "name": "ipython",
    "version": 3
   },
   "file_extension": ".py",
   "mimetype": "text/x-python",
   "name": "python",
   "nbconvert_exporter": "python",
   "pygments_lexer": "ipython3",
   "version": "3.8.13"
  },
  "orig_nbformat": 4
 },
 "nbformat": 4,
 "nbformat_minor": 2
}
