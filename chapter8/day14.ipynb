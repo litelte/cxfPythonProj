{
 "cells": [
  {
   "cell_type": "code",
   "execution_count": 2,
   "metadata": {},
   "outputs": [
    {
     "name": "stdout",
     "output_type": "stream",
     "text": [
      "Hello,Hannah!\n",
      "Hello,Ty!\n",
      "Hello,Margot!\n"
     ]
    }
   ],
   "source": [
    "# 传递列表\n",
    "\"\"\" \n",
    "函数传参，传入列表\n",
    " \"\"\"\n",
    "def greet_users(names):\n",
    "    # 向列表中的每位用户发出简单的问候\n",
    "    for name in names:\n",
    "        msg = f\"Hello,{name.title()}!\"\n",
    "        print(msg)\n",
    "\n",
    "usernames = ['hannah','ty','margot']\n",
    "greet_users(usernames)"
   ]
  },
  {
   "cell_type": "code",
   "execution_count": 4,
   "metadata": {},
   "outputs": [
    {
     "name": "stdout",
     "output_type": "stream",
     "text": [
      "Printing model: dodecahedron\n",
      "Printing model: robot pendant\n",
      "Printing model: phone case\n",
      "\n",
      "The following models have been printed:\n",
      "dodecahedron\n",
      "robot pendant\n",
      "phone case\n"
     ]
    }
   ],
   "source": [
    "# 在函数中修改列表\n",
    "# 先创建一个列表，其中包含一些要打印的设计\n",
    "unprinted_designs = ['phone case','robot pendant','dodecahedron']\n",
    "completed_models = []\n",
    "\n",
    "# 模拟打印每个设计，直到没有未打印的设计为止\n",
    "# 打印每个设计后，都将其移到列表completed_models中\n",
    "while unprinted_designs:\n",
    "    current_design = unprinted_designs.pop()\n",
    "    print(f\"Printing model: {current_design}\")\n",
    "    completed_models.append(current_design)\n",
    "\n",
    "# 显示打印好的模型\n",
    "print(\"\\nThe following models have been printed:\")\n",
    "for completed_model in completed_models:\n",
    "    print(completed_model)"
   ]
  },
  {
   "cell_type": "code",
   "execution_count": 5,
   "metadata": {},
   "outputs": [
    {
     "name": "stdout",
     "output_type": "stream",
     "text": [
      "Printing model: dodecahedron\n",
      "Printing model: robot pendant\n",
      "Printing model: phone case\n",
      "\n",
      "The following models have been printed:\n",
      "dodecahedron\n",
      "robot pendant\n",
      "phone case\n"
     ]
    }
   ],
   "source": [
    "# 重新组织代码，可以编写两个函数，一个负责弹出，一个负责遍历\n",
    "# 弹出函数\n",
    "def print_models(unprinted_designs,completed_models):\n",
    "    # 模拟打印每个设计，直到没有未打印的设计为止\n",
    "    while unprinted_designs:\n",
    "        current_design = unprinted_designs.pop()\n",
    "        print(f\"Printing model: {current_design}\")\n",
    "        completed_models.append(current_design)\n",
    "\n",
    "# 遍历列表\n",
    "def show_completed_models(completed_models):\n",
    "    # 显示打印好的所有模型\n",
    "    print(\"\\nThe following models have been printed:\")\n",
    "    for completed_model in completed_models:\n",
    "        print(completed_model)\n",
    "\n",
    "# 开始调用这两个函数\n",
    "unprinted_designs = ['phone case','robot pendant','dodecahedron']\n",
    "completed_models = []\n",
    "\n",
    "print_models(unprinted_designs,completed_models)\n",
    "show_completed_models(completed_models)"
   ]
  }
 ],
 "metadata": {
  "interpreter": {
   "hash": "0a4596f6bf28f3bb4c51dd7abc582ccab9b24330e8a9dc4f63857311f67e8492"
  },
  "kernelspec": {
   "display_name": "Python 3.8.13 ('ubuntu2204VMenv')",
   "language": "python",
   "name": "python3"
  },
  "language_info": {
   "codemirror_mode": {
    "name": "ipython",
    "version": 3
   },
   "file_extension": ".py",
   "mimetype": "text/x-python",
   "name": "python",
   "nbconvert_exporter": "python",
   "pygments_lexer": "ipython3",
   "version": "3.8.13"
  },
  "orig_nbformat": 4
 },
 "nbformat": 4,
 "nbformat_minor": 2
}
