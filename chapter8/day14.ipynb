{
 "cells": [
  {
   "cell_type": "code",
   "execution_count": 2,
   "metadata": {},
   "outputs": [
    {
     "name": "stdout",
     "output_type": "stream",
     "text": [
      "Hello,Hannah!\n",
      "Hello,Ty!\n",
      "Hello,Margot!\n"
     ]
    }
   ],
   "source": [
    "# 传递列表\n",
    "\"\"\" \n",
    "函数传参，传入列表\n",
    " \"\"\"\n",
    "\n",
    "\n",
    "def greet_users(names):\n",
    "    # 向列表中的每位用户发出简单的问候\n",
    "    for name in names:\n",
    "        msg = f\"Hello,{name.title()}!\"\n",
    "        print(msg)\n",
    "\n",
    "\n",
    "usernames = ['hannah', 'ty', 'margot']\n",
    "greet_users(usernames)\n"
   ]
  },
  {
   "cell_type": "code",
   "execution_count": 4,
   "metadata": {},
   "outputs": [
    {
     "name": "stdout",
     "output_type": "stream",
     "text": [
      "Printing model: dodecahedron\n",
      "Printing model: robot pendant\n",
      "Printing model: phone case\n",
      "\n",
      "The following models have been printed:\n",
      "dodecahedron\n",
      "robot pendant\n",
      "phone case\n"
     ]
    }
   ],
   "source": [
    "# 在函数中修改列表\n",
    "# 先创建一个列表，其中包含一些要打印的设计\n",
    "unprinted_designs = ['phone case', 'robot pendant', 'dodecahedron']\n",
    "completed_models = []\n",
    "\n",
    "# 模拟打印每个设计，直到没有未打印的设计为止\n",
    "# 打印每个设计后，都将其移到列表completed_models中\n",
    "while unprinted_designs:\n",
    "    current_design = unprinted_designs.pop()\n",
    "    print(f\"Printing model: {current_design}\")\n",
    "    completed_models.append(current_design)\n",
    "\n",
    "# 显示打印好的模型\n",
    "print(\"\\nThe following models have been printed:\")\n",
    "for completed_model in completed_models:\n",
    "    print(completed_model)\n"
   ]
  },
  {
   "cell_type": "code",
   "execution_count": 1,
   "metadata": {},
   "outputs": [
    {
     "name": "stdout",
     "output_type": "stream",
     "text": [
      "Printing model: dodecahedron\n",
      "Printing model: robot pendant\n",
      "Printing model: phone case\n",
      "\n",
      "The following models have been printed:\n",
      "dodecahedron\n",
      "robot pendant\n",
      "phone case\n"
     ]
    }
   ],
   "source": [
    "# 重新组织代码，可以编写两个函数，一个负责弹出，一个负责遍历\n",
    "# 弹出函数\n",
    "def print_models(unprinted_designs, completed_models):\n",
    "    # 模拟打印每个设计，直到没有未打印的设计为止\n",
    "    while unprinted_designs:\n",
    "        current_design = unprinted_designs.pop()\n",
    "        print(f\"Printing model: {current_design}\")\n",
    "        completed_models.append(current_design)\n",
    "\n",
    "\n",
    "# 遍历列表\n",
    "def show_completed_models(completed_models):\n",
    "    # 显示打印好的所有模型\n",
    "    print(\"\\nThe following models have been printed:\")\n",
    "    for completed_model in completed_models:\n",
    "        print(completed_model)\n",
    "\n",
    "\n",
    "# 开始调用这两个函数\n",
    "unprinted_designs = ['phone case', 'robot pendant', 'dodecahedron']\n",
    "completed_models = []\n",
    "\n",
    "print_models(unprinted_designs, completed_models)\n",
    "show_completed_models(completed_models)\n"
   ]
  },
  {
   "cell_type": "code",
   "execution_count": 3,
   "metadata": {},
   "outputs": [
    {
     "data": {
      "text/plain": [
       "' \\n现在有另外的情景：\\n你有一个未打印的设计列表，并编写了一个函数将这些设计移到打 印好的模型列表中。你可能会做出这样的决定：即便打印好了所有 设计，也要保留原来的未打印的设计列表，以供备案。但由于你将 所有的设计都移出了unprinted_designs ，这个列表变成了空 的，原来的列表没有了。为解决这个问题，可向函数传递列表的副\\n本而非原件。这样，函数所做的任何修改都只影响副本，而原件丝 毫不受影响。\\n '"
      ]
     },
     "execution_count": 3,
     "metadata": {},
     "output_type": "execute_result"
    }
   ],
   "source": [
    "# 禁止函数修改列表\n",
    "\"\"\" \n",
    "现在有另外的情景：\n",
    "你有一个未打印的设计列表，并编写了一个函数将这些设计移到打 印好的模型列表中。你可能会做出这样的决定：即便打印好了所有 设计，也要保留原来的未打印的设计列表，以供备案。但由于你将 所有的设计都移出了unprinted_designs ，这个列表变成了空 的，原来的列表没有了。为解决这个问题，可向函数传递列表的副\n",
    "本而非原件。这样，函数所做的任何修改都只影响副本，而原件丝毫不受影响。\n",
    " \"\"\"\n"
   ]
  },
  {
   "cell_type": "code",
   "execution_count": 4,
   "metadata": {},
   "outputs": [],
   "source": [
    "# 意思就是得整一份复制品，原来的不能用pop，而是让复制品用pop\n"
   ]
  },
  {
   "cell_type": "code",
   "execution_count": 5,
   "metadata": {},
   "outputs": [],
   "source": [
    "# 定义两个函数，一个是对副本使用pop，另一个是对已经完成的列表进行遍历\n"
   ]
  },
  {
   "cell_type": "code",
   "execution_count": 1,
   "metadata": {},
   "outputs": [
    {
     "name": "stdout",
     "output_type": "stream",
     "text": [
      "正在打印：正十二体\n",
      "正在打印：机器人的小零件\n",
      "正在打印：手机壳子\n"
     ]
    },
    {
     "ename": "TypeError",
     "evalue": "'list' object is not callable",
     "output_type": "error",
     "traceback": [
      "\u001b[0;31m---------------------------------------------------------------------------\u001b[0m",
      "\u001b[0;31mTypeError\u001b[0m                                 Traceback (most recent call last)",
      "\u001b[1;32m/home/ubuntu/Code/cxfPythonProj/chapter8/day14.ipynb Cell 7'\u001b[0m in \u001b[0;36m<cell line: 25>\u001b[0;34m()\u001b[0m\n\u001b[1;32m     <a href='vscode-notebook-cell://ssh-remote%2Bvm/home/ubuntu/Code/cxfPythonProj/chapter8/day14.ipynb#ch0000006vscode-remote?line=22'>23</a>\u001b[0m completed_models \u001b[39m=\u001b[39m []\n\u001b[1;32m     <a href='vscode-notebook-cell://ssh-remote%2Bvm/home/ubuntu/Code/cxfPythonProj/chapter8/day14.ipynb#ch0000006vscode-remote?line=23'>24</a>\u001b[0m to_print_models(unprinted_designs,completed_models)\n\u001b[0;32m---> <a href='vscode-notebook-cell://ssh-remote%2Bvm/home/ubuntu/Code/cxfPythonProj/chapter8/day14.ipynb#ch0000006vscode-remote?line=24'>25</a>\u001b[0m unprinted_designs(unprinted_designs)\n\u001b[1;32m     <a href='vscode-notebook-cell://ssh-remote%2Bvm/home/ubuntu/Code/cxfPythonProj/chapter8/day14.ipynb#ch0000006vscode-remote?line=25'>26</a>\u001b[0m completed_models(completed_models)\n",
      "\u001b[0;31mTypeError\u001b[0m: 'list' object is not callable"
     ]
    }
   ],
   "source": [
    "# 第一个函数，将未打印的模型进行打印，但是不能把原来的模型给pop掉\n",
    "# 传入未打印的模型，和成品的列表\n",
    "def to_print_models(unprinted_designs, completed_models):\n",
    "    # 复制一个未打印的模型，不直接将未打印的模型进行打印\n",
    "    replica_Unprinted_model = unprinted_designs[:]\n",
    "    while replica_Unprinted_model:\n",
    "        current_design = replica_Unprinted_model.pop()\n",
    "        print(f\"正在打印：{current_design}\")\n",
    "        completed_models.append(current_design)\n",
    "\n",
    "\n",
    "# 看看模型\n",
    "def unprinted_designs(unprinted_models):\n",
    "    for unprinted_model in unprinted_models:\n",
    "        print(f\"未打印的模型：{unprinted_model}\")\n",
    "\n",
    "\n",
    "# 看看成品\n",
    "def completed_models(completed_models):\n",
    "    for completed_model in completed_models:\n",
    "        print(completed_model)\n",
    "\n",
    "\n",
    "# 代入函数\n",
    "unprinted_designs = ['手机壳子', '机器人的小零件', '正十二体']\n",
    "completed_models = []\n",
    "to_print_models(unprinted_designs, completed_models)\n",
    "unprinted_designs(unprinted_designs)\n",
    "completed_models(completed_models)\n"
   ]
  },
  {
   "cell_type": "code",
   "execution_count": null,
   "metadata": {},
   "outputs": [],
   "source": [
    "# 设置单元格格式\n",
    "def alwaysoutput():\n",
    "    for i in range(3, 10):\n",
    "        print(\"hello world!\")\n",
    "\n",
    "alwaysoutput()\n"
   ]
  }
 ],
 "metadata": {
  "interpreter": {
   "hash": "0a4596f6bf28f3bb4c51dd7abc582ccab9b24330e8a9dc4f63857311f67e8492"
  },
  "kernelspec": {
   "display_name": "Python 3.8.13 ('ubuntu2204VMenv')",
   "language": "python",
   "name": "python3"
  },
  "language_info": {
   "codemirror_mode": {
    "name": "ipython",
    "version": 3
   },
   "file_extension": ".py",
   "mimetype": "text/x-python",
   "name": "python",
   "nbconvert_exporter": "python",
   "pygments_lexer": "ipython3",
   "version": "3.8.13"
  },
  "orig_nbformat": 4
 },
 "nbformat": 4,
 "nbformat_minor": 2
}
