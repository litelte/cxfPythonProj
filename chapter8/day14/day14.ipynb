{
 "cells": [
  {
   "cell_type": "code",
   "execution_count": 2,
   "metadata": {},
   "outputs": [
    {
     "name": "stdout",
     "output_type": "stream",
     "text": [
      "Hello,Hannah!\n",
      "Hello,Ty!\n",
      "Hello,Margot!\n"
     ]
    }
   ],
   "source": [
    "# 传递列表\n",
    "\"\"\" \n",
    "函数传参，传入列表\n",
    " \"\"\"\n",
    "\n",
    "\n",
    "def greet_users(names):\n",
    "    # 向列表中的每位用户发出简单的问候\n",
    "    for name in names:\n",
    "        msg = f\"Hello,{name.title()}!\"\n",
    "        print(msg)\n",
    "\n",
    "\n",
    "usernames = ['hannah', 'ty', 'margot']\n",
    "greet_users(usernames)\n"
   ]
  },
  {
   "cell_type": "code",
   "execution_count": 4,
   "metadata": {},
   "outputs": [
    {
     "name": "stdout",
     "output_type": "stream",
     "text": [
      "Printing model: dodecahedron\n",
      "Printing model: robot pendant\n",
      "Printing model: phone case\n",
      "\n",
      "The following models have been printed:\n",
      "dodecahedron\n",
      "robot pendant\n",
      "phone case\n"
     ]
    }
   ],
   "source": [
    "# 在函数中修改列表\n",
    "# 先创建一个列表，其中包含一些要打印的设计\n",
    "unprinted_designs = ['phone case', 'robot pendant', 'dodecahedron']\n",
    "completed_models = []\n",
    "\n",
    "# 模拟打印每个设计，直到没有未打印的设计为止\n",
    "# 打印每个设计后，都将其移到列表completed_models中\n",
    "while unprinted_designs:\n",
    "    current_design = unprinted_designs.pop()\n",
    "    print(f\"Printing model: {current_design}\")\n",
    "    completed_models.append(current_design)\n",
    "\n",
    "# 显示打印好的模型\n",
    "print(\"\\nThe following models have been printed:\")\n",
    "for completed_model in completed_models:\n",
    "    print(completed_model)\n"
   ]
  },
  {
   "cell_type": "code",
   "execution_count": 1,
   "metadata": {},
   "outputs": [
    {
     "name": "stdout",
     "output_type": "stream",
     "text": [
      "Printing model: dodecahedron\n",
      "Printing model: robot pendant\n",
      "Printing model: phone case\n",
      "\n",
      "The following models have been printed:\n",
      "dodecahedron\n",
      "robot pendant\n",
      "phone case\n"
     ]
    }
   ],
   "source": [
    "# 重新组织代码，可以编写两个函数，一个负责弹出，一个负责遍历\n",
    "# 弹出函数\n",
    "def print_models(unprinted_designs, completed_models):\n",
    "    # 模拟打印每个设计，直到没有未打印的设计为止\n",
    "    while unprinted_designs:\n",
    "        current_design = unprinted_designs.pop()\n",
    "        print(f\"Printing model: {current_design}\")\n",
    "        completed_models.append(current_design)\n",
    "\n",
    "\n",
    "# 遍历列表\n",
    "def show_completed_models(completed_models):\n",
    "    # 显示打印好的所有模型\n",
    "    print(\"\\nThe following models have been printed:\")\n",
    "    for completed_model in completed_models:\n",
    "        print(completed_model)\n",
    "\n",
    "\n",
    "# 开始调用这两个函数\n",
    "unprinted_designs = ['phone case', 'robot pendant', 'dodecahedron']\n",
    "completed_models = []\n",
    "\n",
    "print_models(unprinted_designs, completed_models)\n",
    "show_completed_models(completed_models)\n"
   ]
  },
  {
   "cell_type": "code",
   "execution_count": 3,
   "metadata": {},
   "outputs": [
    {
     "data": {
      "text/plain": [
       "' \\n现在有另外的情景：\\n你有一个未打印的设计列表，并编写了一个函数将这些设计移到打 印好的模型列表中。你可能会做出这样的决定：即便打印好了所有 设计，也要保留原来的未打印的设计列表，以供备案。但由于你将 所有的设计都移出了unprinted_designs ，这个列表变成了空 的，原来的列表没有了。为解决这个问题，可向函数传递列表的副\\n本而非原件。这样，函数所做的任何修改都只影响副本，而原件丝 毫不受影响。\\n '"
      ]
     },
     "execution_count": 3,
     "metadata": {},
     "output_type": "execute_result"
    }
   ],
   "source": [
    "# 禁止函数修改列表\n",
    "\"\"\" \n",
    "现在有另外的情景：\n",
    "你有一个未打印的设计列表，并编写了一个函数将这些设计移到打 印好的模型列表中。你可能会做出这样的决定：即便打印好了所有 设计，也要保留原来的未打印的设计列表，以供备案。但由于你将 所有的设计都移出了unprinted_designs ，这个列表变成了空 的，原来的列表没有了。为解决这个问题，可向函数传递列表的副\n",
    "本而非原件。这样，函数所做的任何修改都只影响副本，而原件丝毫不受影响。\n",
    " \"\"\"\n"
   ]
  },
  {
   "cell_type": "code",
   "execution_count": 4,
   "metadata": {},
   "outputs": [],
   "source": [
    "# 意思就是得整一份复制品，原来的不能用pop，而是让复制品用pop\n"
   ]
  },
  {
   "cell_type": "code",
   "execution_count": 5,
   "metadata": {},
   "outputs": [],
   "source": [
    "# 定义两个函数，一个是对副本使用pop，另一个是对已经完成的列表进行遍历\n"
   ]
  },
  {
   "cell_type": "code",
   "execution_count": 10,
   "metadata": {},
   "outputs": [
    {
     "name": "stdout",
     "output_type": "stream",
     "text": [
      "正在打印中：正十二边形\n",
      "正在打印中：机器人手臂\n",
      "正在打印中：手机壳子\n",
      "已经打印完成的模型：\n",
      "正十二边形\n",
      "机器人手臂\n",
      "手机壳子\n",
      "原来的模型：\n",
      "手机壳子\n",
      "机器人手臂\n",
      "正十二边形\n"
     ]
    }
   ],
   "source": [
    "# 第一个函数，将未打印的模型进行打印，但是不能把原来的模型给pop掉\n",
    "# 传入未打印的模型，和成品的列表\n",
    "\"\"\" \n",
    "使用切片表示法，为未打印的模型创建一个副本文件，将副本文件打印出来成品\n",
    "而原始模型仍然保留\n",
    " \"\"\"\n",
    "# 使用切片来复制模型\n",
    "def print_design(unprint_models,printed_designs):\n",
    "    replica_model = unprint_models[:]\n",
    "    while replica_model:\n",
    "        current_design = replica_model.pop()\n",
    "        print(f\"正在打印中：{current_design}\")\n",
    "        printed_designs.append(current_design)\n",
    "\n",
    "# 查看打印好的成品\n",
    "def complete_designs(printed_designs,unprint_models):\n",
    "    print(\"已经打印完成的模型：\")\n",
    "    for printed_design in printed_designs:\n",
    "        print(f\"{printed_design}\")\n",
    "\n",
    "# 查看原来的模型\n",
    "    print(\"原来的模型：\")\n",
    "    for unprint_model in unprint_models:\n",
    "        print(unprint_model)\n",
    "\n",
    "unprint_models = ['手机壳子','机器人手臂','正十二边形']\n",
    "printed_designs = []\n",
    "print_design(unprint_models,printed_designs)\n",
    "complete_designs(printed_designs,unprint_models)"
   ]
  },
  {
   "cell_type": "code",
   "execution_count": 13,
   "metadata": {},
   "outputs": [
    {
     "name": "stdout",
     "output_type": "stream",
     "text": [
      "列表的内容是：\n",
      "我\n",
      "你\n",
      "他\n",
      "正在发送列表信息：他\n",
      "正在发送列表信息：你\n",
      "正在发送列表信息：我\n",
      "列表的内容是：\n",
      "我\n",
      "你\n",
      "他\n",
      "列表的内容是：\n",
      "他\n",
      "你\n",
      "我\n"
     ]
    }
   ],
   "source": [
    "# 练习8-9\n",
    "# 练习8-10\n",
    "# 传递列表的消息\n",
    "def send_messages(toSendInfo,sent_messages):\n",
    "    # 使用切片复制一下原列表，然后用pop函数来进行转移\n",
    "    replica = toSendInfo[:]\n",
    "    while replica:\n",
    "        current_message = replica.pop()\n",
    "        print(f\"正在发送列表信息：{current_message}\")\n",
    "        sent_messages.append(current_message)\n",
    "\n",
    "# 遍历列表\n",
    "def show_list(to_handle_list):\n",
    "    print(\"列表的内容是：\")\n",
    "    for to_handle_listin in to_handle_list:\n",
    "        print(to_handle_listin)\n",
    "\n",
    "rawlist = ['我','你','他']\n",
    "newlist = []\n",
    "# 遍历列表 \n",
    "show_list(rawlist)\n",
    "# 转移列表\n",
    "send_messages(rawlist,newlist)\n",
    "# 最后再展示转移前后的列表\n",
    "show_list(rawlist)\n",
    "show_list(newlist)"
   ]
  }
 ],
 "metadata": {
  "interpreter": {
   "hash": "0a4596f6bf28f3bb4c51dd7abc582ccab9b24330e8a9dc4f63857311f67e8492"
  },
  "kernelspec": {
   "display_name": "Python 3.8.13 ('ubuntu2204VMenv')",
   "language": "python",
   "name": "python3"
  },
  "language_info": {
   "codemirror_mode": {
    "name": "ipython",
    "version": 3
   },
   "file_extension": ".py",
   "mimetype": "text/x-python",
   "name": "python",
   "nbconvert_exporter": "python",
   "pygments_lexer": "ipython3",
   "version": "3.8.13"
  },
  "orig_nbformat": 4
 },
 "nbformat": 4,
 "nbformat_minor": 2
}
