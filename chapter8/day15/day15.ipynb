{
 "cells": [
  {
   "cell_type": "code",
   "execution_count": 2,
   "metadata": {},
   "outputs": [
    {
     "name": "stdout",
     "output_type": "stream",
     "text": [
      "('pepperoni',)\n",
      "('mushrooms', 'green peppers', 'extra cheese')\n"
     ]
    },
    {
     "data": {
      "text/plain": [
       "' \\n形参名*toppings 中的星号让Python创建一个名为toppings 的空 元组，并将收到的所有值都封装到这个元组中。函数体内的函数调 用print() 通过生成输出，证明Python能够处理使用一个值来调用 函数的情形，也能处理使用三个值来调用函数的情形。它以类似的 方式处理不同的调用。\\n '"
      ]
     },
     "execution_count": 2,
     "metadata": {},
     "output_type": "execute_result"
    }
   ],
   "source": [
    "# 第十五天的学习，尽量把函数学完\n",
    "# 2022年5月9日\n",
    "# 传递任意数量的实参\n",
    "def make_pizza(*toppings):\n",
    "    \"\"\" 打印顾客点的所有配料 \"\"\"\n",
    "    print(toppings)\n",
    "\n",
    "make_pizza('pepperoni')\n",
    "make_pizza('mushrooms','green peppers','extra cheese')\n",
    "\n",
    "\"\"\" \n",
    "形参名*toppings 中的星号让Python创建一个名为toppings 的空 元组，并将收到的所有值都封装到这个元组中。函数体内的函数调 用print() 通过生成输出，证明Python能够处理使用一个值来调用 函数的情形，也能处理使用三个值来调用函数的情形。它以类似的 方式处理不同的调用。\n",
    " \"\"\""
   ]
  },
  {
   "cell_type": "code",
   "execution_count": 4,
   "metadata": {},
   "outputs": [
    {
     "name": "stdout",
     "output_type": "stream",
     "text": [
      "Making a pizza with the following toppings:\n",
      "- pepperoni\n",
      "Making a pizza with the following toppings:\n",
      "- mushrooms\n",
      "- green peppers\n",
      "- extra cheese\n"
     ]
    }
   ],
   "source": [
    "# 现在可以将函数调用print()替换成一个循环，遍历配料列表并对顾客点的披萨进行描述\n",
    "def make_pizza(*toppings):\n",
    "    \"\"\" 概述要制作的披萨 \"\"\"\n",
    "    print(\"Making a pizza with the following toppings:\")\n",
    "    for topping in toppings:\n",
    "        print(f\"- {topping}\")\n",
    "\n",
    "make_pizza('pepperoni')\n",
    "make_pizza('mushrooms','green peppers','extra cheese')\n",
    "# 相较于上一个输出示例，更加地规范化了"
   ]
  },
  {
   "cell_type": "code",
   "execution_count": 7,
   "metadata": {},
   "outputs": [
    {
     "name": "stdout",
     "output_type": "stream",
     "text": [
      "\n",
      "Making a 16-inch pizza with the following toppings:\n",
      "- pepperoni\n",
      "\n",
      "Making a 12-inch pizza with the following toppings:\n",
      "- mushrooms\n",
      "- green peppers\n",
      "- extra cheese\n"
     ]
    }
   ],
   "source": [
    "# 结合使用位置实参和任意数量实参\n",
    "\"\"\" \n",
    "如果要让函数接收不同类型的实参，必须在函数定义中将接纳任意数量实参的形参放到最后！！！\n",
    "一定要放到最后!!!!\n",
    " \"\"\"\n",
    "def make_pizza(size,*toppings):\n",
    "    \"\"\" 概述要制作的批塞 \"\"\"\n",
    "    print(f\"\\nMaking a {size}-inch pizza with the following toppings:\")\n",
    "    for topping in toppings:\n",
    "        print(f\"- {topping}\")\n",
    "\n",
    "make_pizza(16,'pepperoni')\n",
    "make_pizza(12,'mushrooms','green peppers','extra cheese')"
   ]
  },
  {
   "cell_type": "code",
   "execution_count": 11,
   "metadata": {},
   "outputs": [
    {
     "name": "stdout",
     "output_type": "stream",
     "text": [
      "{'location': 'princeton', 'field': 'physics', 'first_name': 'albert', 'last_name': 'einstein'}\n"
     ]
    }
   ],
   "source": [
    "# 使用任意数量的关键字实参\n",
    "\"\"\" \n",
    "有时候，需要接受任意数量的实参，但预先不知道传递给函数的会 是什么样的信息。在这种情况下，可将函数编写成能够接受任意数 量的键值对——调用语句提供了多少就接受多少。\n",
    " \"\"\"\n",
    "def build_profile(first,last,**user_info):\n",
    "    \"\"\" 创建一个字典，其中包含我们知道的有关用户的一切 \"\"\"\n",
    "    user_info['first_name'] = first\n",
    "    user_info['last_name'] = last\n",
    "    return user_info\n",
    "\n",
    "# 注意，这里是不知道数量的实参，上面例子说的是形参\n",
    "user_profile = build_profile('albert','einstein',location='princeton',field='physics')\n",
    "print(user_profile)"
   ]
  },
  {
   "cell_type": "code",
   "execution_count": 16,
   "metadata": {},
   "outputs": [
    {
     "name": "stdout",
     "output_type": "stream",
     "text": [
      "你好，你点的是鳕鱼三明治，主要的食材包括：\n",
      "- 腐乳\n",
      "- 老干妈\n",
      "- 东北大蒜\n",
      "- 山东大姜\n",
      "- 鳕鱼风味魔芋丝\n",
      "欢迎下次点餐！\n",
      "你好，你点的是陕西特色三明治，主要的食材包括：\n",
      "- 油泼辣子\n",
      "- 西北特色臊子\n",
      "- 爆炒牛肉\n",
      "欢迎下次点餐！\n"
     ]
    }
   ],
   "source": [
    "# 练习8-12\n",
    "# 编写函数，对顾客点的三明治中的食材进行概述\n",
    "def print_ingredients_in_sandwich(type,*toppings):\n",
    "    print(f\"你好，你点的是{type}三明治，主要的食材包括：\")\n",
    "    for topping in toppings:\n",
    "        print(f\"- {topping}\")\n",
    "    print(\"欢迎下次点餐！\")\n",
    "\n",
    "print_ingredients_in_sandwich('鳕鱼','腐乳','老干妈','东北大蒜','山东大姜','鳕鱼风味魔芋丝')\n",
    "print_ingredients_in_sandwich('陕西特色','油泼辣子','西北特色臊子','爆炒牛肉')"
   ]
  },
  {
   "cell_type": "code",
   "execution_count": 28,
   "metadata": {},
   "outputs": [
    {
     "name": "stdout",
     "output_type": "stream",
     "text": [
      "你好，曹现房，社会需要你！\n",
      "对不起，您的院校不符合我们的要求！再见\n",
      "{'gradual_school': '家里蹲大学', 'first_name': '现房', 'last_name': '曹'}\n",
      "你好，李小明，社会需要你！\n",
      "{'gradual_school': '本科带学', 'first_name': '小明', 'last_name': '李'}\n"
     ]
    }
   ],
   "source": [
    "# 用户简介，为函数传入实参\n",
    "# 函数内当然要创建一个字典\n",
    "def build_profile(first,last,**user_info):\n",
    "    # 得创建一个字典\n",
    "    user_info['first_name'] = first\n",
    "    user_info['last_name'] = last\n",
    "    print(f\"你好，{user_info['last_name']}{user_info['first_name']}，社会需要你！\")\n",
    "    if user_info['gradual_school'] == '家里蹲大学':\n",
    "        print(\"对不起，您的院校不符合我们的要求！再见\")\n",
    "    return user_info\n",
    "\n",
    "user_profile = build_profile('现房','曹',gradual_school = '家里蹲大学')\n",
    "print(user_profile)\n",
    "user_profile2 = build_profile('小明','李',gradual_school = '本科带学')\n",
    "print(user_profile2)"
   ]
  },
  {
   "cell_type": "code",
   "execution_count": 29,
   "metadata": {},
   "outputs": [
    {
     "data": {
      "text/plain": [
       "' \\n到这里，差不多就整明白了，传入实参和传入形参的区别了\\n- 对于传入纯形参的话，就是函数内带一个*，函数内如果还有实参的话，那么这个带*的关键字，一定要放到最后一个\\n- 对于传入纯实参的话，就是函数内带两个**，函数内如果还有形参的话，那么带**的关键字，也是必须要放到最后一个的\\n- 然后就是，如何区分*和**关键字的区别，一句话，*传列表，**传字典\\n- 其他的就是多练习了\\n '"
      ]
     },
     "execution_count": 29,
     "metadata": {},
     "output_type": "execute_result"
    }
   ],
   "source": [
    "\"\"\" \n",
    "到这里，差不多就整明白了，传入实参和传入形参的区别了\n",
    "- 对于传入纯形参的话，就是函数内带一个*，函数内如果还有实参的话，那么这个带*的关键字，一定要放到最后一个\n",
    "- 对于传入纯实参的话，就是函数内带两个**，函数内如果还有形参的话，那么带**的关键字，也是必须要放到最后一个的\n",
    "- 然后就是，如何区分*和**关键字的区别，一句话，*传列表，**传字典\n",
    "- 其他的就是多练习了\n",
    " \"\"\""
   ]
  },
  {
   "cell_type": "code",
   "execution_count": 33,
   "metadata": {},
   "outputs": [
    {
     "name": "stdout",
     "output_type": "stream",
     "text": [
      "{'color': 'blue', 'tow_package': True, 'Manufacturer': 'subaru', 'CarType': 'outback'}\n",
      "{'color': 'pink', 'tow_package': True, 'Manufacturer': 'wuling', 'CarType': 'scooter'}\n"
     ]
    }
   ],
   "source": [
    "# 练习8-14\n",
    "def make_car(manufacturer,type,**carinfo):\n",
    "    carinfo['Manufacturer'] = manufacturer\n",
    "    carinfo['CarType'] = type\n",
    "    # 在return前，还是可以做一些判断的\n",
    "    return carinfo\n",
    "car_profile1 = make_car('subaru','outback',color='blue',tow_package=True)\n",
    "print(car_profile1)\n",
    "car_profile2 = make_car('wuling','scooter',color='pink',tow_package=True)\n",
    "print(car_profile2)\n"
   ]
  },
  {
   "cell_type": "code",
   "execution_count": 15,
   "metadata": {},
   "outputs": [],
   "source": [
    "# 导入整个模块\n",
    "def make_pizza(size,*toppings):\n",
    "    \"\"\" 概述要制作的披萨 \"\"\"\n",
    "    print(f\"\\nMaking a {size}-inch pizza with the following toppings:\")\n",
    "    for topping in toppings:\n",
    "        print(f\"- {topping}\")"
   ]
  }
 ],
 "metadata": {
  "interpreter": {
   "hash": "0a4596f6bf28f3bb4c51dd7abc582ccab9b24330e8a9dc4f63857311f67e8492"
  },
  "kernelspec": {
   "display_name": "Python 3.8.13 ('ubuntu2204VMenv')",
   "language": "python",
   "name": "python3"
  },
  "language_info": {
   "codemirror_mode": {
    "name": "ipython",
    "version": 3
   },
   "file_extension": ".py",
   "mimetype": "text/x-python",
   "name": "python",
   "nbconvert_exporter": "python",
   "pygments_lexer": "ipython3",
   "version": "3.8.13"
  },
  "orig_nbformat": 4
 },
 "nbformat": 4,
 "nbformat_minor": 2
}
