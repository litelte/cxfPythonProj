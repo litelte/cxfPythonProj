{
 "cells": [
  {
   "cell_type": "code",
   "execution_count": 25,
   "metadata": {},
   "outputs": [
    {
     "data": {
      "text/plain": [
       "'\\n列表 由一系列按特定顺序排列的元素组成。\\n你可以创建包含字母表中 所有字母、数字0～9或所有家庭成员姓名的列表；\\n也可以将任何东西加 入列表中，其中的元素之间可以没有任何关系。\\n列表通常包含多个元 素，因此给列表指定一个表示复数的名称（如letters 、digits 或names ）是个不错的主意。\\n'"
      ]
     },
     "execution_count": 25,
     "metadata": {},
     "output_type": "execute_result"
    }
   ],
   "source": [
    "# 开始学习列表\n",
    "\"\"\"\n",
    "列表 由一系列按特定顺序排列的元素组成。\n",
    "你可以创建包含字母表中 所有字母、数字0～9或所有家庭成员姓名的列表；\n",
    "也可以将任何东西加 入列表中，其中的元素之间可以没有任何关系。\n",
    "列表通常包含多个元 素，因此给列表指定一个表示复数的名称（如letters 、digits 或names ）是个不错的主意。\n",
    "\"\"\"\n",
    "# 在Python中，用方括号（[] ）表示列表，并用逗号分隔其中的元素。"
   ]
  },
  {
   "cell_type": "code",
   "execution_count": 26,
   "metadata": {},
   "outputs": [
    {
     "name": "stdout",
     "output_type": "stream",
     "text": [
      "['trek', 'cannondale', 'redline', 'specialized']\n"
     ]
    }
   ],
   "source": [
    "bicycles=['trek','cannondale','redline','specialized']\n",
    "print(bicycles)"
   ]
  },
  {
   "cell_type": "code",
   "execution_count": 27,
   "metadata": {},
   "outputs": [
    {
     "name": "stdout",
     "output_type": "stream",
     "text": [
      "trek\n"
     ]
    }
   ],
   "source": [
    "# 访问列表元素\n",
    "# 列表是有序集合，要访问列表中的任意元素，只需要将该元素的位置（索引）告诉Python即可\n",
    "bicycles=['trek','cannondale','redline','specialized']\n",
    "print(bicycles[0])\n",
    "# 请求获取列表元素时，Python只 返回该元素，而不包括方括号"
   ]
  },
  {
   "cell_type": "code",
   "execution_count": 28,
   "metadata": {},
   "outputs": [
    {
     "name": "stdout",
     "output_type": "stream",
     "text": [
      "Trek\n"
     ]
    }
   ],
   "source": [
    "# 还可以让输出更简洁\n",
    "bicycles=['trek','cannondale','redline','specialized']\n",
    "print(bicycles[0].title())\n",
    "# 使用title方法，是让结果更标题化"
   ]
  },
  {
   "cell_type": "code",
   "execution_count": 29,
   "metadata": {},
   "outputs": [
    {
     "name": "stdout",
     "output_type": "stream",
     "text": [
      "Cannondale\n",
      "Specialized\n"
     ]
    }
   ],
   "source": [
    "# 列表的索引序号是从0开始的，而不是1开始的\n",
    "bicycles=['trek','cannondale','redline','specialized']\n",
    "print(bicycles[1].title())\n",
    "print(bicycles[3].title())"
   ]
  },
  {
   "cell_type": "code",
   "execution_count": 30,
   "metadata": {},
   "outputs": [
    {
     "name": "stdout",
     "output_type": "stream",
     "text": [
      "Specialized\n"
     ]
    }
   ],
   "source": [
    "# Python为最后一个元素的访问提供了特殊语法，将索引定为-1\n",
    "bicycles=['trek','cannondale','redline','specialized']\n",
    "print(bicycles[-1].title())\n",
    "# 以此类推，-2就是倒数第二个，-3就是倒数第三个"
   ]
  },
  {
   "cell_type": "code",
   "execution_count": 31,
   "metadata": {},
   "outputs": [
    {
     "name": "stdout",
     "output_type": "stream",
     "text": [
      "My first bicycle was a Trek.\n"
     ]
    }
   ],
   "source": [
    "# 使用列表中的各个值\n",
    "bicycles=['trek','cannondale','redline','specialized']\n",
    "message = f\"My first bicycle was a {bicycles[0].title()}.\"\n",
    "print(message)"
   ]
  },
  {
   "cell_type": "code",
   "execution_count": 32,
   "metadata": {},
   "outputs": [
    {
     "name": "stdout",
     "output_type": "stream",
     "text": [
      "\t\n",
      " Zhang San \t\n",
      " Li Si \t\n",
      " Wang Ma Zi \t\n",
      " Xiao Ming \t\n",
      " Xiao Lan\n"
     ]
    }
   ],
   "source": [
    "# 练习3-1\n",
    "names = ['zhang san','li si','wang ma zi','xiao ming','xiao lan']\n",
    "print(\"\\t\\n\",names[0].title(),\"\\t\\n\",names[1].title(),\"\\t\\n\",names[2].title(),\"\\t\\n\",names[3].title(),\"\\t\\n\",names[4].title())"
   ]
  },
  {
   "cell_type": "code",
   "execution_count": 33,
   "metadata": {},
   "outputs": [
    {
     "name": "stdout",
     "output_type": "stream",
     "text": [
      "大家好，我是litelte的朋友，我的名字叫：Zhang San\n",
      "大家好，我是litelte的朋友，我的名字叫：Li Si\n",
      "大家好，我是litelte的朋友，我的名字叫：Wang Ma Zi\n",
      "大家好，我是litelte的朋友，我的名字叫：Xiao Ming\n",
      "大家好，我是litelte的朋友，我的名字叫：Xiao Lan\n"
     ]
    }
   ],
   "source": [
    "# 练习3-2\n",
    "names = ['zhang san','li si','wang ma zi','xiao ming','xiao lan']\n",
    "print(f\"大家好，我是litelte的朋友，我的名字叫：{names[0].title()}\")\n",
    "print(f\"大家好，我是litelte的朋友，我的名字叫：{names[1].title()}\")\n",
    "print(f\"大家好，我是litelte的朋友，我的名字叫：{names[2].title()}\")\n",
    "print(f\"大家好，我是litelte的朋友，我的名字叫：{names[3].title()}\")\n",
    "print(f\"大家好，我是litelte的朋友，我的名字叫：{names[4].title()}\")"
   ]
  },
  {
   "cell_type": "code",
   "execution_count": 34,
   "metadata": {},
   "outputs": [
    {
     "name": "stdout",
     "output_type": "stream",
     "text": [
      "I'm Zhang San.I would like to own a Honda Motorcycle.\n",
      "I'm Li Si.I would like to own a Mobike Bicycle.\n",
      "I'm Wang Ma Zi.I would like to own a Meituan Etron Bicycle.\n",
      "I'm Xiao Ming.I would like to own a Tesla Electric Cat.\n"
     ]
    }
   ],
   "source": [
    "# 练习3-3\n",
    "trafficChoice = ['honda motorcycle','mobike bicycle','meituan etron bicycle','tesla electric cat']\n",
    "names = ['zhang san','li si','wang ma zi','xiao ming']\n",
    "print(f\"I'm {names[0].title()}.I would like to own a {trafficChoice[0].title()}.\")\n",
    "print(f\"I'm {names[1].title()}.I would like to own a {trafficChoice[1].title()}.\")\n",
    "print(f\"I'm {names[2].title()}.I would like to own a {trafficChoice[2].title()}.\")\n",
    "print(f\"I'm {names[3].title()}.I would like to own a {trafficChoice[3].title()}.\")"
   ]
  },
  {
   "cell_type": "code",
   "execution_count": 35,
   "metadata": {},
   "outputs": [
    {
     "name": "stdout",
     "output_type": "stream",
     "text": [
      "['honda', 'yamaha', 'suzuki']\n",
      "['ducati', 'yamaha', 'suzuki']\n"
     ]
    }
   ],
   "source": [
    "# 修改、添加和删除元素\n",
    "motorcycles = ['honda','yamaha','suzuki']\n",
    "print(motorcycles)\n",
    "# 修改元素\n",
    "motorcycles[0] = 'ducati'\n",
    "print(motorcycles)"
   ]
  },
  {
   "cell_type": "code",
   "execution_count": 36,
   "metadata": {},
   "outputs": [
    {
     "name": "stdout",
     "output_type": "stream",
     "text": [
      "['honda', 'yamaha', 'suzuki']\n",
      "['honda', 'yamaha', 'suzuki', 'ducati']\n"
     ]
    }
   ],
   "source": [
    "# 添加元素\n",
    "motorcycles = ['honda', 'yamaha', 'suzuki']\n",
    "print(motorcycles)\n",
    "# 开始添加\n",
    "motorcycles.append('ducati')\n",
    "print(motorcycles)\n",
    "# 不过这样的弊端是，只能将元素添加到末尾"
   ]
  },
  {
   "cell_type": "code",
   "execution_count": 37,
   "metadata": {},
   "outputs": [
    {
     "name": "stdout",
     "output_type": "stream",
     "text": [
      "['honda', 'yamaha', 'suzuki']\n"
     ]
    }
   ],
   "source": [
    "# 创建一个空的列表，然后动态添加元素\n",
    "motorcycles = []\n",
    "motorcycles.append('honda')\n",
    "motorcycles.append('yamaha')\n",
    "motorcycles.append('suzuki')\n",
    "print(motorcycles)"
   ]
  },
  {
   "cell_type": "code",
   "execution_count": 38,
   "metadata": {},
   "outputs": [
    {
     "name": "stdout",
     "output_type": "stream",
     "text": [
      "['ducati', 'honda', 'yamaha', 'suzuki']\n"
     ]
    }
   ],
   "source": [
    "# 在列表中插入元素\n",
    "# 使用insert()方法\n",
    "motorcycles = ['honda','yamaha','suzuki']\n",
    "# 在第0个位置插入ducati元素\n",
    "motorcycles.insert(0,'ducati')\n",
    "print(motorcycles)"
   ]
  },
  {
   "cell_type": "code",
   "execution_count": 39,
   "metadata": {},
   "outputs": [
    {
     "name": "stdout",
     "output_type": "stream",
     "text": [
      "['honda', 'yamaha', 'suzuki']\n",
      "['yamaha', 'suzuki']\n"
     ]
    }
   ],
   "source": [
    "# 在列表中删除元素\n",
    "motorcycles = ['honda','yamaha','suzuki']\n",
    "print(motorcycles)\n",
    "# 直接使用del关键字\n",
    "del motorcycles[0]\n",
    "print(motorcycles)"
   ]
  },
  {
   "cell_type": "code",
   "execution_count": 40,
   "metadata": {},
   "outputs": [
    {
     "name": "stdout",
     "output_type": "stream",
     "text": [
      "['honda', 'yamaha', 'suzuki']\n",
      "['honda', 'yamaha']\n",
      "suzuki\n"
     ]
    }
   ],
   "source": [
    "# 使用pop()删除元素\n",
    "motorcycles = ['honda','yamaha','suzuki']\n",
    "print(motorcycles)\n",
    "# 把最后一个元素弹出来，虽然被删除了，但是还可访问\n",
    "popped_motorcycle = motorcycles.pop()\n",
    "print(motorcycles)\n",
    "print(popped_motorcycle)"
   ]
  },
  {
   "cell_type": "code",
   "execution_count": 41,
   "metadata": {},
   "outputs": [
    {
     "name": "stdout",
     "output_type": "stream",
     "text": [
      "The last motorcycle I owned was a Suzuki\n"
     ]
    }
   ],
   "source": [
    "# 应用pop()方法举例\n",
    "motorcycles = ['honda','yamaha','suzuki']\n",
    "last_owned = motorcycles.pop()\n",
    "print(f\"The last motorcycle I owned was a {last_owned.title()}\")"
   ]
  },
  {
   "cell_type": "code",
   "execution_count": 42,
   "metadata": {},
   "outputs": [
    {
     "name": "stdout",
     "output_type": "stream",
     "text": [
      "The first motorcycle I owned was a Honda\n"
     ]
    }
   ],
   "source": [
    "# 弹出列表中任何位置处的元素\n",
    "# 还是使用pop()，只需要在括号里指定删除元素的索引即可\n",
    "motorcycles = ['honda','yamaha','suzuki']\n",
    "first_owned = motorcycles.pop(0)\n",
    "print(f\"The first motorcycle I owned was a {first_owned.title()}\")\n",
    "# 还需要注意的是，使用pop()弹出元素之后，该元素就不在该列表中了\n",
    "# 对于用pop()还是用del\n",
    "# 如果你要从列表中删除一个元素，且不再以任何方式使用它，就使用del 语句；\n",
    "# 如果你要在删除元素后还能继续使用它， 就使用方法pop() 。"
   ]
  },
  {
   "cell_type": "code",
   "execution_count": 43,
   "metadata": {},
   "outputs": [
    {
     "name": "stdout",
     "output_type": "stream",
     "text": [
      "['honda', 'yamaha', 'suzuki', 'ducati']\n",
      "['honda', 'yamaha', 'suzuki']\n"
     ]
    }
   ],
   "source": [
    "# 根据值来删除元素\n",
    "# 使用remove()\n",
    "motorcycles = ['honda','yamaha','suzuki','ducati']\n",
    "print(motorcycles)\n",
    "# 开始根据值来删除\n",
    "motorcycles.remove('ducati')\n",
    "print(motorcycles)"
   ]
  },
  {
   "cell_type": "code",
   "execution_count": 52,
   "metadata": {},
   "outputs": [
    {
     "name": "stdout",
     "output_type": "stream",
     "text": [
      "['honda', 'yamaha', 'suzuki', 'ducati']\n"
     ]
    }
   ],
   "source": [
    "# 使用remove删除元素时，也可以接着使用它的值\n",
    "motorcycles = ['honda','yamaha','suzuki','ducati']\n",
    "print(motorcycles)\n",
    "\n",
    "# 使用remove() 从列表中删除元素时，也可接着使用它的值。"
   ]
  },
  {
   "cell_type": "code",
   "execution_count": 53,
   "metadata": {},
   "outputs": [
    {
     "name": "stdout",
     "output_type": "stream",
     "text": [
      "['honda', 'yamaha', 'suzuki']\n",
      "\n",
      "A Ducati is too expensive for me.\n"
     ]
    }
   ],
   "source": [
    "# 下面 删除值'ducati' 并打印一条消息，指出要将其从列表中删除的原因：\n",
    "too_expensive = 'ducati'\n",
    "motorcycles.remove(too_expensive)\n",
    "print(motorcycles)\n",
    "print(f\"\\nA {too_expensive.title()} is too expensive for me.\")"
   ]
  },
  {
   "cell_type": "code",
   "execution_count": 54,
   "metadata": {},
   "outputs": [],
   "source": [
    "# 需要注意的是：方法remove() 只删除第一个指定的值。\n",
    "# 如果要删除的值可能在列表中出现多次，就需要使用循环来确保将每个值都删除。"
   ]
  },
  {
   "cell_type": "code",
   "execution_count": 4,
   "metadata": {},
   "outputs": [
    {
     "name": "stdout",
     "output_type": "stream",
     "text": [
      "Elon Mask 您有时间吗？可否来吃个饭吗？\n",
      "Tim Cook 您有时间吗？可否来吃个饭吗？\n",
      "Steve Jobs 您有时间吗？可否来吃个饭吗？\n",
      "Elon Mask要去收购Twitter，来不了了\n",
      "下面开始重新邀请：\n",
      "Taylor Alison Swift 您有时间吗？可否来吃个饭吗？\n",
      "Tim Cook 您有时间吗？可否来吃个饭吗？\n",
      "Steve Jobs 您有时间吗？可否来吃个饭吗？\n",
      "我们找到了一个更大的桌子，可以邀请更多的人来啦\n",
      "Cheng Long 您有时间吗？可否来吃个饭？\n",
      "Taylor Alison Swift 您有时间吗？可否来吃个饭？\n",
      "Zhong Nan Shan 您有时间吗？可否来吃个饭？\n",
      "Tim Cook 您有时间吗？可否来吃个饭？\n",
      "Steve Jobs 您有时间吗？可否来吃个饭？\n",
      "Zhang Wen Hong 您有时间吗？可否来吃个饭？\n",
      "很抱歉，各位嘉宾，桌子没法及时送到，我们只能一次只能邀请两位嘉宾\n",
      "很抱歉， zhang wen hong 因为人数限制，没法邀请您继续就餐了，我们下次再回\n",
      "很抱歉， steve jobs 因为人数限制，没法邀请您继续就餐了，我们下次再回\n",
      "很抱歉， tim cook 因为人数限制，没法邀请您继续就餐了，我们下次再回\n",
      "很抱歉， zhong nan shan 因为人数限制，没法邀请您继续就餐了，我们下次再回\n"
     ]
    }
   ],
   "source": [
    "# 练习3-4\n",
    "invited_Person = []\n",
    "invited_Person.append('elon mask')\n",
    "invited_Person.append('tim cook')\n",
    "invited_Person.append('steve jobs')\n",
    "print(invited_Person[0].title(), \"您有时间吗？可否来吃个饭吗？\")\n",
    "print(invited_Person[1].title(), \"您有时间吗？可否来吃个饭吗？\")\n",
    "print(invited_Person[2].title(), \"您有时间吗？可否来吃个饭吗？\")\n",
    "# invited_Person\n",
    "\n",
    "# 练习3-5\n",
    "print(f\"{invited_Person[0].title()}要去收购Twitter，来不了了\")\n",
    "invited_Person[0] = 'taylor alison swift'\n",
    "print(\"下面开始重新邀请：\")\n",
    "print(invited_Person[0].title(), \"您有时间吗？可否来吃个饭吗？\")\n",
    "print(invited_Person[1].title(), \"您有时间吗？可否来吃个饭吗？\")\n",
    "print(invited_Person[2].title(), \"您有时间吗？可否来吃个饭吗？\")\n",
    "\n",
    "# 练习3-6\n",
    "print('我们找到了一个更大的桌子，可以邀请更多的人来啦')\n",
    "# 开头添加一个人\n",
    "invited_Person.insert(0, 'cheng long')\n",
    "invited_Person.insert(2, 'zhong nan shan')\n",
    "invited_Person.append('zhang wen hong')\n",
    "for i in range(0, 6):\n",
    "    print(invited_Person[i].title(), \"您有时间吗？可否来吃个饭？\")\n",
    "\n",
    "# 得知新购买的餐桌无法及时送达，只能邀请两个嘉宾\n",
    "print('很抱歉，各位嘉宾，桌子没法及时送到，我们只能一次只能邀请两位嘉宾')\n",
    "# invited_Person\n",
    "# 弹出邀请列表中的嘉宾，只剩下两个\n",
    "for i in range(0,4):\n",
    "    # if(i > 2):\n",
    "    cancel_Person = invited_Person.pop()\n",
    "    print(\"很抱歉，\", cancel_Person, \"因为人数限制，没法邀请您继续就餐了，我们下次再回\")"
   ]
  },
  {
   "cell_type": "code",
   "execution_count": 5,
   "metadata": {},
   "outputs": [
    {
     "name": "stdout",
     "output_type": "stream",
     "text": [
      "Hello! Cheng Long ,恭喜你在邀请人之列！\n",
      "Hello! Taylor Alison Swift ,恭喜你在邀请人之列！\n",
      "宴会已经结束，请各位有序退场\n"
     ]
    },
    {
     "data": {
      "text/plain": [
       "[]"
      ]
     },
     "execution_count": 5,
     "metadata": {},
     "output_type": "execute_result"
    }
   ],
   "source": [
    "final_Person = invited_Person\n",
    "final_Person\n",
    "for i in range(0,2):\n",
    "    print(\"Hello!\",final_Person[i].title(),\",恭喜你在邀请人之列！\")\n",
    "\n",
    "# 最后把这两位嘉宾从名单中删除\n",
    "print('宴会已经结束，请各位有序退场')\n",
    "del final_Person[1]\n",
    "del final_Person[0]\n",
    "final_Person"
   ]
  }
 ],
 "metadata": {
  "interpreter": {
   "hash": "2a1c5134f09a4e3c2c7847f64b09d100d113420894679a48e1947bfe27b2d3de"
  },
  "kernelspec": {
   "display_name": "Python 3.8.13 ('devenv')",
   "language": "python",
   "name": "python3"
  },
  "language_info": {
   "codemirror_mode": {
    "name": "ipython",
    "version": 3
   },
   "file_extension": ".py",
   "mimetype": "text/x-python",
   "name": "python",
   "nbconvert_exporter": "python",
   "pygments_lexer": "ipython3",
   "version": "3.8.13"
  },
  "orig_nbformat": 4
 },
 "nbformat": 4,
 "nbformat_minor": 2
}
