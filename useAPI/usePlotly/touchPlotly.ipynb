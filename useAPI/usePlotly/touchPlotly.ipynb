{
 "cells": [
  {
   "cell_type": "code",
   "execution_count": 2,
   "metadata": {},
   "outputs": [
    {
     "name": "stdout",
     "output_type": "stream",
     "text": [
      "Status code: 200\n"
     ]
    },
    {
     "data": {
      "text/plain": [
       "'python_repos.html'"
      ]
     },
     "execution_count": 2,
     "metadata": {},
     "output_type": "execute_result"
    }
   ],
   "source": [
    "import sys\n",
    "\n",
    "import requests\n",
    "from plotly import offline\n",
    "from plotly.graph_objs import bar\n",
    "\n",
    "sys.path.append('/home/ubuntu/Code/pythonWebProj/useAPI/useWebAPI')\n",
    "import implementAPI as useapi\n",
    "\n",
    "# 执行API调用并存储响应，这些都已经使用导入的包useWebAPI.implementAPI中的方法来实现\n",
    "\n",
    "r = useapi.implementAPIandStore()\n",
    "print(f\"Status code: {r.status_code}\")\n",
    "\n",
    "# 处理结果\n",
    "response_dict = r.json()\n",
    "repo_dicts = response_dict['items']\n",
    "repo_names,stars = [],[]\n",
    "for repo_dict in repo_dicts:\n",
    "    repo_names.append(repo_dict['name'])\n",
    "    stars.append(repo_dict['stargazers_count'])\n",
    "\n",
    "# 可视化\n",
    "data = [\n",
    "    {\n",
    "        'type':'bar',\n",
    "        'x':repo_names,\n",
    "        'y':stars,\n",
    "    }\n",
    "]\n",
    "my_layout = {\n",
    "    'title':'Github上最受欢迎的Python项目',\n",
    "    'xaxis':{'title':'Repository'},\n",
    "    'yaxis':{'title':'Stars'},\n",
    "}\n",
    "fig = {'data':data,'layout':my_layout}\n",
    "offline.plot(fig,filename='python_repos.html')"
   ]
  },
  {
   "cell_type": "code",
   "execution_count": 2,
   "metadata": {},
   "outputs": [
    {
     "data": {
      "text/plain": [
       "'python_reposV1.html'"
      ]
     },
     "execution_count": 2,
     "metadata": {},
     "output_type": "execute_result"
    }
   ],
   "source": [
    "# 改进Plotly图表\n",
    "import sys\n",
    "\n",
    "sys.path.append(\"/home/ubuntu/Code/pythonWebProj/useAPI/useWebAPI\")\n",
    "import implementAPI as useapi\n",
    "from plotly import offline\n",
    "from plotly.graph_objs import bar\n",
    "\n",
    "r = useapi.implementAPIandStore()\n",
    "response_dict = r.json()\n",
    "repo_dicts = response_dict[\"items\"]\n",
    "repo_names, stars = [], []\n",
    "for repo_dict in repo_dicts:\n",
    "    repo_names.append(repo_dict[\"name\"])\n",
    "    stars.append(repo_dict[\"stargazers_count\"])\n",
    "\n",
    "# 可视化\n",
    "data = [\n",
    "    {\n",
    "        \"type\": \"bar\",\n",
    "        \"x\": repo_names,\n",
    "        \"y\": stars,\n",
    "        # 给条形指定了颜色和边框\n",
    "        \"marker\": {\n",
    "            \"color\": \"rgb(60,100,150)\",\n",
    "            \"line\": {\"width\": 1.5, \"color\": \"rgb(25,25,25)\"},\n",
    "        },\n",
    "        \"opacity\": 0.6,\n",
    "    }\n",
    "]\n",
    "my_layout = {\n",
    "    # 下来修改layout\n",
    "    \"title\": \"Github上最受欢迎的Python项目\",\n",
    "    \"titlefont\": {\"size\": 28},\n",
    "    \"xaxis\": {\n",
    "        \"title\": \"Repository\",\n",
    "        \"titlefont\": {\"size\": 24},\n",
    "        \"tickfont\": {\"size\": 14},\n",
    "    },\n",
    "    \"yaxis\": {\"title\": \"Stars\", \"titlefont\": {\"size\": 24}, \"tickfont\": {\"size\": 14}},\n",
    "}\n",
    "fig = {\"data\": data, \"layout\": my_layout}\n",
    "offline.plot(fig, filename=\"python_reposV1.html\")"
   ]
  },
  {
   "cell_type": "code",
   "execution_count": 1,
   "metadata": {},
   "outputs": [
    {
     "data": {
      "text/plain": [
       "'python_reposV2.html'"
      ]
     },
     "execution_count": 1,
     "metadata": {},
     "output_type": "execute_result"
    }
   ],
   "source": [
    "import sys\n",
    "\n",
    "sys.path.append(\"/home/ubuntu/Code/pythonWebProj/useAPI/useWebAPI\")\n",
    "import implementAPI as useapi\n",
    "from plotly import offline\n",
    "from plotly.graph_objs import bar\n",
    "\n",
    "r = useapi.implementAPIandStore()\n",
    "response_dict = r.json()\n",
    "repo_dicts = response_dict[\"items\"]\n",
    "repo_names, stars,labels=[], [], []\n",
    "for repo_dict in repo_dicts:\n",
    "    repo_names.append(repo_dict[\"name\"])\n",
    "    stars.append(repo_dict[\"stargazers_count\"])\n",
    "\n",
    "    owner = repo_dict['owner']['login']\n",
    "    description = repo_dict['description']\n",
    "    label = f\"{owner}<br />{description}\"\n",
    "    labels.append(label)\n",
    "\n",
    "# 可视化\n",
    "data = [\n",
    "    {\n",
    "        \"type\": \"bar\",\n",
    "        \"x\": repo_names,\n",
    "        \"y\": stars,\n",
    "        'hovertext': labels,\n",
    "        # 给条形指定了颜色和边框\n",
    "        \"marker\": {\n",
    "            \"color\": \"rgb(60,100,150)\",\n",
    "            \"line\": {\"width\": 1.5, \"color\": \"rgb(25,25,25)\"},\n",
    "        },\n",
    "        \"opacity\": 0.6,\n",
    "    }\n",
    "]\n",
    "my_layout = {\n",
    "    # 下来修改layout\n",
    "    \"title\": \"Github上最受欢迎的Python项目\",\n",
    "    \"titlefont\": {\"size\": 28},\n",
    "    \"xaxis\": {\n",
    "        \"title\": \"Repository\",\n",
    "        \"titlefont\": {\"size\": 24},\n",
    "        \"tickfont\": {\"size\": 14},\n",
    "    },\n",
    "    \"yaxis\": {\"title\": \"Stars\", \"titlefont\": {\"size\": 24}, \"tickfont\": {\"size\": 14}},\n",
    "}\n",
    "fig = {\"data\": data, \"layout\": my_layout}\n",
    "offline.plot(fig, filename=\"python_reposV2.html\")\n",
    "\n",
    "# 柱状图内，又多了一些信息"
   ]
  },
  {
   "cell_type": "code",
   "execution_count": 1,
   "metadata": {},
   "outputs": [
    {
     "data": {
      "text/plain": [
       "'python_reposV3.html'"
      ]
     },
     "execution_count": 1,
     "metadata": {},
     "output_type": "execute_result"
    }
   ],
   "source": [
    "# 在图表中添加可单机的链接\n",
    "import sys\n",
    "\n",
    "sys.path.append(\"/home/ubuntu/Code/pythonWebProj/useAPI/useWebAPI\")\n",
    "import implementAPI as useapi\n",
    "from plotly import offline\n",
    "from plotly.graph_objs import bar\n",
    "\n",
    "r = useapi.implementAPIandStore()\n",
    "response_dict = r.json()\n",
    "repo_dicts = response_dict[\"items\"]\n",
    "# repo_names, stars,labels=[], [], []\n",
    "repo_links,stars,labels = [],[],[]\n",
    "for repo_dict in repo_dicts:\n",
    "    # repo_names.append(repo_dict[\"name\"])\n",
    "    repo_name = repo_dict['name']\n",
    "    repo_url = repo_dict['html_url']\n",
    "    repo_link = f\"<a href='{repo_url}'>{repo_name}</a>\"\n",
    "    repo_links.append(repo_link)\n",
    "\n",
    "    stars.append(repo_dict[\"stargazers_count\"])\n",
    "\n",
    "    owner = repo_dict['owner']['login']\n",
    "    description = repo_dict['description']\n",
    "    label = f\"{owner}<br />{description}\"\n",
    "    labels.append(label)\n",
    "\n",
    "# 可视化\n",
    "data = [\n",
    "    {\n",
    "        \"type\": \"bar\",\n",
    "        # \"x\": repo_names,\n",
    "        'x':repo_links,\n",
    "        \"y\": stars,\n",
    "        'hovertext': labels,\n",
    "        # 给条形指定了颜色和边框\n",
    "        \"marker\": {\n",
    "            \"color\": \"rgb(60,100,150)\",\n",
    "            \"line\": {\"width\": 1.5, \"color\": \"rgb(25,25,25)\"},\n",
    "        },\n",
    "        \"opacity\": 0.6,\n",
    "    }\n",
    "]\n",
    "my_layout = {\n",
    "    # 下来修改layout\n",
    "    \"title\": \"Github上最受欢迎的Python项目\",\n",
    "    \"titlefont\": {\"size\": 28},\n",
    "    \"xaxis\": {\n",
    "        \"title\": \"Repository\",\n",
    "        \"titlefont\": {\"size\": 24},\n",
    "        \"tickfont\": {\"size\": 14},\n",
    "    },\n",
    "    \"yaxis\": {\"title\": \"Stars\", \"titlefont\": {\"size\": 24}, \"tickfont\": {\"size\": 14}},\n",
    "}\n",
    "fig = {\"data\": data, \"layout\": my_layout}\n",
    "offline.plot(fig, filename=\"python_reposV3.html\")"
   ]
  }
 ],
 "metadata": {
  "interpreter": {
   "hash": "0a4596f6bf28f3bb4c51dd7abc582ccab9b24330e8a9dc4f63857311f67e8492"
  },
  "kernelspec": {
   "display_name": "Python 3.8.13 ('ubuntu2204VMenv')",
   "language": "python",
   "name": "python3"
  },
  "language_info": {
   "codemirror_mode": {
    "name": "ipython",
    "version": 3
   },
   "file_extension": ".py",
   "mimetype": "text/x-python",
   "name": "python",
   "nbconvert_exporter": "python",
   "pygments_lexer": "ipython3",
   "version": "3.8.13"
  },
  "orig_nbformat": 4
 },
 "nbformat": 4,
 "nbformat_minor": 2
}
