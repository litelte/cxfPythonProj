{
 "cells": [
  {
   "cell_type": "code",
   "execution_count": 1,
   "metadata": {
    "pycharm": {
     "name": "#%%\n"
    }
   },
   "outputs": [
    {
     "name": "stdout",
     "output_type": "stream",
     "text": [
      "Hello Python world!\n"
     ]
    }
   ],
   "source": [
    "message = \"Hello Python world!\"\n",
    "print(message)"
   ]
  },
  {
   "cell_type": "code",
   "execution_count": 2,
   "metadata": {
    "pycharm": {
     "name": "#%%\n"
    }
   },
   "outputs": [
    {
     "name": "stdout",
     "output_type": "stream",
     "text": [
      "Hello Python world!\n"
     ]
    }
   ],
   "source": [
    "message = \"Hello Python world!\"\n",
    "# 输出错误的未命名的变量后，系统会报错\n",
    "# print(mesage)\n",
    "# 更正变量名后，才会正常输出\n",
    "print(message)"
   ]
  },
  {
   "cell_type": "code",
   "execution_count": 7,
   "metadata": {
    "pycharm": {
     "name": "#%%\n"
    }
   },
   "outputs": [
    {
     "name": "stdout",
     "output_type": "stream",
     "text": [
      "这是第一个消息\n"
     ]
    }
   ],
   "source": [
    "# 将一条消息赋给变量，并将其打印出来。\n",
    "message1 = \"这是第一个消息\"\n",
    "print(message1)"
   ]
  },
  {
   "cell_type": "code",
   "execution_count": 8,
   "metadata": {
    "pycharm": {
     "name": "#%%\n"
    }
   },
   "outputs": [
    {
     "name": "stdout",
     "output_type": "stream",
     "text": [
      "这是第二条消息，不过赋值给了第一个变量上了\n"
     ]
    }
   ],
   "source": [
    "message1 = \"这是第二条消息，不过赋值给了第一个变量上了\"\n",
    "print(message1)"
   ]
  },
  {
   "cell_type": "code",
   "execution_count": 9,
   "metadata": {
    "pycharm": {
     "name": "#%%\n"
    }
   },
   "outputs": [],
   "source": [
    "# 在Python中，字符串都需要用引号引起来，用单引号或者双引号都可以\n",
    "# 也可以在字符串中包含引号和撇号"
   ]
  },
  {
   "cell_type": "code",
   "execution_count": 10,
   "metadata": {
    "pycharm": {
     "name": "#%%\n"
    }
   },
   "outputs": [
    {
     "name": "stdout",
     "output_type": "stream",
     "text": [
      "Ada Lovelace\n"
     ]
    }
   ],
   "source": [
    "# 使用方法修改字符串的大小写\n",
    "name = \"ada lovelace\"\n",
    "print(name.title())"
   ]
  },
  {
   "cell_type": "code",
   "execution_count": 11,
   "metadata": {
    "pycharm": {
     "name": "#%%\n"
    }
   },
   "outputs": [
    {
     "name": "stdout",
     "output_type": "stream",
     "text": [
      "ADA LOVELACE\n",
      "ada lovelace\n"
     ]
    }
   ],
   "source": [
    "# 将字符串改为全部大写或全部小写\n",
    "name = \"Ada Lovelace\"\n",
    "print(name.upper())\n",
    "print(name.lower())"
   ]
  },
  {
   "cell_type": "code",
   "execution_count": 12,
   "metadata": {
    "pycharm": {
     "name": "#%%\n"
    }
   },
   "outputs": [
    {
     "name": "stdout",
     "output_type": "stream",
     "text": [
      "ada lovelace\n"
     ]
    }
   ],
   "source": [
    "# 在字符串中使用变量\n",
    "first_name = \"ada\"\n",
    "last_name = \"lovelace\"\n",
    "# f字符串是设置格式的意思，format方法，可以与变量关联的信息来创建完整的消息\n",
    "full_name = f\"{first_name} {last_name}\"\n",
    "print(full_name)"
   ]
  },
  {
   "cell_type": "code",
   "execution_count": 13,
   "metadata": {
    "pycharm": {
     "name": "#%%\n"
    }
   },
   "outputs": [
    {
     "name": "stdout",
     "output_type": "stream",
     "text": [
      "Hello ada lovelace\n",
      "Hello, Ada Lovelace\n"
     ]
    }
   ],
   "source": [
    "# 使用f字符串来完成打招呼\n",
    "first_name=\"ada\"\n",
    "last_name=\"lovelace\"\n",
    "full_name=f\"{first_name} {last_name}\"\n",
    "words=\"hello\"\n",
    "#\n",
    "titleName = words.title()\n",
    "print(f\"{titleName} {full_name}\")\n",
    "# 还可以把整条消息赋给变量\n",
    "message = f\"Hello, {full_name.title()}\"\n",
    "print(message)"
   ]
  },
  {
   "cell_type": "markdown",
   "source": [],
   "metadata": {
    "collapsed": false,
    "pycharm": {
     "name": "#%% md\n"
    }
   }
  },
  {
   "cell_type": "code",
   "execution_count": 14,
   "metadata": {
    "pycharm": {
     "name": "#%%\n"
    }
   },
   "outputs": [
    {
     "name": "stdout",
     "output_type": "stream",
     "text": [
      "Python\n",
      "\tPython\n",
      "\n",
      "Python\n"
     ]
    }
   ],
   "source": [
    "# 添加空白\n",
    "# 通常使用制表符或换行符\n",
    "print(\"Python\")\n",
    "# \\t为制表符\n",
    "print(\"\\tPython\")\n",
    "# 换行符是\\n\n",
    "print(\"\\nPython\")"
   ]
  },
  {
   "cell_type": "code",
   "execution_count": 15,
   "metadata": {
    "pycharm": {
     "name": "#%%\n"
    }
   },
   "outputs": [
    {
     "name": "stdout",
     "output_type": "stream",
     "text": [
      "Language:\n",
      "\tPython\n",
      "\tC\n",
      "\tJavaScript\n",
      "\tJava\n"
     ]
    }
   ],
   "source": [
    "# 还可以在一个字符串中同时包含制表符和换行符\n",
    "print(\"Language:\\n\\tPython\\n\\tC\\n\\tJavaScript\\n\\tJava\")"
   ]
  },
  {
   "cell_type": "code",
   "execution_count": 16,
   "metadata": {
    "pycharm": {
     "name": "#%%\n"
    }
   },
   "outputs": [
    {
     "data": {
      "text/plain": "'pytho '"
     },
     "execution_count": 16,
     "metadata": {},
     "output_type": "execute_result"
    }
   ],
   "source": [
    "# 删除空白，使用rstrip()\n",
    "favorite_language = \"pytho \"\n",
    "# 有空格输出\n",
    "favorite_language\n",
    "# 去掉空格输出\n",
    "favorite_language.rstrip()\n",
    "# 又有了空格输出，可以看出，这个去掉只是暂时的\n",
    "favorite_language"
   ]
  },
  {
   "cell_type": "code",
   "execution_count": 17,
   "metadata": {
    "pycharm": {
     "name": "#%%\n"
    }
   },
   "outputs": [
    {
     "data": {
      "text/plain": "'Python'"
     },
     "execution_count": 17,
     "metadata": {},
     "output_type": "execute_result"
    }
   ],
   "source": [
    "# 要想永久删除这个空格，必须将操作的结果关联到变量\n",
    "favorite_language = 'Python '\n",
    "favorite_language = favorite_language.rstrip()\n",
    "favorite_language"
   ]
  },
  {
   "cell_type": "code",
   "execution_count": 18,
   "metadata": {
    "pycharm": {
     "name": "#%%\n"
    }
   },
   "outputs": [
    {
     "data": {
      "text/plain": "'Python'"
     },
     "execution_count": 18,
     "metadata": {},
     "output_type": "execute_result"
    }
   ],
   "source": [
    "# 上面的示例，是剔除掉字符串右边的空白，如果要提出左边的空白和中间的空白需要用：\n",
    "# lstrip()和strip()\n",
    "favorite_language = '  Python'\n",
    "favorite_language = favorite_language.lstrip()\n",
    "favorite_language"
   ]
  },
  {
   "cell_type": "code",
   "execution_count": 19,
   "metadata": {
    "pycharm": {
     "name": "#%%\n"
    }
   },
   "outputs": [
    {
     "data": {
      "text/plain": "'Python'"
     },
     "execution_count": 19,
     "metadata": {},
     "output_type": "execute_result"
    }
   ],
   "source": [
    "# 剔除两边的空白\n",
    "favorite_language = ' Python  '\n",
    "favorite_language = favorite_language.strip()\n",
    "favorite_language"
   ]
  },
  {
   "cell_type": "code",
   "execution_count": 20,
   "metadata": {
    "pycharm": {
     "name": "#%%\n"
    }
   },
   "outputs": [
    {
     "name": "stdout",
     "output_type": "stream",
     "text": [
      "One of Python's strengths is its diverse community\n"
     ]
    }
   ],
   "source": [
    "# 正确使用单双引号\n",
    "message = \"One of Python's strengths is its diverse community\"\n",
    "print(message)"
   ]
  },
  {
   "cell_type": "code",
   "execution_count": 21,
   "metadata": {
    "pycharm": {
     "name": "#%%\n"
    }
   },
   "outputs": [],
   "source": [
    "# 上面的例子就是，单引号在两个双引号之间，程序确实能正确理解\n",
    "# 然而，如果使用单引号在两个单引号之间的话，那结果就不太一样了\n",
    "# message = 'One of Python's strengths is its diverse community'\n",
    "# print(message)"
   ]
  },
  {
   "cell_type": "code",
   "execution_count": 22,
   "metadata": {
    "pycharm": {
     "name": "#%%\n"
    }
   },
   "outputs": [],
   "source": [
    "# 所以，为了避免上面的那种情况，还是最好要区别单双引号"
   ]
  },
  {
   "cell_type": "code",
   "execution_count": 23,
   "metadata": {
    "pycharm": {
     "name": "#%%\n"
    }
   },
   "outputs": [
    {
     "name": "stdout",
     "output_type": "stream",
     "text": [
      "Hello Eric, would you like to learn some Python today?\n"
     ]
    }
   ],
   "source": [
    "# 练习2-3\n",
    "yourName = 'eric'\n",
    "print(f\"Hello {yourName.title()}, would you like to learn some Python today?\")"
   ]
  },
  {
   "cell_type": "code",
   "execution_count": 24,
   "metadata": {
    "pycharm": {
     "name": "#%%\n"
    }
   },
   "outputs": [],
   "source": [
    "# 需要注意的是，f这个方法使用时，一定要注意：f后跟双引号\"\",不是变量不用加花括号"
   ]
  },
  {
   "cell_type": "code",
   "execution_count": 25,
   "metadata": {
    "pycharm": {
     "name": "#%%\n"
    }
   },
   "outputs": [
    {
     "name": "stdout",
     "output_type": "stream",
     "text": [
      "tim cook\n",
      "TIM COOK\n",
      "Tim Cook\n"
     ]
    }
   ],
   "source": [
    "# 练习2-4\n",
    "first_name = \"tim\"\n",
    "last_name = \"cook\"\n",
    "print(f\"{first_name.lower()} {last_name.lower()}\")\n",
    "print(f\"{first_name.upper()} {last_name.upper()}\")\n",
    "print(f\"{first_name.title()} {last_name.title()}\")\n"
   ]
  },
  {
   "cell_type": "code",
   "execution_count": 26,
   "metadata": {
    "pycharm": {
     "name": "#%%\n"
    }
   },
   "outputs": [
    {
     "name": "stdout",
     "output_type": "stream",
     "text": [
      "Albert Einstein once said, “A person who never made a mistake never tried anything new.”\n"
     ]
    }
   ],
   "source": [
    "# 练习2-5\n",
    "bigWord = 'Albert Einstein once said, “A person who never made a mistake never tried anything new.”'\n",
    "print(bigWord)"
   ]
  },
  {
   "cell_type": "code",
   "execution_count": 27,
   "metadata": {
    "pycharm": {
     "name": "#%%\n"
    }
   },
   "outputs": [
    {
     "name": "stdout",
     "output_type": "stream",
     "text": [
      "Albert Einstein once said, \"A person who never made a mistake never tried anything new.\"\n"
     ]
    }
   ],
   "source": [
    "# 练习2-6\n",
    "famous_person = \"Albert Einstein\"\n",
    "message = 'A person who never made a mistake never tried anything new.'\n",
    "print(f'{famous_person} once said, \"{message}\"')"
   ]
  },
  {
   "cell_type": "code",
   "execution_count": 11,
   "outputs": [
    {
     "data": {
      "text/plain": "'AlbertEinstein'"
     },
     "execution_count": 11,
     "metadata": {},
     "output_type": "execute_result"
    }
   ],
   "source": [
    "# 练习2-7\n",
    "famous_person_firstName = \"Albert\"\n",
    "famous_person_lastName = \"Einstein\"\n",
    "# famous_person = f\"{famous_person_firstName}{famous_person_lastName}\"\n",
    "# 创造一个人名\n",
    "# famous_person = print(f\"\\t{famous_person_firstName}{famous_person_lastName}\\n\")\n",
    "famous_person = famous_person_firstName+famous_person_lastName\n",
    "# 生成了一个字符串\n",
    "# 这种方式不是生成字符类型的数据，而是无类型的数据\n",
    "# famous_person = print(\"\\t\\n\"+famous_person+\"\\t\\n\")\n",
    "famous_person = '\\t\\n'+famous_person+'\\t\\n'\n",
    "# 去掉左边的空格\n",
    "famous_person.lstrip()\n",
    "# 去掉右边的空格\n",
    "famous_person.rstrip()\n",
    "# 去掉两边的空格\n",
    "famous_person.strip()\n",
    "\n",
    "# 使用函数剔除"
   ],
   "metadata": {
    "collapsed": false,
    "pycharm": {
     "name": "#%%\n"
    }
   }
  },
  {
   "cell_type": "code",
   "execution_count": null,
   "outputs": [],
   "source": [],
   "metadata": {
    "collapsed": false,
    "pycharm": {
     "name": "#%%\n"
    }
   }
  }
 ],
 "metadata": {
  "interpreter": {
   "hash": "2a1c5134f09a4e3c2c7847f64b09d100d113420894679a48e1947bfe27b2d3de"
  },
  "kernelspec": {
   "display_name": "Python 3.8.13 ('devenv')",
   "language": "python",
   "name": "python3"
  },
  "language_info": {
   "codemirror_mode": {
    "name": "ipython",
    "version": 3
   },
   "file_extension": ".py",
   "mimetype": "text/x-python",
   "name": "python",
   "nbconvert_exporter": "python",
   "pygments_lexer": "ipython3",
   "version": "3.8.13"
  },
  "orig_nbformat": 4
 },
 "nbformat": 4,
 "nbformat_minor": 2
}