{
 "cells": [
  {
   "cell_type": "code",
   "execution_count": 2,
   "metadata": {},
   "outputs": [
    {
     "name": "stdout",
     "output_type": "stream",
     "text": [
      "The following languages have been mentioned:\n",
      "C\n",
      "Ruby\n",
      "Python\n"
     ]
    }
   ],
   "source": [
    "# 提取字典中的所有值，剔除掉重复项\n",
    "# 对字典使用set()函数\n",
    "favorite_languages = {\n",
    "    'jen':'python',\n",
    "    'sarah':'c',\n",
    "    'edward':'ruby',\n",
    "    'phil':'python',\n",
    "}\n",
    "print(\"The following languages have been mentioned:\")\n",
    "for language in set(favorite_languages.values()):\n",
    "    print(language.title())"
   ]
  },
  {
   "cell_type": "code",
   "execution_count": 5,
   "metadata": {},
   "outputs": [
    {
     "data": {
      "text/plain": [
       "{'c', 'python', 'ruby'}"
      ]
     },
     "execution_count": 5,
     "metadata": {},
     "output_type": "execute_result"
    }
   ],
   "source": [
    "# 集合和字典容易混淆\n",
    "# 集合和字典都是花括号定义的，花括号没有键值对时，定义的就是集合\n",
    "# 定义一个集合：\n",
    "languages = {'python','ruby','python','c'}\n",
    "languages"
   ]
  },
  {
   "cell_type": "code",
   "execution_count": 15,
   "metadata": {},
   "outputs": [
    {
     "name": "stdout",
     "output_type": "stream",
     "text": [
      "DEFINE的含义是宏定义\t\n",
      "Java的含义是咖啡\t\n",
      "Ruby的含义是宝石\t\n",
      "int的含义是整型数字\t\n",
      "float的含义是浮点型数字\t\n",
      "-------分割线--------\n",
      "DEFINE的含义是宏定义\t\n",
      "Java的含义是咖啡\t\n",
      "Ruby的含义是宝石\t\n",
      "int的含义是整型数字\t\n",
      "float的含义是浮点型数字\t\n",
      "list的含义是列表\t\n",
      "dictionary的含义是字典\t\n",
      "tuple的含义是元组\t\n",
      "gather的含义是集合\t\n",
      "append的含义是集合添加的操作\t\n"
     ]
    }
   ],
   "source": [
    "# 练习6-4\n",
    "program_words = {\n",
    "    'DEFINE': '宏定义',\n",
    "    'Java': '咖啡',\n",
    "    'Ruby': '宝石',\n",
    "    'int': '整型数字',\n",
    "    'float': '浮点型数字',\n",
    "}\n",
    "# 遍历字典\n",
    "for word, information in program_words.items():\n",
    "    print(f\"{word}的含义是{information}\\t\")\n",
    "print(\"-------分割线--------\")\n",
    "# 向词汇表中添加5个Python术语\n",
    "program_words['list'] = '列表'\n",
    "program_words['dictionary'] = '字典'\n",
    "program_words['tuple'] = '元组'\n",
    "program_words['gather'] = '集合'\n",
    "program_words['append'] = '集合添加的操作'\n",
    "for word,information in program_words.items():\n",
    "    print(f\"{word}的含义是{information}\\t\")"
   ]
  },
  {
   "cell_type": "code",
   "execution_count": 29,
   "metadata": {},
   "outputs": [
    {
     "name": "stdout",
     "output_type": "stream",
     "text": [
      "The Nile runs throuth Egypt\t\n",
      "The Yellow River runs throuth China\t\n",
      "The Volga River runs throuth Russia\t\n",
      "打印出所有的河流名：\n",
      "nile\t\n",
      "yellow river\t\n",
      "volga river\t\n",
      "打印所有的国家：\n",
      "egypt\t\n",
      "china\t\n",
      "russia\t\n",
      "('nile', 'egypt')\n",
      "('yellow river', 'china')\n",
      "('volga river', 'russia')\n"
     ]
    }
   ],
   "source": [
    "# 练习6-5\n",
    "riversToCountry = {\n",
    "    'nile':'egypt',\n",
    "    'yellow river': 'china',\n",
    "    'volga river': 'russia',\n",
    "}\n",
    "for river,country in riversToCountry.items():\n",
    "    print(f\"The {river.title()} runs throuth {country.title()}\\t\")\n",
    "print('打印出所有的河流名：')\n",
    "for river in riversToCountry:\n",
    "    print(f\"{river}\\t\")\n",
    "\n",
    "print(\"打印所有的国家：\")\n",
    "for country in riversToCountry.values():\n",
    "    print(f\"{country}\\t\")\n",
    "\n",
    "# 如果使用item的话，是啥情况\n",
    "# 所以在不同时指定键和值的情况下，会打印出来字典的每一项元素\n",
    "for country in riversToCountry.items():\n",
    "    print(f\"{country}\")"
   ]
  },
  {
   "cell_type": "code",
   "execution_count": 1,
   "metadata": {},
   "outputs": [
    {
     "name": "stdout",
     "output_type": "stream",
     "text": [
      "zhang san,感谢您参与调查！\t\n",
      "li si,感谢您参与调查！\t\n",
      "wang ma zi,感谢您参与调查！\t\n",
      "xiao ming您好，未来期待有更好的合作，我仅代表编程界对您致以最高的邀请！\t\n",
      "xiao lan您好，未来期待有更好的合作，我仅代表编程界对您致以最高的邀请！\t\n",
      "xiao hong您好，未来期待有更好的合作，我仅代表编程界对您致以最高的邀请！\t\n"
     ]
    }
   ],
   "source": [
    "# 练习6-6\n",
    "# 预先接受人的名单premise_person\n",
    "favorite_languages = {\n",
    "    'zhang san': 'python',\n",
    "    'li si': 'java',\n",
    "    'wang ma zi': 'c',\n",
    "    'zhong nan shan': 'perl',\n",
    "    'zhang wen hong': 'javascript',\n",
    "}\n",
    "investigated_Persons = [\n",
    "    'zhang san',\n",
    "    'li si',\n",
    "    'wang ma zi',\n",
    "    'xiao ming',\n",
    "    'xiao lan',\n",
    "    'xiao hong',\n",
    "]\n",
    "# 遍历这个人员名单,找这个人员名单和被邀请名单中有重合的部分\n",
    "# 重合的说表示感谢，没重合的打印一条消息邀请他/她\n",
    "for investigated_Person in investigated_Persons:\n",
    "    is_investigated = False\n",
    "    for persion_Name in favorite_languages.keys():\n",
    "        if investigated_Person == persion_Name:\n",
    "            is_investigated = True\n",
    "            break\n",
    "    if is_investigated == True:\n",
    "        print(f\"{investigated_Person},感谢您参与调查！\\t\")\n",
    "    else:\n",
    "        print(f\"{investigated_Person}您好，未来期待有更好的合作，我仅代表编程界对您致以最高的邀请！\\t\")"
   ]
  }
 ],
 "metadata": {
  "interpreter": {
   "hash": "0a4596f6bf28f3bb4c51dd7abc582ccab9b24330e8a9dc4f63857311f67e8492"
  },
  "kernelspec": {
   "display_name": "Python 3.8.13 ('ubuntu2204VMenv')",
   "language": "python",
   "name": "python3"
  },
  "language_info": {
   "codemirror_mode": {
    "name": "ipython",
    "version": 3
   },
   "file_extension": ".py",
   "mimetype": "text/x-python",
   "name": "python",
   "nbconvert_exporter": "python",
   "pygments_lexer": "ipython3",
   "version": "3.8.13"
  },
  "orig_nbformat": 4
 },
 "nbformat": 4,
 "nbformat_minor": 2
}
